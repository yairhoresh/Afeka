{
 "cells": [
  {
   "cell_type": "code",
   "execution_count": 38,
   "id": "dfb83b53-9a8f-4572-ad6c-d2470caf3725",
   "metadata": {},
   "outputs": [],
   "source": [
    "import urllib.request \n",
    "import nltk\n",
    "#nltk.download('averaged_perceptron_tagger')\n"
   ]
  },
  {
   "cell_type": "code",
   "execution_count": 39,
   "id": "7a88c26c-8193-4541-9664-96cc6a932adb",
   "metadata": {},
   "outputs": [
    {
     "data": {
      "text/plain": [
       "[('time', 'NN'),\n",
       " ('flies', 'NNS'),\n",
       " ('like', 'IN'),\n",
       " ('an', 'DT'),\n",
       " ('arrow', 'NN')]"
      ]
     },
     "execution_count": 39,
     "metadata": {},
     "output_type": "execute_result"
    }
   ],
   "source": [
    "# List of POS tags and their meaning: https://stackoverflow.com/questions/15388831/what-are-all-possible-pos-tags-of-nltk\n",
    "nltk.pos_tag(nltk.word_tokenize('time flies like an arrow'))"
   ]
  },
  {
   "cell_type": "code",
   "execution_count": 43,
   "id": "a3d59988-6757-480e-a5ca-066fe4b2cf36",
   "metadata": {},
   "outputs": [
    {
     "data": {
      "application/vnd.jupyter.widget-view+json": {
       "model_id": "0ac0527854cf4bef80ccae13e14b1543",
       "version_major": 2,
       "version_minor": 0
      },
      "text/plain": [
       "Downloading:   0%|          | 0.00/1.11k [00:00<?, ?B/s]"
      ]
     },
     "metadata": {},
     "output_type": "display_data"
    },
    {
     "data": {
      "application/vnd.jupyter.widget-view+json": {
       "model_id": "ade5c545d523455ab1f5e82376b047e4",
       "version_major": 2,
       "version_minor": 0
      },
      "text/plain": [
       "Downloading:   0%|          | 0.00/299M [00:00<?, ?B/s]"
      ]
     },
     "metadata": {},
     "output_type": "display_data"
    },
    {
     "data": {
      "application/vnd.jupyter.widget-view+json": {
       "model_id": "0ef75f53f1d34efca5265b4294894ee8",
       "version_major": 2,
       "version_minor": 0
      },
      "text/plain": [
       "Downloading:   0%|          | 0.00/42.0 [00:00<?, ?B/s]"
      ]
     },
     "metadata": {},
     "output_type": "display_data"
    },
    {
     "data": {
      "application/vnd.jupyter.widget-view+json": {
       "model_id": "ff84ede18cfd48a19e7122902b48644f",
       "version_major": 2,
       "version_minor": 0
      },
      "text/plain": [
       "Downloading:   0%|          | 0.00/781k [00:00<?, ?B/s]"
      ]
     },
     "metadata": {},
     "output_type": "display_data"
    },
    {
     "data": {
      "application/vnd.jupyter.widget-view+json": {
       "model_id": "296e0cc70f9a44ad8c7d11bad79c7798",
       "version_major": 2,
       "version_minor": 0
      },
      "text/plain": [
       "Downloading:   0%|          | 0.00/869k [00:00<?, ?B/s]"
      ]
     },
     "metadata": {},
     "output_type": "display_data"
    },
    {
     "data": {
      "application/vnd.jupyter.widget-view+json": {
       "model_id": "0780ef92d9dd4471ba87239bff66c70f",
       "version_major": 2,
       "version_minor": 0
      },
      "text/plain": [
       "Downloading:   0%|          | 0.00/2.05M [00:00<?, ?B/s]"
      ]
     },
     "metadata": {},
     "output_type": "display_data"
    },
    {
     "name": "stdout",
     "output_type": "stream",
     "text": [
      "[{'translation_text': 'אליס בארץ הפלאות.'}]\n"
     ]
    }
   ],
   "source": [
    "# https://huggingface.co/Helsinki-NLP/opus-mt-en-he\n",
    "from transformers import pipeline\n",
    "pipe = pipeline(\"translation\", model=\"Helsinki-NLP/opus-mt-en-he\")\n",
    "print(pipe(\"alice in the wonderland\"))\n"
   ]
  },
  {
   "cell_type": "code",
   "execution_count": 40,
   "id": "b27feac5-c91e-4697-825a-2ce601a9f193",
   "metadata": {},
   "outputs": [],
   "source": [
    "alice_http_response = urllib.request.urlopen('https://www.cs.cmu.edu/~rgs/alice-I.html')\n",
    "alice_line_by_line = [line.decode('utf-8') for line in alice_http_response]\n"
   ]
  },
  {
   "cell_type": "code",
   "execution_count": 42,
   "id": "e5a4b11f-87ed-4eac-bcf3-0b29f6ade798",
   "metadata": {},
   "outputs": [
    {
     "data": {
      "text/plain": [
       "['<HTML>\\n',\n",
       " '<HEAD>\\n',\n",
       " \"<Title>Alice's Adventures in Wonderland -- Chapter I</Title>\\n\",\n",
       " '</HEAD>\\n',\n",
       " '<BODY>\\n',\n",
       " '<H2>CHAPTER I</H2>\\n',\n",
       " '                      <H2>Down the Rabbit-Hole</H2>\\n',\n",
       " '\\n',\n",
       " '  Alice was beginning to get very tired of sitting by her sister\\n',\n",
       " 'on the bank, and of having nothing to do:  once or twice she had\\n',\n",
       " 'peeped into the book her sister was reading, but it had no\\n',\n",
       " \"pictures or conversations in it, `and what is the use of a book,'\\n\",\n",
       " \"thought Alice `without pictures or conversation?'\\n\",\n",
       " '<P>\\n',\n",
       " '  So she was considering in her own mind (as well as she could,\\n',\n",
       " 'for the hot day made her feel very sleepy and stupid), whether\\n',\n",
       " 'the pleasure of making a daisy-chain would be worth the trouble\\n',\n",
       " 'of getting up and picking the daisies, when suddenly a White\\n',\n",
       " 'Rabbit with pink eyes ran close by her.\\n',\n",
       " '<P>\\n']"
      ]
     },
     "execution_count": 42,
     "metadata": {},
     "output_type": "execute_result"
    }
   ],
   "source": [
    "alice_line_by_line[0:20]"
   ]
  },
  {
   "cell_type": "markdown",
   "id": "7e7b96e5-fba8-452f-85dc-93fa5825d5f0",
   "metadata": {},
   "source": [
    "# Tasks\n",
    "\n",
    "### 1. Clean the text as much as you can \n",
    "### 2. How many times 'Alice' is mentioned \n",
    "### 3. How many verbs and nouns are there in the chapter?\n",
    "### 4. What is the most common verb?\n",
    "### 5. Do a wordcloud for the text\n",
    "### 6. Transalate the chapter to Hebrew"
   ]
  },
  {
   "cell_type": "code",
   "execution_count": null,
   "id": "bd7b9996-7e64-466f-8d7b-569ce2d59747",
   "metadata": {},
   "outputs": [],
   "source": []
  }
 ],
 "metadata": {
  "kernelspec": {
   "display_name": "Python 3",
   "language": "python",
   "name": "python3"
  },
  "language_info": {
   "codemirror_mode": {
    "name": "ipython",
    "version": 3
   },
   "file_extension": ".py",
   "mimetype": "text/x-python",
   "name": "python",
   "nbconvert_exporter": "python",
   "pygments_lexer": "ipython3",
   "version": "3.8.8"
  }
 },
 "nbformat": 4,
 "nbformat_minor": 5
}

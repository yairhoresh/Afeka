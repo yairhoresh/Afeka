{
 "cells": [
  {
   "cell_type": "code",
   "execution_count": 1,
   "id": "4a53718f-8f0f-4c78-84e1-f3e727b5ce1d",
   "metadata": {},
   "outputs": [],
   "source": [
    "import re\n",
    "import nltk\n",
    "import pandas as pd\n",
    "from nltk.tokenize import word_tokenize\n",
    "from nltk.stem import WordNetLemmatizer\n",
    "from nltk.stem import PorterStemmer "
   ]
  },
  {
   "cell_type": "code",
   "execution_count": 2,
   "id": "7adf629f-2610-4387-bad0-f46085baa7f4",
   "metadata": {},
   "outputs": [
    {
     "name": "stdout",
     "output_type": "stream",
     "text": [
      "['San', 'Francisco', 'always', 'was', 'California', \"'s\", 'most', 'beautiful', 'city', '.', 'SF', 'rocks', '!']\n"
     ]
    }
   ],
   "source": [
    "data = \"San Francisco always was California's most beautiful city. SF rocks!\"\n",
    "tokenized_text=word_tokenize(data)\n",
    "print(tokenized_text)"
   ]
  },
  {
   "cell_type": "code",
   "execution_count": 3,
   "id": "8eb72b7f-1d27-4348-9c92-de664500ca09",
   "metadata": {},
   "outputs": [
    {
     "data": {
      "text/plain": [
       "['san',\n",
       " 'francisco',\n",
       " 'alway',\n",
       " 'wa',\n",
       " 'california',\n",
       " \"'s\",\n",
       " 'most',\n",
       " 'beauti',\n",
       " 'citi',\n",
       " '.',\n",
       " 'sf',\n",
       " 'rock',\n",
       " '!']"
      ]
     },
     "execution_count": 3,
     "metadata": {},
     "output_type": "execute_result"
    }
   ],
   "source": [
    "stemmer = PorterStemmer()\n",
    "stemmed_words = [stemmer.stem(word) for word in tokenized_text]\n",
    "stemmed_words"
   ]
  },
  {
   "cell_type": "code",
   "execution_count": 4,
   "id": "c895dfde-156b-4806-85db-909db3df94b4",
   "metadata": {},
   "outputs": [
    {
     "data": {
      "text/plain": [
       "['San',\n",
       " 'Francisco',\n",
       " 'always',\n",
       " 'wa',\n",
       " 'California',\n",
       " \"'s\",\n",
       " 'most',\n",
       " 'beautiful',\n",
       " 'city',\n",
       " '.',\n",
       " 'SF',\n",
       " 'rock',\n",
       " '!']"
      ]
     },
     "execution_count": 4,
     "metadata": {},
     "output_type": "execute_result"
    }
   ],
   "source": [
    "lemmatizer = WordNetLemmatizer()\n",
    "lemmatized_words = [lemmatizer.lemmatize(word) for word in tokenized_text]\n",
    "lemmatized_words"
   ]
  },
  {
   "cell_type": "code",
   "execution_count": 5,
   "id": "9c0be4e7-3b57-4bfb-b7c4-0ba4998976bf",
   "metadata": {},
   "outputs": [
    {
     "data": {
      "text/html": [
       "<div>\n",
       "<style scoped>\n",
       "    .dataframe tbody tr th:only-of-type {\n",
       "        vertical-align: middle;\n",
       "    }\n",
       "\n",
       "    .dataframe tbody tr th {\n",
       "        vertical-align: top;\n",
       "    }\n",
       "\n",
       "    .dataframe thead th {\n",
       "        text-align: right;\n",
       "    }\n",
       "</style>\n",
       "<table border=\"1\" class=\"dataframe\">\n",
       "  <thead>\n",
       "    <tr style=\"text-align: right;\">\n",
       "      <th></th>\n",
       "      <th>tokens</th>\n",
       "      <th>stems</th>\n",
       "      <th>lemmas</th>\n",
       "    </tr>\n",
       "  </thead>\n",
       "  <tbody>\n",
       "    <tr>\n",
       "      <th>0</th>\n",
       "      <td>San</td>\n",
       "      <td>san</td>\n",
       "      <td>San</td>\n",
       "    </tr>\n",
       "    <tr>\n",
       "      <th>1</th>\n",
       "      <td>Francisco</td>\n",
       "      <td>francisco</td>\n",
       "      <td>Francisco</td>\n",
       "    </tr>\n",
       "    <tr>\n",
       "      <th>2</th>\n",
       "      <td>always</td>\n",
       "      <td>alway</td>\n",
       "      <td>always</td>\n",
       "    </tr>\n",
       "    <tr>\n",
       "      <th>3</th>\n",
       "      <td>was</td>\n",
       "      <td>wa</td>\n",
       "      <td>wa</td>\n",
       "    </tr>\n",
       "    <tr>\n",
       "      <th>4</th>\n",
       "      <td>California</td>\n",
       "      <td>california</td>\n",
       "      <td>California</td>\n",
       "    </tr>\n",
       "    <tr>\n",
       "      <th>5</th>\n",
       "      <td>'s</td>\n",
       "      <td>'s</td>\n",
       "      <td>'s</td>\n",
       "    </tr>\n",
       "    <tr>\n",
       "      <th>6</th>\n",
       "      <td>most</td>\n",
       "      <td>most</td>\n",
       "      <td>most</td>\n",
       "    </tr>\n",
       "    <tr>\n",
       "      <th>7</th>\n",
       "      <td>beautiful</td>\n",
       "      <td>beauti</td>\n",
       "      <td>beautiful</td>\n",
       "    </tr>\n",
       "    <tr>\n",
       "      <th>8</th>\n",
       "      <td>city</td>\n",
       "      <td>citi</td>\n",
       "      <td>city</td>\n",
       "    </tr>\n",
       "    <tr>\n",
       "      <th>9</th>\n",
       "      <td>.</td>\n",
       "      <td>.</td>\n",
       "      <td>.</td>\n",
       "    </tr>\n",
       "    <tr>\n",
       "      <th>10</th>\n",
       "      <td>SF</td>\n",
       "      <td>sf</td>\n",
       "      <td>SF</td>\n",
       "    </tr>\n",
       "    <tr>\n",
       "      <th>11</th>\n",
       "      <td>rocks</td>\n",
       "      <td>rock</td>\n",
       "      <td>rock</td>\n",
       "    </tr>\n",
       "    <tr>\n",
       "      <th>12</th>\n",
       "      <td>!</td>\n",
       "      <td>!</td>\n",
       "      <td>!</td>\n",
       "    </tr>\n",
       "  </tbody>\n",
       "</table>\n",
       "</div>"
      ],
      "text/plain": [
       "        tokens       stems      lemmas\n",
       "0          San         san         San\n",
       "1    Francisco   francisco   Francisco\n",
       "2       always       alway      always\n",
       "3          was          wa          wa\n",
       "4   California  california  California\n",
       "5           's          's          's\n",
       "6         most        most        most\n",
       "7    beautiful      beauti   beautiful\n",
       "8         city        citi        city\n",
       "9            .           .           .\n",
       "10          SF          sf          SF\n",
       "11       rocks        rock        rock\n",
       "12           !           !           !"
      ]
     },
     "execution_count": 5,
     "metadata": {},
     "output_type": "execute_result"
    }
   ],
   "source": [
    "# into a dataframe\n",
    "pd.DataFrame({'tokens':tokenized_text, 'stems':stemmed_words, 'lemmas':lemmatized_words})"
   ]
  },
  {
   "cell_type": "code",
   "execution_count": null,
   "id": "092939e6-768e-4e50-af31-1324b9942867",
   "metadata": {},
   "outputs": [],
   "source": []
  },
  {
   "cell_type": "code",
   "execution_count": null,
   "id": "d0ebe80c-f6b4-4d59-a142-440dd4f9c622",
   "metadata": {},
   "outputs": [],
   "source": []
  }
 ],
 "metadata": {
  "kernelspec": {
   "display_name": "Python 3",
   "language": "python",
   "name": "python3"
  },
  "language_info": {
   "codemirror_mode": {
    "name": "ipython",
    "version": 3
   },
   "file_extension": ".py",
   "mimetype": "text/x-python",
   "name": "python",
   "nbconvert_exporter": "python",
   "pygments_lexer": "ipython3",
   "version": "3.8.8"
  }
 },
 "nbformat": 4,
 "nbformat_minor": 5
}

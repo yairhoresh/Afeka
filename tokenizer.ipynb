{
 "cells": [
  {
   "cell_type": "code",
   "execution_count": 2,
   "id": "4a53718f-8f0f-4c78-84e1-f3e727b5ce1d",
   "metadata": {},
   "outputs": [],
   "source": [
    "import re\n",
    "import nltk\n",
    "from nltk.tokenize import word_tokenize"
   ]
  },
  {
   "cell_type": "code",
   "execution_count": 32,
   "id": "f0239ee2-63ec-4dc7-bd47-60b0ac8b97b5",
   "metadata": {},
   "outputs": [
    {
     "name": "stdout",
     "output_type": "stream",
     "text": [
      "['Birds', 'of', 'a', 'feather', 'flock', 'together']\n"
     ]
    }
   ],
   "source": [
    "data = \"Birds of a feather flock together\"\n",
    "tokenized_text=word_tokenize(data)\n",
    "print(tokenized_text)"
   ]
  },
  {
   "cell_type": "code",
   "execution_count": 5,
   "id": "7adf629f-2610-4387-bad0-f46085baa7f4",
   "metadata": {},
   "outputs": [
    {
     "name": "stdout",
     "output_type": "stream",
     "text": [
      "['San', 'Francisco', 'is', 'California', \"'s\", 'most', 'beatiful', 'city', '.', 'I', \"'m\", 'thinking', 'of', 'doing', 'my', 'Ph.D', 'their']\n"
     ]
    }
   ],
   "source": [
    "data = \"San Francisco is California's most beautiful city. I'm was thinking of doing my Ph.D their.\"\n",
    "tokenized_text=word_tokenize(data)\n",
    "print(tokenized_text)"
   ]
  },
  {
   "cell_type": "code",
   "execution_count": 13,
   "id": "dff69a42-caa0-4924-8582-4e656a7db58b",
   "metadata": {},
   "outputs": [
    {
     "name": "stdout",
     "output_type": "stream",
     "text": [
      "['San', 'Francisco', 'is', 'California', \"'s\", 'most', 'beautiful', 'city', '.', 'I', \"'m\", 'thinking', 'of', 'doing', 'my', 'Ph.D', 'their', '.']\n"
     ]
    }
   ],
   "source": [
    "data = \"San Francisco is California's most beautiful city. I'm was thinking of doing my Ph.D their.\"\n",
    "tokenized_text=word_tokenize(data)\n",
    "print(tokenized_text)"
   ]
  },
  {
   "cell_type": "code",
   "execution_count": null,
   "id": "01feff77-0be7-44f3-9f0d-1396beac5efb",
   "metadata": {},
   "outputs": [],
   "source": [
    "# build our own tokenizer"
   ]
  },
  {
   "cell_type": "code",
   "execution_count": 24,
   "id": "49f51b47-f055-497a-93fb-b2a4a01cdab7",
   "metadata": {},
   "outputs": [
    {
     "data": {
      "text/plain": [
       "['San',\n",
       " 'Francisco',\n",
       " 'is',\n",
       " \"California's\",\n",
       " 'most',\n",
       " 'beautiful',\n",
       " 'city',\n",
       " \"I'm\",\n",
       " 'thinking',\n",
       " 'of',\n",
       " 'doing',\n",
       " 'my',\n",
       " 'Ph.D',\n",
       " 'their.']"
      ]
     },
     "execution_count": 24,
     "metadata": {},
     "output_type": "execute_result"
    }
   ],
   "source": [
    "word_delimiters = re.compile('\\s|\\.\\s|\\,\\s')\n",
    "\n",
    "list_of_words = re.split(word_delimiters, data)\n",
    "list_of_words"
   ]
  },
  {
   "cell_type": "code",
   "execution_count": 29,
   "id": "841d6a61-ad13-4960-985d-6d58918509de",
   "metadata": {},
   "outputs": [
    {
     "name": "stdout",
     "output_type": "stream",
     "text": [
      "San\n",
      "Francisco\n",
      "is\n",
      "Californias\n",
      "most\n",
      "beautiful\n",
      "city\n",
      "Im\n",
      "thinking\n",
      "of\n",
      "doing\n",
      "my\n",
      "PhD\n",
      "their\n"
     ]
    }
   ],
   "source": [
    "for word in list_of_words:\n",
    "    print(re.sub('\\W', '', word))"
   ]
  },
  {
   "cell_type": "code",
   "execution_count": 31,
   "id": "582db2c6-f38b-45a5-bc80-03c7bc3e7877",
   "metadata": {},
   "outputs": [
    {
     "name": "stdout",
     "output_type": "stream",
     "text": [
      "San\n",
      "Francisco\n",
      "is\n",
      "California's\n",
      "most\n",
      "beautiful\n",
      "city\n",
      "I'm\n",
      "thinking\n",
      "of\n",
      "doing\n",
      "my\n",
      "Ph.D\n",
      "their\n"
     ]
    }
   ],
   "source": [
    "for word in list_of_words:\n",
    "    print(re.sub('^\\W+|\\W+$', '', word))"
   ]
  },
  {
   "cell_type": "code",
   "execution_count": null,
   "id": "9b527bc0-e63d-49f2-a442-b1e55abb1225",
   "metadata": {},
   "outputs": [],
   "source": []
  }
 ],
 "metadata": {
  "kernelspec": {
   "display_name": "Python 3",
   "language": "python",
   "name": "python3"
  },
  "language_info": {
   "codemirror_mode": {
    "name": "ipython",
    "version": 3
   },
   "file_extension": ".py",
   "mimetype": "text/x-python",
   "name": "python",
   "nbconvert_exporter": "python",
   "pygments_lexer": "ipython3",
   "version": "3.8.8"
  }
 },
 "nbformat": 4,
 "nbformat_minor": 5
}

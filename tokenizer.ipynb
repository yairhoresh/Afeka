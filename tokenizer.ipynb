{
 "cells": [
  {
   "cell_type": "code",
   "execution_count": 1,
   "id": "4a53718f-8f0f-4c78-84e1-f3e727b5ce1d",
   "metadata": {},
   "outputs": [],
   "source": [
    "import re\n",
    "import nltk\n",
    "from nltk.tokenize import word_tokenize"
   ]
  },
  {
   "cell_type": "code",
   "execution_count": 2,
   "id": "f0239ee2-63ec-4dc7-bd47-60b0ac8b97b5",
   "metadata": {},
   "outputs": [
    {
     "data": {
      "text/plain": [
       "['Birds', 'of', 'a', 'feather', 'flock', 'together']"
      ]
     },
     "execution_count": 2,
     "metadata": {},
     "output_type": "execute_result"
    }
   ],
   "source": [
    "text = \"Birds of a feather flock together\"\n",
    "word_tokenize(text)\n"
   ]
  },
  {
   "cell_type": "code",
   "execution_count": 3,
   "id": "dff69a42-caa0-4924-8582-4e656a7db58b",
   "metadata": {},
   "outputs": [
    {
     "name": "stdout",
     "output_type": "stream",
     "text": [
      "['San', 'Francisco', 'is', 'California', \"'s\", 'most', 'beautiful', 'city', '.', 'I', \"'m\", 'was', 'thinking', 'of', 'doing', 'my', 'Ph.D', 'their', '.']\n"
     ]
    }
   ],
   "source": [
    "text = \"San Francisco is California's most beautiful city. I'm was thinking of doing my Ph.D their.\"\n",
    "tokenized_text=word_tokenize(text)\n",
    "print(tokenized_text)"
   ]
  },
  {
   "cell_type": "code",
   "execution_count": 4,
   "id": "01feff77-0be7-44f3-9f0d-1396beac5efb",
   "metadata": {},
   "outputs": [],
   "source": [
    "# build our own tokenizer"
   ]
  },
  {
   "cell_type": "code",
   "execution_count": 5,
   "id": "49f51b47-f055-497a-93fb-b2a4a01cdab7",
   "metadata": {},
   "outputs": [
    {
     "data": {
      "text/plain": [
       "['San',\n",
       " 'Francisco',\n",
       " 'is',\n",
       " \"California's\",\n",
       " 'most',\n",
       " 'beautiful',\n",
       " 'city',\n",
       " \"I'm\",\n",
       " 'was',\n",
       " 'thinking',\n",
       " 'of',\n",
       " 'doing',\n",
       " 'my',\n",
       " 'Ph.D',\n",
       " 'their.']"
      ]
     },
     "execution_count": 5,
     "metadata": {},
     "output_type": "execute_result"
    }
   ],
   "source": [
    "word_delimiters = re.compile('\\s|\\.\\s|\\,\\s')\n",
    "\n",
    "list_of_words = re.split(word_delimiters, text)\n",
    "list_of_words"
   ]
  },
  {
   "cell_type": "code",
   "execution_count": 6,
   "id": "78db8f2b-6f1a-4f57-acb8-705543e02e52",
   "metadata": {},
   "outputs": [],
   "source": [
    "# I don't like the . after their"
   ]
  },
  {
   "cell_type": "code",
   "execution_count": 7,
   "id": "841d6a61-ad13-4960-985d-6d58918509de",
   "metadata": {},
   "outputs": [
    {
     "name": "stdout",
     "output_type": "stream",
     "text": [
      "San\n",
      "Francisco\n",
      "is\n",
      "Californias\n",
      "most\n",
      "beautiful\n",
      "city\n",
      "Im\n",
      "was\n",
      "thinking\n",
      "of\n",
      "doing\n",
      "my\n",
      "PhD\n",
      "their\n"
     ]
    }
   ],
   "source": [
    "for word in list_of_words:\n",
    "    print(re.sub('\\W', '', word))"
   ]
  },
  {
   "cell_type": "code",
   "execution_count": 8,
   "id": "5fba2ef7-f0b2-4a49-b3ed-7c2f91746152",
   "metadata": {},
   "outputs": [],
   "source": [
    "# I do like I'm and Ph.D as they were"
   ]
  },
  {
   "cell_type": "code",
   "execution_count": 9,
   "id": "582db2c6-f38b-45a5-bc80-03c7bc3e7877",
   "metadata": {},
   "outputs": [
    {
     "name": "stdout",
     "output_type": "stream",
     "text": [
      "San\n",
      "Francisco\n",
      "is\n",
      "California's\n",
      "most\n",
      "beautiful\n",
      "city\n",
      "I'm\n",
      "was\n",
      "thinking\n",
      "of\n",
      "doing\n",
      "my\n",
      "Ph.D\n",
      "their\n"
     ]
    }
   ],
   "source": [
    "for word in list_of_words:\n",
    "    print(re.sub('^\\W+|\\W+$', '', word))"
   ]
  },
  {
   "cell_type": "code",
   "execution_count": null,
   "id": "b807e702-a9da-4d7a-a343-e96a5bacedf9",
   "metadata": {},
   "outputs": [],
   "source": []
  }
 ],
 "metadata": {
  "kernelspec": {
   "display_name": "Python 3",
   "language": "python",
   "name": "python3"
  },
  "language_info": {
   "codemirror_mode": {
    "name": "ipython",
    "version": 3
   },
   "file_extension": ".py",
   "mimetype": "text/x-python",
   "name": "python",
   "nbconvert_exporter": "python",
   "pygments_lexer": "ipython3",
   "version": "3.8.8"
  }
 },
 "nbformat": 4,
 "nbformat_minor": 5
}

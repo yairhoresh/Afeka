{
 "cells": [
  {
   "cell_type": "code",
   "execution_count": 1,
   "id": "1f22690b-43bf-48cc-95fe-63632fdff8ee",
   "metadata": {},
   "outputs": [],
   "source": [
    "import nltk\n",
    "import re\n",
    "from collections import Counter\n",
    "import pandas as pd\n",
    "#nltk.download(\"movie_reviews\")\n",
    "from nltk.corpus import movie_reviews as mr\n",
    "from nltk.metrics.distance import edit_distance\n",
    "import numpy as np"
   ]
  },
  {
   "cell_type": "code",
   "execution_count": 2,
   "id": "86e97cb9-11fb-4d1b-a0d6-bc40ac6ef685",
   "metadata": {},
   "outputs": [
    {
     "name": "stdout",
     "output_type": "stream",
     "text": [
      "1583820 65258 2000\n"
     ]
    }
   ],
   "source": [
    "print(len(mr.words()), len(mr.sents()), len(mr.paras()))"
   ]
  },
  {
   "cell_type": "code",
   "execution_count": 3,
   "id": "d0cd727d-17c7-4c7b-ad55-9ad6f4a5d029",
   "metadata": {},
   "outputs": [
    {
     "data": {
      "text/plain": [
       "[['plot', ':', 'two', 'teen', 'couples', 'go', 'to', 'a', 'church', 'party', ',', 'drink', 'and', 'then', 'drive', '.'], ['they', 'get', 'into', 'an', 'accident', '.'], ...]"
      ]
     },
     "execution_count": 3,
     "metadata": {},
     "output_type": "execute_result"
    }
   ],
   "source": [
    "mr.sents()"
   ]
  },
  {
   "cell_type": "code",
   "execution_count": 4,
   "id": "243ccf28-654b-4dad-9ab4-b3d86df5d6f5",
   "metadata": {},
   "outputs": [],
   "source": [
    "# put the sentences in a dataframe\n",
    "list_of_sentences = []\n",
    "for list_of_words in mr.sents():\n",
    "    sentence = ' '.join(list_of_words)\n",
    "    list_of_sentences.append({'sentence':re.sub('\\W+', ' ', sentence).strip(), 'sentence_no_spaces':re.sub('\\W+', '', sentence)})\n",
    "\n",
    "df = pd.DataFrame(list_of_sentences)"
   ]
  },
  {
   "cell_type": "code",
   "execution_count": 5,
   "id": "911afd4a-56ea-44e1-bc9c-15565d92e13d",
   "metadata": {},
   "outputs": [
    {
     "data": {
      "text/html": [
       "<div>\n",
       "<style scoped>\n",
       "    .dataframe tbody tr th:only-of-type {\n",
       "        vertical-align: middle;\n",
       "    }\n",
       "\n",
       "    .dataframe tbody tr th {\n",
       "        vertical-align: top;\n",
       "    }\n",
       "\n",
       "    .dataframe thead th {\n",
       "        text-align: right;\n",
       "    }\n",
       "</style>\n",
       "<table border=\"1\" class=\"dataframe\">\n",
       "  <thead>\n",
       "    <tr style=\"text-align: right;\">\n",
       "      <th></th>\n",
       "      <th>sentence</th>\n",
       "      <th>sentence_no_spaces</th>\n",
       "    </tr>\n",
       "  </thead>\n",
       "  <tbody>\n",
       "    <tr>\n",
       "      <th>0</th>\n",
       "      <td>plot two teen couples go to a church party dri...</td>\n",
       "      <td>plottwoteencouplesgotoachurchpartydrinkandthen...</td>\n",
       "    </tr>\n",
       "    <tr>\n",
       "      <th>1</th>\n",
       "      <td>they get into an accident</td>\n",
       "      <td>theygetintoanaccident</td>\n",
       "    </tr>\n",
       "    <tr>\n",
       "      <th>2</th>\n",
       "      <td>one of the guys dies but his girlfriend contin...</td>\n",
       "      <td>oneoftheguysdiesbuthisgirlfriendcontinuestosee...</td>\n",
       "    </tr>\n",
       "    <tr>\n",
       "      <th>3</th>\n",
       "      <td>what s the deal</td>\n",
       "      <td>whatsthedeal</td>\n",
       "    </tr>\n",
       "    <tr>\n",
       "      <th>4</th>\n",
       "      <td>watch the movie and sorta find out</td>\n",
       "      <td>watchthemovieandsortafindout</td>\n",
       "    </tr>\n",
       "    <tr>\n",
       "      <th>...</th>\n",
       "      <td>...</td>\n",
       "      <td>...</td>\n",
       "    </tr>\n",
       "    <tr>\n",
       "      <th>65253</th>\n",
       "      <td>it s a quick straight shot to the movie s end</td>\n",
       "      <td>itsaquickstraightshottothemoviesend</td>\n",
       "    </tr>\n",
       "    <tr>\n",
       "      <th>65254</th>\n",
       "      <td>in terms of overall quality i would compare th...</td>\n",
       "      <td>intermsofoverallqualityiwouldcomparethetrumans...</td>\n",
       "    </tr>\n",
       "    <tr>\n",
       "      <th>65255</th>\n",
       "      <td>both films are well made with interesting stor...</td>\n",
       "      <td>bothfilmsarewellmadewithinterestingstoriesseti...</td>\n",
       "    </tr>\n",
       "    <tr>\n",
       "      <th>65256</th>\n",
       "      <td>but neither film really felt like it capitaliz...</td>\n",
       "      <td>butneitherfilmreallyfeltlikeitcapitalizedonall...</td>\n",
       "    </tr>\n",
       "    <tr>\n",
       "      <th>65257</th>\n",
       "      <td>nevertheless i look forward to niccol s next f...</td>\n",
       "      <td>neverthelessilookforwardtoniccolsnextfilmwhate...</td>\n",
       "    </tr>\n",
       "  </tbody>\n",
       "</table>\n",
       "<p>65258 rows × 2 columns</p>\n",
       "</div>"
      ],
      "text/plain": [
       "                                                sentence  \\\n",
       "0      plot two teen couples go to a church party dri...   \n",
       "1                              they get into an accident   \n",
       "2      one of the guys dies but his girlfriend contin...   \n",
       "3                                        what s the deal   \n",
       "4                     watch the movie and sorta find out   \n",
       "...                                                  ...   \n",
       "65253      it s a quick straight shot to the movie s end   \n",
       "65254  in terms of overall quality i would compare th...   \n",
       "65255  both films are well made with interesting stor...   \n",
       "65256  but neither film really felt like it capitaliz...   \n",
       "65257  nevertheless i look forward to niccol s next f...   \n",
       "\n",
       "                                      sentence_no_spaces  \n",
       "0      plottwoteencouplesgotoachurchpartydrinkandthen...  \n",
       "1                                  theygetintoanaccident  \n",
       "2      oneoftheguysdiesbuthisgirlfriendcontinuestosee...  \n",
       "3                                           whatsthedeal  \n",
       "4                           watchthemovieandsortafindout  \n",
       "...                                                  ...  \n",
       "65253                itsaquickstraightshottothemoviesend  \n",
       "65254  intermsofoverallqualityiwouldcomparethetrumans...  \n",
       "65255  bothfilmsarewellmadewithinterestingstoriesseti...  \n",
       "65256  butneitherfilmreallyfeltlikeitcapitalizedonall...  \n",
       "65257  neverthelessilookforwardtoniccolsnextfilmwhate...  \n",
       "\n",
       "[65258 rows x 2 columns]"
      ]
     },
     "execution_count": 5,
     "metadata": {},
     "output_type": "execute_result"
    }
   ],
   "source": [
    "df"
   ]
  },
  {
   "cell_type": "code",
   "execution_count": 6,
   "id": "b1270780-92b6-444e-a732-1b5716e4793c",
   "metadata": {},
   "outputs": [
    {
     "name": "stdout",
     "output_type": "stream",
     "text": [
      "CPU times: total: 406 ms\n",
      "Wall time: 409 ms\n"
     ]
    }
   ],
   "source": [
    "%%time\n",
    "# build a dictionay\n",
    "\n",
    "count_words = Counter()\n",
    "\n",
    "# count everything\n",
    "for sentence in df.sentence:\n",
    "    for word in sentence.split(' '):\n",
    "        count_words[word] += 1\n",
    "                               "
   ]
  },
  {
   "cell_type": "code",
   "execution_count": 7,
   "id": "d400c903-990e-48c3-8f4b-ba0851256415",
   "metadata": {},
   "outputs": [
    {
     "data": {
      "text/plain": [
       "39697"
      ]
     },
     "execution_count": 7,
     "metadata": {},
     "output_type": "execute_result"
    }
   ],
   "source": [
    "len(count_words)"
   ]
  },
  {
   "cell_type": "code",
   "execution_count": 8,
   "id": "310b2ac2-4809-4b5e-94f9-a0503d1592ac",
   "metadata": {},
   "outputs": [
    {
     "data": {
      "text/plain": [
       "[('the', 76529),\n",
       " ('a', 38106),\n",
       " ('and', 35576),\n",
       " ('of', 34123),\n",
       " ('to', 31937),\n",
       " ('is', 25195),\n",
       " ('in', 21822),\n",
       " ('s', 18513),\n",
       " ('it', 16107),\n",
       " ('that', 15924),\n",
       " ('as', 11378),\n",
       " ('with', 10792),\n",
       " ('for', 9961),\n",
       " ('his', 9587),\n",
       " ('this', 9578),\n",
       " ('film', 9517),\n",
       " ('i', 8889),\n",
       " ('he', 8864),\n",
       " ('but', 8634),\n",
       " ('on', 7385)]"
      ]
     },
     "execution_count": 8,
     "metadata": {},
     "output_type": "execute_result"
    }
   ],
   "source": [
    "count_words.most_common(20)"
   ]
  },
  {
   "cell_type": "code",
   "execution_count": 9,
   "id": "4f0812a6-b6d2-474e-bbb8-2194be0f5523",
   "metadata": {},
   "outputs": [
    {
     "name": "stdout",
     "output_type": "stream",
     "text": [
      "CPU times: total: 203 ms\n",
      "Wall time: 201 ms\n"
     ]
    }
   ],
   "source": [
    "%%time\n",
    "# make a list of frequent enough words\n",
    "bag_of_words = set()\n",
    "for item in count_words.elements():\n",
    "    if count_words[item] >= 5:\n",
    "        bag_of_words.add(item)"
   ]
  },
  {
   "cell_type": "code",
   "execution_count": 10,
   "id": "5069e5f3-a225-4b18-897e-8d5673aca726",
   "metadata": {},
   "outputs": [
    {
     "data": {
      "text/plain": [
       "14759"
      ]
     },
     "execution_count": 10,
     "metadata": {},
     "output_type": "execute_result"
    }
   ],
   "source": [
    "len(bag_of_words)"
   ]
  },
  {
   "cell_type": "markdown",
   "id": "2b2fcd2f-5882-4018-ad2b-d7e1e866a7e3",
   "metadata": {},
   "source": [
    "# Implementing the maximum matching algorithm"
   ]
  },
  {
   "cell_type": "code",
   "execution_count": 11,
   "id": "6bcf0bb2-119e-40b7-9a32-46daaa1beff5",
   "metadata": {},
   "outputs": [],
   "source": [
    "#go over sentences without spaces - look for the longest prefix\n",
    "MAX_WORD_LEN = 15\n",
    "\n",
    "def sentence_segmentation(sentence):\n",
    "    new_sentence = ''\n",
    "    from_index = 0\n",
    "    prefix_len = MAX_WORD_LEN\n",
    "    while from_index < len(sentence):\n",
    "        to_index = min(from_index + prefix_len, len(sentence))\n",
    "        if sentence[from_index:to_index] in bag_of_words:\n",
    "            new_sentence += sentence[from_index:to_index] + ' '\n",
    "            from_index = to_index\n",
    "            prefix_len = MAX_WORD_LEN\n",
    "        else:\n",
    "            prefix_len -= 1\n",
    "            if prefix_len == 0:\n",
    "                prefix_len = MAX_WORD_LEN\n",
    "                from_index += 1\n",
    "        \n",
    "    return new_sentence.strip()\n",
    "\n"
   ]
  },
  {
   "cell_type": "code",
   "execution_count": 12,
   "id": "db3aa74a-1ad3-4ce2-8cb6-b81a2606a57c",
   "metadata": {},
   "outputs": [
    {
     "name": "stdout",
     "output_type": "stream",
     "text": [
      "it starts off normal but then downshifts into this fantasy world in which you as an audience member have no idea what s going on\n",
      "itstartsoffnormalbutthendownshiftsintothisfantasyworldinwhichyouasanaudiencememberhavenoideawhatsgoingon\n"
     ]
    },
    {
     "data": {
      "text/plain": [
       "'its t arts off normal butt hen downs hi f t sin to this fantasy world in which you as an audience member haven o idea what s going on'"
      ]
     },
     "execution_count": 12,
     "metadata": {},
     "output_type": "execute_result"
    }
   ],
   "source": [
    "print(df.sentence[10])\n",
    "print(df.sentence_no_spaces[10])\n",
    "sentence_segmentation(df.sentence_no_spaces[10])"
   ]
  },
  {
   "cell_type": "code",
   "execution_count": 13,
   "id": "f2cc7d89-c5eb-438d-806e-3f3841388e46",
   "metadata": {},
   "outputs": [
    {
     "name": "stdout",
     "output_type": "stream",
     "text": [
      "CPU times: total: 6.83 s\n",
      "Wall time: 6.84 s\n"
     ]
    }
   ],
   "source": [
    "%%time\n",
    "# add reconstructed sentences to the df\n",
    "new_sentences = []\n",
    "for sentence in df.sentence_no_spaces:\n",
    "    new_sentences.append(sentence_segmentation(sentence))\n",
    "   \n",
    "    "
   ]
  },
  {
   "cell_type": "code",
   "execution_count": 14,
   "id": "568f0b7a-4d9d-49b8-8d83-6374aee95283",
   "metadata": {},
   "outputs": [],
   "source": [
    "df['sentenced_restored'] = new_sentences"
   ]
  },
  {
   "cell_type": "code",
   "execution_count": 15,
   "id": "4c583d4a-e4f0-405b-9c0f-25da8a81b948",
   "metadata": {},
   "outputs": [
    {
     "data": {
      "text/html": [
       "<div>\n",
       "<style scoped>\n",
       "    .dataframe tbody tr th:only-of-type {\n",
       "        vertical-align: middle;\n",
       "    }\n",
       "\n",
       "    .dataframe tbody tr th {\n",
       "        vertical-align: top;\n",
       "    }\n",
       "\n",
       "    .dataframe thead th {\n",
       "        text-align: right;\n",
       "    }\n",
       "</style>\n",
       "<table border=\"1\" class=\"dataframe\">\n",
       "  <thead>\n",
       "    <tr style=\"text-align: right;\">\n",
       "      <th></th>\n",
       "      <th>sentence</th>\n",
       "      <th>sentence_no_spaces</th>\n",
       "      <th>sentenced_restored</th>\n",
       "    </tr>\n",
       "  </thead>\n",
       "  <tbody>\n",
       "    <tr>\n",
       "      <th>17383</th>\n",
       "      <td>a huge success</td>\n",
       "      <td>ahugesuccess</td>\n",
       "      <td>ah u g e success</td>\n",
       "    </tr>\n",
       "    <tr>\n",
       "      <th>50351</th>\n",
       "      <td>the character development in this movie was no...</td>\n",
       "      <td>thecharacterdevelopmentinthismoviewasnotalltha...</td>\n",
       "      <td>the character development in this movie wasn o...</td>\n",
       "    </tr>\n",
       "    <tr>\n",
       "      <th>15945</th>\n",
       "      <td>the aliens are tall pasty faced and bald and w...</td>\n",
       "      <td>thealiensaretallpastyfacedandbaldandwearlongbl...</td>\n",
       "      <td>the aliens are tall past y faced and bald and ...</td>\n",
       "    </tr>\n",
       "    <tr>\n",
       "      <th>59064</th>\n",
       "      <td>in december of 1979 a comedian named andy kauf...</td>\n",
       "      <td>indecemberof1979acomediannamedandykaufmanputon...</td>\n",
       "      <td>in december of 1979 a comedian named andy kauf...</td>\n",
       "    </tr>\n",
       "    <tr>\n",
       "      <th>34246</th>\n",
       "      <td>an acerbic sing song metered voice that evokes...</td>\n",
       "      <td>anacerbicsingsongmeteredvoicethatevokesthestar...</td>\n",
       "      <td>an acerbic sings on g meter ed voice that evok...</td>\n",
       "    </tr>\n",
       "    <tr>\n",
       "      <th>885</th>\n",
       "      <td>with 102 dalmatians the disney studios have pr...</td>\n",
       "      <td>with102dalmatiansthedisneystudioshaveproventha...</td>\n",
       "      <td>with 102 dalmatians the disney studios have pr...</td>\n",
       "    </tr>\n",
       "    <tr>\n",
       "      <th>60112</th>\n",
       "      <td></td>\n",
       "      <td></td>\n",
       "      <td></td>\n",
       "    </tr>\n",
       "    <tr>\n",
       "      <th>64709</th>\n",
       "      <td>strangely enough i think that fans of the seri...</td>\n",
       "      <td>strangelyenoughithinkthatfansoftheserieswillha...</td>\n",
       "      <td>strangely enough it hi n k that fans of these ...</td>\n",
       "    </tr>\n",
       "    <tr>\n",
       "      <th>30545</th>\n",
       "      <td>ebert s re election slogan is not surprisingly...</td>\n",
       "      <td>ebertsreelectionsloganisnotsurprisinglythumbsu...</td>\n",
       "      <td>ebert s reel e c t i on slo g an isn o t surpr...</td>\n",
       "    </tr>\n",
       "    <tr>\n",
       "      <th>14977</th>\n",
       "      <td>super mario bros street fighter and mortal kom...</td>\n",
       "      <td>supermariobrosstreetfighterandmortalkombatwere...</td>\n",
       "      <td>super mario bros street fighter and mortal kom...</td>\n",
       "    </tr>\n",
       "    <tr>\n",
       "      <th>35734</th>\n",
       "      <td>i know that funnest isn t a word</td>\n",
       "      <td>iknowthatfunnestisntaword</td>\n",
       "      <td>i know that funnest isn t a word</td>\n",
       "    </tr>\n",
       "    <tr>\n",
       "      <th>48052</th>\n",
       "      <td>hoffman and travolta are both excellent actors...</td>\n",
       "      <td>hoffmanandtravoltaarebothexcellentactorsandsee...</td>\n",
       "      <td>hoffman and travolta are both excellent actors...</td>\n",
       "    </tr>\n",
       "    <tr>\n",
       "      <th>51271</th>\n",
       "      <td>for the blood loving moviegoer destination con...</td>\n",
       "      <td>forthebloodlovingmoviegoerdestinationcontainsb...</td>\n",
       "      <td>forth e blood loving moviegoer destination con...</td>\n",
       "    </tr>\n",
       "    <tr>\n",
       "      <th>17239</th>\n",
       "      <td>will arnold ever give us another unforgettable...</td>\n",
       "      <td>willarnoldevergiveusanotherunforgettableperfor...</td>\n",
       "      <td>will arnold ever give usa not her unforgettabl...</td>\n",
       "    </tr>\n",
       "    <tr>\n",
       "      <th>30205</th>\n",
       "      <td>robbie hart adam sandler used to want to be a ...</td>\n",
       "      <td>robbiehartadamsandlerusedtowanttobearockandrol...</td>\n",
       "      <td>robbie hart adams and le ru se d tow ant to be...</td>\n",
       "    </tr>\n",
       "    <tr>\n",
       "      <th>12865</th>\n",
       "      <td>jalla</td>\n",
       "      <td>jalla</td>\n",
       "      <td>j all a</td>\n",
       "    </tr>\n",
       "    <tr>\n",
       "      <th>40004</th>\n",
       "      <td>of course you can probably tell where a lot of...</td>\n",
       "      <td>ofcourseyoucanprobablytellwherealotofthe60mill...</td>\n",
       "      <td>of course you can probably tell where alot of ...</td>\n",
       "    </tr>\n",
       "    <tr>\n",
       "      <th>11973</th>\n",
       "      <td>right when it was beginning to become slightly...</td>\n",
       "      <td>rightwhenitwasbeginningtobecomeslightlyfunnyse...</td>\n",
       "      <td>right when it was beginning to becomes lightly...</td>\n",
       "    </tr>\n",
       "    <tr>\n",
       "      <th>9274</th>\n",
       "      <td>i ll be honest here</td>\n",
       "      <td>illbehonesthere</td>\n",
       "      <td>ill be honest here</td>\n",
       "    </tr>\n",
       "    <tr>\n",
       "      <th>58558</th>\n",
       "      <td>the sheriff ellis finds salted peanuts on him ...</td>\n",
       "      <td>thesheriffellisfindssaltedpeanutsonhimjustlike...</td>\n",
       "      <td>the sheriff ellis finds salt ed p e an u t son...</td>\n",
       "    </tr>\n",
       "  </tbody>\n",
       "</table>\n",
       "</div>"
      ],
      "text/plain": [
       "                                                sentence  \\\n",
       "17383                                     a huge success   \n",
       "50351  the character development in this movie was no...   \n",
       "15945  the aliens are tall pasty faced and bald and w...   \n",
       "59064  in december of 1979 a comedian named andy kauf...   \n",
       "34246  an acerbic sing song metered voice that evokes...   \n",
       "885    with 102 dalmatians the disney studios have pr...   \n",
       "60112                                                      \n",
       "64709  strangely enough i think that fans of the seri...   \n",
       "30545  ebert s re election slogan is not surprisingly...   \n",
       "14977  super mario bros street fighter and mortal kom...   \n",
       "35734                   i know that funnest isn t a word   \n",
       "48052  hoffman and travolta are both excellent actors...   \n",
       "51271  for the blood loving moviegoer destination con...   \n",
       "17239  will arnold ever give us another unforgettable...   \n",
       "30205  robbie hart adam sandler used to want to be a ...   \n",
       "12865                                              jalla   \n",
       "40004  of course you can probably tell where a lot of...   \n",
       "11973  right when it was beginning to become slightly...   \n",
       "9274                                 i ll be honest here   \n",
       "58558  the sheriff ellis finds salted peanuts on him ...   \n",
       "\n",
       "                                      sentence_no_spaces  \\\n",
       "17383                                       ahugesuccess   \n",
       "50351  thecharacterdevelopmentinthismoviewasnotalltha...   \n",
       "15945  thealiensaretallpastyfacedandbaldandwearlongbl...   \n",
       "59064  indecemberof1979acomediannamedandykaufmanputon...   \n",
       "34246  anacerbicsingsongmeteredvoicethatevokesthestar...   \n",
       "885    with102dalmatiansthedisneystudioshaveproventha...   \n",
       "60112                                                      \n",
       "64709  strangelyenoughithinkthatfansoftheserieswillha...   \n",
       "30545  ebertsreelectionsloganisnotsurprisinglythumbsu...   \n",
       "14977  supermariobrosstreetfighterandmortalkombatwere...   \n",
       "35734                          iknowthatfunnestisntaword   \n",
       "48052  hoffmanandtravoltaarebothexcellentactorsandsee...   \n",
       "51271  forthebloodlovingmoviegoerdestinationcontainsb...   \n",
       "17239  willarnoldevergiveusanotherunforgettableperfor...   \n",
       "30205  robbiehartadamsandlerusedtowanttobearockandrol...   \n",
       "12865                                              jalla   \n",
       "40004  ofcourseyoucanprobablytellwherealotofthe60mill...   \n",
       "11973  rightwhenitwasbeginningtobecomeslightlyfunnyse...   \n",
       "9274                                     illbehonesthere   \n",
       "58558  thesheriffellisfindssaltedpeanutsonhimjustlike...   \n",
       "\n",
       "                                      sentenced_restored  \n",
       "17383                                   ah u g e success  \n",
       "50351  the character development in this movie wasn o...  \n",
       "15945  the aliens are tall past y faced and bald and ...  \n",
       "59064  in december of 1979 a comedian named andy kauf...  \n",
       "34246  an acerbic sings on g meter ed voice that evok...  \n",
       "885    with 102 dalmatians the disney studios have pr...  \n",
       "60112                                                     \n",
       "64709  strangely enough it hi n k that fans of these ...  \n",
       "30545  ebert s reel e c t i on slo g an isn o t surpr...  \n",
       "14977  super mario bros street fighter and mortal kom...  \n",
       "35734                   i know that funnest isn t a word  \n",
       "48052  hoffman and travolta are both excellent actors...  \n",
       "51271  forth e blood loving moviegoer destination con...  \n",
       "17239  will arnold ever give usa not her unforgettabl...  \n",
       "30205  robbie hart adams and le ru se d tow ant to be...  \n",
       "12865                                            j all a  \n",
       "40004  of course you can probably tell where alot of ...  \n",
       "11973  right when it was beginning to becomes lightly...  \n",
       "9274                                  ill be honest here  \n",
       "58558  the sheriff ellis finds salt ed p e an u t son...  "
      ]
     },
     "execution_count": 15,
     "metadata": {},
     "output_type": "execute_result"
    }
   ],
   "source": [
    "df.sample(20)"
   ]
  },
  {
   "cell_type": "code",
   "execution_count": 16,
   "id": "41a51b0b-dcd4-4ecf-8544-fbd9eb876f99",
   "metadata": {},
   "outputs": [],
   "source": [
    "# how well did we perform?"
   ]
  },
  {
   "cell_type": "code",
   "execution_count": 17,
   "id": "4bb82f89-117f-4c20-aae0-530378c57ddf",
   "metadata": {},
   "outputs": [
    {
     "data": {
      "text/plain": [
       "sentence              was i grossed out\n",
       "sentence_no_spaces       wasigrossedout\n",
       "sentenced_restored    was i grossed out\n",
       "Name: 26627, dtype: object"
      ]
     },
     "execution_count": 17,
     "metadata": {},
     "output_type": "execute_result"
    }
   ],
   "source": [
    "df.iloc[26627]"
   ]
  },
  {
   "cell_type": "code",
   "execution_count": 18,
   "id": "e9ac1afd-e491-4f2a-b661-733d030a1174",
   "metadata": {},
   "outputs": [],
   "source": [
    "# how many correct resconstructions?"
   ]
  },
  {
   "cell_type": "code",
   "execution_count": 19,
   "id": "592fcda3-7373-4aae-ae32-da6ef5f71b44",
   "metadata": {},
   "outputs": [
    {
     "data": {
      "text/plain": [
       "11427"
      ]
     },
     "execution_count": 19,
     "metadata": {},
     "output_type": "execute_result"
    }
   ],
   "source": [
    "sum(df['sentenced_restored'] == df['sentence'])"
   ]
  },
  {
   "cell_type": "code",
   "execution_count": 20,
   "id": "288448e9-da7a-4c73-b0ec-9f0a1337ccc8",
   "metadata": {},
   "outputs": [
    {
     "data": {
      "text/plain": [
       "65258"
      ]
     },
     "execution_count": 20,
     "metadata": {},
     "output_type": "execute_result"
    }
   ],
   "source": [
    "len(df)"
   ]
  },
  {
   "cell_type": "code",
   "execution_count": 21,
   "id": "7c027107-42b0-4b1e-bb33-8ee28c14f221",
   "metadata": {},
   "outputs": [
    {
     "data": {
      "text/plain": [
       "0.1751049679732753"
      ]
     },
     "execution_count": 21,
     "metadata": {},
     "output_type": "execute_result"
    }
   ],
   "source": [
    "sum(df['sentenced_restored'] == df['sentence']) / len(df)"
   ]
  },
  {
   "cell_type": "code",
   "execution_count": 22,
   "id": "145b19a7-f86c-4f0d-aace-e8cf308a8fae",
   "metadata": {},
   "outputs": [],
   "source": [
    "# assign a normalized edit distance"
   ]
  },
  {
   "cell_type": "code",
   "execution_count": 23,
   "id": "65388011-f4c2-4d54-8eb7-a62bbc93ddbd",
   "metadata": {},
   "outputs": [
    {
     "data": {
      "text/plain": [
       "sentence              sooner or later people start to tell themselve...\n",
       "sentence_no_spaces    soonerorlaterpeoplestarttotellthemselvesthatit...\n",
       "sentenced_restored    sooner or later peoples t art to tell themselv...\n",
       "Name: 26622, dtype: object"
      ]
     },
     "execution_count": 23,
     "metadata": {},
     "output_type": "execute_result"
    }
   ],
   "source": [
    "df.iloc[26622]\n"
   ]
  },
  {
   "cell_type": "code",
   "execution_count": 24,
   "id": "3100373f-708f-44c4-94be-f44042cfcc6e",
   "metadata": {},
   "outputs": [
    {
     "data": {
      "text/plain": [
       "7"
      ]
     },
     "execution_count": 24,
     "metadata": {},
     "output_type": "execute_result"
    }
   ],
   "source": [
    "edit_distance(df.iloc[26622].sentence, df.iloc[26622].sentenced_restored)"
   ]
  },
  {
   "cell_type": "code",
   "execution_count": 25,
   "id": "7f88368a-5131-4c0a-82a1-debf8e3c190b",
   "metadata": {},
   "outputs": [
    {
     "name": "stdout",
     "output_type": "stream",
     "text": [
      "CPU times: total: 40.5 s\n",
      "Wall time: 40.5 s\n"
     ]
    }
   ],
   "source": [
    "%%time\n",
    "df['edit_distance'] = df.apply(lambda row: edit_distance(row.sentence.split(' '), row.sentenced_restored.split(' ')), axis=1)"
   ]
  },
  {
   "cell_type": "code",
   "execution_count": 26,
   "id": "4e2edeca-24b0-4929-b332-81e4bfd9a2cb",
   "metadata": {},
   "outputs": [
    {
     "name": "stdout",
     "output_type": "stream",
     "text": [
      "CPU times: total: 1 s\n",
      "Wall time: 1 s\n"
     ]
    }
   ],
   "source": [
    "%%time\n",
    "df['normalized_edit_distance'] = df.apply(lambda row: row.edit_distance / len(row.sentence.split(' ')), axis=1)"
   ]
  },
  {
   "cell_type": "code",
   "execution_count": 27,
   "id": "30624fc3-2ff7-4e65-a00b-f0e338dd72e9",
   "metadata": {},
   "outputs": [
    {
     "data": {
      "text/html": [
       "<div>\n",
       "<style scoped>\n",
       "    .dataframe tbody tr th:only-of-type {\n",
       "        vertical-align: middle;\n",
       "    }\n",
       "\n",
       "    .dataframe tbody tr th {\n",
       "        vertical-align: top;\n",
       "    }\n",
       "\n",
       "    .dataframe thead th {\n",
       "        text-align: right;\n",
       "    }\n",
       "</style>\n",
       "<table border=\"1\" class=\"dataframe\">\n",
       "  <thead>\n",
       "    <tr style=\"text-align: right;\">\n",
       "      <th></th>\n",
       "      <th>sentence</th>\n",
       "      <th>sentence_no_spaces</th>\n",
       "      <th>sentenced_restored</th>\n",
       "      <th>edit_distance</th>\n",
       "      <th>normalized_edit_distance</th>\n",
       "    </tr>\n",
       "  </thead>\n",
       "  <tbody>\n",
       "    <tr>\n",
       "      <th>0</th>\n",
       "      <td>plot two teen couples go to a church party dri...</td>\n",
       "      <td>plottwoteencouplesgotoachurchpartydrinkandthen...</td>\n",
       "      <td>plot two teen couples got o a church party dri...</td>\n",
       "      <td>2</td>\n",
       "      <td>0.153846</td>\n",
       "    </tr>\n",
       "    <tr>\n",
       "      <th>1</th>\n",
       "      <td>they get into an accident</td>\n",
       "      <td>theygetintoanaccident</td>\n",
       "      <td>they get into an accident</td>\n",
       "      <td>0</td>\n",
       "      <td>0.000000</td>\n",
       "    </tr>\n",
       "    <tr>\n",
       "      <th>2</th>\n",
       "      <td>one of the guys dies but his girlfriend contin...</td>\n",
       "      <td>oneoftheguysdiesbuthisgirlfriendcontinuestosee...</td>\n",
       "      <td>one of the guys dies but his girlfriend contin...</td>\n",
       "      <td>8</td>\n",
       "      <td>0.444444</td>\n",
       "    </tr>\n",
       "    <tr>\n",
       "      <th>3</th>\n",
       "      <td>what s the deal</td>\n",
       "      <td>whatsthedeal</td>\n",
       "      <td>what st he deal</td>\n",
       "      <td>2</td>\n",
       "      <td>0.500000</td>\n",
       "    </tr>\n",
       "    <tr>\n",
       "      <th>4</th>\n",
       "      <td>watch the movie and sorta find out</td>\n",
       "      <td>watchthemovieandsortafindout</td>\n",
       "      <td>watch them o v ie and sorta find out</td>\n",
       "      <td>4</td>\n",
       "      <td>0.571429</td>\n",
       "    </tr>\n",
       "    <tr>\n",
       "      <th>...</th>\n",
       "      <td>...</td>\n",
       "      <td>...</td>\n",
       "      <td>...</td>\n",
       "      <td>...</td>\n",
       "      <td>...</td>\n",
       "    </tr>\n",
       "    <tr>\n",
       "      <th>65253</th>\n",
       "      <td>it s a quick straight shot to the movie s end</td>\n",
       "      <td>itsaquickstraightshottothemoviesend</td>\n",
       "      <td>its a quick straight shot to them o v ie send</td>\n",
       "      <td>7</td>\n",
       "      <td>0.636364</td>\n",
       "    </tr>\n",
       "    <tr>\n",
       "      <th>65254</th>\n",
       "      <td>in terms of overall quality i would compare th...</td>\n",
       "      <td>intermsofoverallqualityiwouldcomparethetrumans...</td>\n",
       "      <td>inter ms of overall quality i would compare th...</td>\n",
       "      <td>5</td>\n",
       "      <td>0.333333</td>\n",
       "    </tr>\n",
       "    <tr>\n",
       "      <th>65255</th>\n",
       "      <td>both films are well made with interesting stor...</td>\n",
       "      <td>bothfilmsarewellmadewithinterestingstoriesseti...</td>\n",
       "      <td>both films are well made within t er e sting s...</td>\n",
       "      <td>7</td>\n",
       "      <td>0.583333</td>\n",
       "    </tr>\n",
       "    <tr>\n",
       "      <th>65256</th>\n",
       "      <td>but neither film really felt like it capitaliz...</td>\n",
       "      <td>butneitherfilmreallyfeltlikeitcapitalizedonall...</td>\n",
       "      <td>but neither film really felt like it capitaliz...</td>\n",
       "      <td>4</td>\n",
       "      <td>0.190476</td>\n",
       "    </tr>\n",
       "    <tr>\n",
       "      <th>65257</th>\n",
       "      <td>nevertheless i look forward to niccol s next f...</td>\n",
       "      <td>neverthelessilookforwardtoniccolsnextfilmwhate...</td>\n",
       "      <td>nevertheless i look forward toni c col s next ...</td>\n",
       "      <td>5</td>\n",
       "      <td>0.384615</td>\n",
       "    </tr>\n",
       "  </tbody>\n",
       "</table>\n",
       "<p>65258 rows × 5 columns</p>\n",
       "</div>"
      ],
      "text/plain": [
       "                                                sentence  \\\n",
       "0      plot two teen couples go to a church party dri...   \n",
       "1                              they get into an accident   \n",
       "2      one of the guys dies but his girlfriend contin...   \n",
       "3                                        what s the deal   \n",
       "4                     watch the movie and sorta find out   \n",
       "...                                                  ...   \n",
       "65253      it s a quick straight shot to the movie s end   \n",
       "65254  in terms of overall quality i would compare th...   \n",
       "65255  both films are well made with interesting stor...   \n",
       "65256  but neither film really felt like it capitaliz...   \n",
       "65257  nevertheless i look forward to niccol s next f...   \n",
       "\n",
       "                                      sentence_no_spaces  \\\n",
       "0      plottwoteencouplesgotoachurchpartydrinkandthen...   \n",
       "1                                  theygetintoanaccident   \n",
       "2      oneoftheguysdiesbuthisgirlfriendcontinuestosee...   \n",
       "3                                           whatsthedeal   \n",
       "4                           watchthemovieandsortafindout   \n",
       "...                                                  ...   \n",
       "65253                itsaquickstraightshottothemoviesend   \n",
       "65254  intermsofoverallqualityiwouldcomparethetrumans...   \n",
       "65255  bothfilmsarewellmadewithinterestingstoriesseti...   \n",
       "65256  butneitherfilmreallyfeltlikeitcapitalizedonall...   \n",
       "65257  neverthelessilookforwardtoniccolsnextfilmwhate...   \n",
       "\n",
       "                                      sentenced_restored  edit_distance  \\\n",
       "0      plot two teen couples got o a church party dri...              2   \n",
       "1                              they get into an accident              0   \n",
       "2      one of the guys dies but his girlfriend contin...              8   \n",
       "3                                        what st he deal              2   \n",
       "4                   watch them o v ie and sorta find out              4   \n",
       "...                                                  ...            ...   \n",
       "65253      its a quick straight shot to them o v ie send              7   \n",
       "65254  inter ms of overall quality i would compare th...              5   \n",
       "65255  both films are well made within t er e sting s...              7   \n",
       "65256  but neither film really felt like it capitaliz...              4   \n",
       "65257  nevertheless i look forward toni c col s next ...              5   \n",
       "\n",
       "       normalized_edit_distance  \n",
       "0                      0.153846  \n",
       "1                      0.000000  \n",
       "2                      0.444444  \n",
       "3                      0.500000  \n",
       "4                      0.571429  \n",
       "...                         ...  \n",
       "65253                  0.636364  \n",
       "65254                  0.333333  \n",
       "65255                  0.583333  \n",
       "65256                  0.190476  \n",
       "65257                  0.384615  \n",
       "\n",
       "[65258 rows x 5 columns]"
      ]
     },
     "execution_count": 27,
     "metadata": {},
     "output_type": "execute_result"
    }
   ],
   "source": [
    "df"
   ]
  },
  {
   "cell_type": "code",
   "execution_count": 28,
   "id": "6a30e958-5cd4-49eb-a3ed-4b03c2dff6a9",
   "metadata": {},
   "outputs": [
    {
     "data": {
      "text/plain": [
       "0.3794860799599877"
      ]
     },
     "execution_count": 28,
     "metadata": {},
     "output_type": "execute_result"
    }
   ],
   "source": [
    "np.mean(df['normalized_edit_distance'])"
   ]
  },
  {
   "cell_type": "code",
   "execution_count": null,
   "id": "4596e14e-b830-44eb-b82c-ca1057992a7d",
   "metadata": {},
   "outputs": [],
   "source": []
  }
 ],
 "metadata": {
  "kernelspec": {
   "display_name": "Python 3",
   "language": "python",
   "name": "python3"
  },
  "language_info": {
   "codemirror_mode": {
    "name": "ipython",
    "version": 3
   },
   "file_extension": ".py",
   "mimetype": "text/x-python",
   "name": "python",
   "nbconvert_exporter": "python",
   "pygments_lexer": "ipython3",
   "version": "3.8.8"
  }
 },
 "nbformat": 4,
 "nbformat_minor": 5
}

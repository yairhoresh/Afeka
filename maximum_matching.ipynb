{
 "cells": [
  {
   "cell_type": "code",
   "execution_count": 62,
   "id": "1f22690b-43bf-48cc-95fe-63632fdff8ee",
   "metadata": {},
   "outputs": [],
   "source": [
    "import nltk\n",
    "import re\n",
    "from collections import Counter\n",
    "import pandas as pd\n",
    "#nltk.download(\"movie_reviews\")\n",
    "from nltk.corpus import movie_reviews as mr\n",
    "\n"
   ]
  },
  {
   "cell_type": "code",
   "execution_count": 38,
   "id": "86e97cb9-11fb-4d1b-a0d6-bc40ac6ef685",
   "metadata": {},
   "outputs": [
    {
     "name": "stdout",
     "output_type": "stream",
     "text": [
      "1583820 65258 2000\n"
     ]
    }
   ],
   "source": [
    "print(len(mr.words()), len(mr.sents()), len(mr.paras()))"
   ]
  },
  {
   "cell_type": "code",
   "execution_count": 39,
   "id": "d0cd727d-17c7-4c7b-ad55-9ad6f4a5d029",
   "metadata": {},
   "outputs": [
    {
     "data": {
      "text/plain": [
       "[['plot', ':', 'two', 'teen', 'couples', 'go', 'to', 'a', 'church', 'party', ',', 'drink', 'and', 'then', 'drive', '.'], ['they', 'get', 'into', 'an', 'accident', '.'], ...]"
      ]
     },
     "execution_count": 39,
     "metadata": {},
     "output_type": "execute_result"
    }
   ],
   "source": [
    "mr.sents()"
   ]
  },
  {
   "cell_type": "code",
   "execution_count": 56,
   "id": "243ccf28-654b-4dad-9ab4-b3d86df5d6f5",
   "metadata": {},
   "outputs": [],
   "source": [
    "# put the sentences in dataframe\n",
    "list_of_sentences = []\n",
    "for list_of_words in mr.sents():\n",
    "    sentence = ' '.join(list_of_words)\n",
    "    sentence = re.sub('\\s[^a-z]|^\\.', '', sentence)\n",
    "    list_of_sentences.append({'sentence':sentence, 'sentence_no_spaces':re.sub(' ', '', sentence)})\n",
    "\n",
    "df=pd.DataFrame(list_of_sentences)"
   ]
  },
  {
   "cell_type": "code",
   "execution_count": 57,
   "id": "911afd4a-56ea-44e1-bc9c-15565d92e13d",
   "metadata": {},
   "outputs": [
    {
     "data": {
      "text/html": [
       "<div>\n",
       "<style scoped>\n",
       "    .dataframe tbody tr th:only-of-type {\n",
       "        vertical-align: middle;\n",
       "    }\n",
       "\n",
       "    .dataframe tbody tr th {\n",
       "        vertical-align: top;\n",
       "    }\n",
       "\n",
       "    .dataframe thead th {\n",
       "        text-align: right;\n",
       "    }\n",
       "</style>\n",
       "<table border=\"1\" class=\"dataframe\">\n",
       "  <thead>\n",
       "    <tr style=\"text-align: right;\">\n",
       "      <th></th>\n",
       "      <th>sentence</th>\n",
       "      <th>sentence_no_spaces</th>\n",
       "    </tr>\n",
       "  </thead>\n",
       "  <tbody>\n",
       "    <tr>\n",
       "      <th>0</th>\n",
       "      <td>plot two teen couples go to a church party dri...</td>\n",
       "      <td>plottwoteencouplesgotoachurchpartydrinkandthen...</td>\n",
       "    </tr>\n",
       "    <tr>\n",
       "      <th>1</th>\n",
       "      <td>they get into an accident</td>\n",
       "      <td>theygetintoanaccident</td>\n",
       "    </tr>\n",
       "    <tr>\n",
       "      <th>2</th>\n",
       "      <td>one of the guys dies but his girlfriend contin...</td>\n",
       "      <td>oneoftheguysdiesbuthisgirlfriendcontinuestosee...</td>\n",
       "    </tr>\n",
       "    <tr>\n",
       "      <th>3</th>\n",
       "      <td>what s the deal</td>\n",
       "      <td>whatsthedeal</td>\n",
       "    </tr>\n",
       "    <tr>\n",
       "      <th>4</th>\n",
       "      <td>watch the movie and sorta find out</td>\n",
       "      <td>watchthemovieandsortafindout</td>\n",
       "    </tr>\n",
       "    <tr>\n",
       "      <th>...</th>\n",
       "      <td>...</td>\n",
       "      <td>...</td>\n",
       "    </tr>\n",
       "    <tr>\n",
       "      <th>65253</th>\n",
       "      <td>it s a quick straight shot to the movie s end</td>\n",
       "      <td>itsaquickstraightshottothemoviesend</td>\n",
       "    </tr>\n",
       "    <tr>\n",
       "      <th>65254</th>\n",
       "      <td>in terms of overall quality i would compare th...</td>\n",
       "      <td>intermsofoverallqualityiwouldcomparethetrumans...</td>\n",
       "    </tr>\n",
       "    <tr>\n",
       "      <th>65255</th>\n",
       "      <td>both films are well made with interesting stor...</td>\n",
       "      <td>bothfilmsarewellmadewithinterestingstoriesseti...</td>\n",
       "    </tr>\n",
       "    <tr>\n",
       "      <th>65256</th>\n",
       "      <td>but neither film really felt like it capitaliz...</td>\n",
       "      <td>butneitherfilmreallyfeltlikeitcapitalizedonall...</td>\n",
       "    </tr>\n",
       "    <tr>\n",
       "      <th>65257</th>\n",
       "      <td>nevertheless i look forward to niccol s next f...</td>\n",
       "      <td>neverthelessilookforwardtoniccolsnextfilmwhate...</td>\n",
       "    </tr>\n",
       "  </tbody>\n",
       "</table>\n",
       "<p>65258 rows × 2 columns</p>\n",
       "</div>"
      ],
      "text/plain": [
       "                                                sentence  \\\n",
       "0      plot two teen couples go to a church party dri...   \n",
       "1                              they get into an accident   \n",
       "2      one of the guys dies but his girlfriend contin...   \n",
       "3                                        what s the deal   \n",
       "4                     watch the movie and sorta find out   \n",
       "...                                                  ...   \n",
       "65253      it s a quick straight shot to the movie s end   \n",
       "65254  in terms of overall quality i would compare th...   \n",
       "65255  both films are well made with interesting stor...   \n",
       "65256  but neither film really felt like it capitaliz...   \n",
       "65257  nevertheless i look forward to niccol s next f...   \n",
       "\n",
       "                                      sentence_no_spaces  \n",
       "0      plottwoteencouplesgotoachurchpartydrinkandthen...  \n",
       "1                                  theygetintoanaccident  \n",
       "2      oneoftheguysdiesbuthisgirlfriendcontinuestosee...  \n",
       "3                                           whatsthedeal  \n",
       "4                           watchthemovieandsortafindout  \n",
       "...                                                  ...  \n",
       "65253                itsaquickstraightshottothemoviesend  \n",
       "65254  intermsofoverallqualityiwouldcomparethetrumans...  \n",
       "65255  bothfilmsarewellmadewithinterestingstoriesseti...  \n",
       "65256  butneitherfilmreallyfeltlikeitcapitalizedonall...  \n",
       "65257  neverthelessilookforwardtoniccolsnextfilmwhate...  \n",
       "\n",
       "[65258 rows x 2 columns]"
      ]
     },
     "execution_count": 57,
     "metadata": {},
     "output_type": "execute_result"
    }
   ],
   "source": [
    "df"
   ]
  },
  {
   "cell_type": "code",
   "execution_count": 140,
   "id": "b1270780-92b6-444e-a732-1b5716e4793c",
   "metadata": {},
   "outputs": [
    {
     "name": "stdout",
     "output_type": "stream",
     "text": [
      "CPU times: total: 406 ms\n",
      "Wall time: 405 ms\n"
     ]
    }
   ],
   "source": [
    "%%time\n",
    "# build a dictionay\n",
    "MAX_WORD_LEN = 10\n",
    "count_segments = Counter()\n",
    "\n",
    "# count everything\n",
    "for sentence in df.sentence:\n",
    "    for word in sentence.split(' '):\n",
    "        count_segments[word] += 1\n",
    "                               "
   ]
  },
  {
   "cell_type": "code",
   "execution_count": 141,
   "id": "d400c903-990e-48c3-8f4b-ba0851256415",
   "metadata": {},
   "outputs": [
    {
     "data": {
      "text/plain": [
       "42961"
      ]
     },
     "execution_count": 141,
     "metadata": {},
     "output_type": "execute_result"
    }
   ],
   "source": [
    "len(count_segments)"
   ]
  },
  {
   "cell_type": "code",
   "execution_count": 142,
   "id": "310b2ac2-4809-4b5e-94f9-a0503d1592ac",
   "metadata": {},
   "outputs": [
    {
     "data": {
      "text/plain": [
       "[('the', 76009),\n",
       " ('a', 37917),\n",
       " ('and', 35480),\n",
       " ('of', 33847),\n",
       " ('to', 31841),\n",
       " ('is', 25144),\n",
       " ('in', 21420),\n",
       " ('s', 18416),\n",
       " ('it', 16074),\n",
       " ('that', 15887),\n",
       " ('as', 11352),\n",
       " ('with', 10747),\n",
       " ('for', 9879),\n",
       " ('this', 9555),\n",
       " ('his', 9542),\n",
       " ('film', 9480),\n",
       " ('i', 8882),\n",
       " ('he', 8861),\n",
       " ('but', 8622),\n",
       " ('on', 7366)]"
      ]
     },
     "execution_count": 142,
     "metadata": {},
     "output_type": "execute_result"
    }
   ],
   "source": [
    "count_segments.most_common(20)"
   ]
  },
  {
   "cell_type": "code",
   "execution_count": 145,
   "id": "4f0812a6-b6d2-474e-bbb8-2194be0f5523",
   "metadata": {},
   "outputs": [
    {
     "name": "stdout",
     "output_type": "stream",
     "text": [
      "CPU times: total: 188 ms\n",
      "Wall time: 199 ms\n"
     ]
    }
   ],
   "source": [
    "%%time\n",
    "# make a list of frequence enough words\n",
    "bag_of_words = set()\n",
    "for item in count_segments.elements():\n",
    "    if count_segments[item] >= 5:\n",
    "        bag_of_words.add(item)"
   ]
  },
  {
   "cell_type": "code",
   "execution_count": 146,
   "id": "5069e5f3-a225-4b18-897e-8d5673aca726",
   "metadata": {},
   "outputs": [
    {
     "data": {
      "text/plain": [
       "14751"
      ]
     },
     "execution_count": 146,
     "metadata": {},
     "output_type": "execute_result"
    }
   ],
   "source": [
    "len(bag_of_words)"
   ]
  },
  {
   "cell_type": "code",
   "execution_count": 177,
   "id": "6bcf0bb2-119e-40b7-9a32-46daaa1beff5",
   "metadata": {},
   "outputs": [],
   "source": [
    "#go over sentences without spaces - look for the longest prefix\n",
    "def sentence_segmentation(sentence):\n",
    "    new_sentence = ''\n",
    "    from_index = 0\n",
    "    prefix_len=MAX_WORD_LEN\n",
    "    while from_index < len(sentence):\n",
    "        to_index = min(from_index+prefix_len, len(sentence))\n",
    "        if sentence[from_index:to_index] in bag_of_words:\n",
    "            new_sentence += sentence[from_index:to_index] + ' '\n",
    "            from_index=to_index\n",
    "            prefix_len=MAX_WORD_LEN\n",
    "        else:\n",
    "            prefix_len -= 1\n",
    "            if prefix_len==0:\n",
    "                prefix_len=MAX_WORD_LEN\n",
    "                from_index+=1\n",
    "        \n",
    "    return new_sentence.strip()\n",
    "\n"
   ]
  },
  {
   "cell_type": "code",
   "execution_count": 178,
   "id": "db3aa74a-1ad3-4ce2-8cb6-b81a2606a57c",
   "metadata": {},
   "outputs": [
    {
     "name": "stdout",
     "output_type": "stream",
     "text": [
      "it starts off normal but then downshifts into this fantasy world in which you as an audience member have no idea what s going on\n",
      "itstartsoffnormalbutthendownshiftsintothisfantasyworldinwhichyouasanaudiencememberhavenoideawhatsgoingon\n"
     ]
    },
    {
     "data": {
      "text/plain": [
       "'its t arts off normal butt hen downs hi f t sin to this fantasy world in which you as an audience member haven o idea what s going on'"
      ]
     },
     "execution_count": 178,
     "metadata": {},
     "output_type": "execute_result"
    }
   ],
   "source": [
    "print(df.sentence[10])\n",
    "print(df.sentence_no_spaces[10])\n",
    "sentence_segmentation(df.sentence_no_spaces[10])"
   ]
  },
  {
   "cell_type": "code",
   "execution_count": 179,
   "id": "f2cc7d89-c5eb-438d-806e-3f3841388e46",
   "metadata": {},
   "outputs": [
    {
     "name": "stdout",
     "output_type": "stream",
     "text": [
      "CPU times: total: 4.48 s\n",
      "Wall time: 4.5 s\n"
     ]
    }
   ],
   "source": [
    "%%time\n",
    "new_sentences = []\n",
    "for sentence in df.sentence_no_spaces:\n",
    "    new_sentences.append(sentence_segmentation(sentence))\n",
    "   \n",
    "    "
   ]
  },
  {
   "cell_type": "code",
   "execution_count": 180,
   "id": "568f0b7a-4d9d-49b8-8d83-6374aee95283",
   "metadata": {},
   "outputs": [],
   "source": [
    "df['sentenced_restored'] = new_sentences"
   ]
  },
  {
   "cell_type": "code",
   "execution_count": 186,
   "id": "4c583d4a-e4f0-405b-9c0f-25da8a81b948",
   "metadata": {},
   "outputs": [
    {
     "data": {
      "text/html": [
       "<div>\n",
       "<style scoped>\n",
       "    .dataframe tbody tr th:only-of-type {\n",
       "        vertical-align: middle;\n",
       "    }\n",
       "\n",
       "    .dataframe tbody tr th {\n",
       "        vertical-align: top;\n",
       "    }\n",
       "\n",
       "    .dataframe thead th {\n",
       "        text-align: right;\n",
       "    }\n",
       "</style>\n",
       "<table border=\"1\" class=\"dataframe\">\n",
       "  <thead>\n",
       "    <tr style=\"text-align: right;\">\n",
       "      <th></th>\n",
       "      <th>sentence</th>\n",
       "      <th>sentence_no_spaces</th>\n",
       "      <th>sentenced_restored</th>\n",
       "    </tr>\n",
       "  </thead>\n",
       "  <tbody>\n",
       "    <tr>\n",
       "      <th>41028</th>\n",
       "      <td>the same thing happens when you watch a horror...</td>\n",
       "      <td>thesamethinghappenswhenyouwatchahorrormovieora...</td>\n",
       "      <td>the same thing happens when you watch ah or r ...</td>\n",
       "    </tr>\n",
       "    <tr>\n",
       "      <th>26881</th>\n",
       "      <td>while rimbaud becomes angered at the literary ...</td>\n",
       "      <td>whilerimbaudbecomesangeredattheliteraryworldan...</td>\n",
       "      <td>while rimbaud becomes angered att he literary ...</td>\n",
       "    </tr>\n",
       "    <tr>\n",
       "      <th>5574</th>\n",
       "      <td>i could see myself showing this movie to frien...</td>\n",
       "      <td>icouldseemyselfshowingthismovietofriendsandget...</td>\n",
       "      <td>i could seem y self showing this movie to frie...</td>\n",
       "    </tr>\n",
       "    <tr>\n",
       "      <th>62412</th>\n",
       "      <td>perhaps that alone gives us hope for the future</td>\n",
       "      <td>perhapsthatalonegivesushopeforthefuture</td>\n",
       "      <td>perhaps that alone gives us hope forth e future</td>\n",
       "    </tr>\n",
       "    <tr>\n",
       "      <th>50497</th>\n",
       "      <td>it was very original very well shot and very n...</td>\n",
       "      <td>itwasveryoriginalverywellshotandverynostalgica...</td>\n",
       "      <td>it was very original very wells hot and very n...</td>\n",
       "    </tr>\n",
       "    <tr>\n",
       "      <th>56216</th>\n",
       "      <td>there ll be a boat in a little while for daddies</td>\n",
       "      <td>therellbeaboatinalittlewhilefordaddies</td>\n",
       "      <td>there ll be a boat in ali t t le while ford ad...</td>\n",
       "    </tr>\n",
       "    <tr>\n",
       "      <th>51411</th>\n",
       "      <td>at times i was so amazed by the computer graph...</td>\n",
       "      <td>attimesiwassoamazedbythecomputergraphicsthatyo...</td>\n",
       "      <td>att i me s i was so amazed by the computer gra...</td>\n",
       "    </tr>\n",
       "    <tr>\n",
       "      <th>49952</th>\n",
       "      <td>the film perfectly captures the essence of the...</td>\n",
       "      <td>thefilmperfectlycapturestheessenceofthediscope...</td>\n",
       "      <td>the film perfectly captures the essence of the...</td>\n",
       "    </tr>\n",
       "    <tr>\n",
       "      <th>3213</th>\n",
       "      <td>but anyway the actors do as much as they can w...</td>\n",
       "      <td>butanywaytheactorsdoasmuchastheycanwithwhatthe...</td>\n",
       "      <td>but anyway the actors do as much as they can w...</td>\n",
       "    </tr>\n",
       "    <tr>\n",
       "      <th>5186</th>\n",
       "      <td>in a re make of its own961 absent minded profe...</td>\n",
       "      <td>inaremakeofitsown961absentmindedprofessordisne...</td>\n",
       "      <td>in are make of its own 6 1 absent minded profe...</td>\n",
       "    </tr>\n",
       "    <tr>\n",
       "      <th>35948</th>\n",
       "      <td>at one point suzanne is expounding on her know...</td>\n",
       "      <td>atonepointsuzanneisexpoundingonherknowledgeofw...</td>\n",
       "      <td>at one points u z anne is ex pounding on her k...</td>\n",
       "    </tr>\n",
       "    <tr>\n",
       "      <th>9345</th>\n",
       "      <td>, but she does some things in the last few sce...</td>\n",
       "      <td>,butshedoessomethingsinthelastfewscenesthatare...</td>\n",
       "      <td>, but shed o e s something sin the last few sc...</td>\n",
       "    </tr>\n",
       "    <tr>\n",
       "      <th>57803</th>\n",
       "      <td>identity</td>\n",
       "      <td>identity</td>\n",
       "      <td>identity</td>\n",
       "    </tr>\n",
       "    <tr>\n",
       "      <th>7420</th>\n",
       "      <td>simply put it is far fetched poorly crafted bu...</td>\n",
       "      <td>simplyputitisfarfetchedpoorlycraftedbutveryent...</td>\n",
       "      <td>simply put it is far fetched poorly crafted bu...</td>\n",
       "    </tr>\n",
       "    <tr>\n",
       "      <th>3536</th>\n",
       "      <td>that in itself is forgivable hollywood constan...</td>\n",
       "      <td>thatinitselfisforgivablehollywoodconstantlytri...</td>\n",
       "      <td>that in itself is forgivable hollywood constan...</td>\n",
       "    </tr>\n",
       "    <tr>\n",
       "      <th>55542</th>\n",
       "      <td>unwittingly befriended by a non stop talking d...</td>\n",
       "      <td>unwittinglybefriendedbyanonstoptalkingdonkeyed...</td>\n",
       "      <td>un witt ing l y befriended by an on stop talki...</td>\n",
       "    </tr>\n",
       "    <tr>\n",
       "      <th>50308</th>\n",
       "      <td>and as layers of the truth become revealed the...</td>\n",
       "      <td>andaslayersofthetruthbecomerevealedthestorygro...</td>\n",
       "      <td>and as layers of the truth become revealed the...</td>\n",
       "    </tr>\n",
       "    <tr>\n",
       "      <th>32433</th>\n",
       "      <td>also in the supporting cast paul giamatti as r...</td>\n",
       "      <td>alsointhesupportingcastpaulgiamattiasrudyoneof...</td>\n",
       "      <td>also in the supporting cast paul giamatti as r...</td>\n",
       "    </tr>\n",
       "    <tr>\n",
       "      <th>16073</th>\n",
       "      <td>michael crichton has had a long career of writ...</td>\n",
       "      <td>michaelcrichtonhashadalongcareerofwritingnovel...</td>\n",
       "      <td>michael crichton has had along career of writi...</td>\n",
       "    </tr>\n",
       "    <tr>\n",
       "      <th>12094</th>\n",
       "      <td>while her conviction and intense believing rem...</td>\n",
       "      <td>whileherconvictionandintensebelievingremainsan...</td>\n",
       "      <td>while her conviction and intense believing rem...</td>\n",
       "    </tr>\n",
       "  </tbody>\n",
       "</table>\n",
       "</div>"
      ],
      "text/plain": [
       "                                                sentence  \\\n",
       "41028  the same thing happens when you watch a horror...   \n",
       "26881  while rimbaud becomes angered at the literary ...   \n",
       "5574   i could see myself showing this movie to frien...   \n",
       "62412    perhaps that alone gives us hope for the future   \n",
       "50497  it was very original very well shot and very n...   \n",
       "56216   there ll be a boat in a little while for daddies   \n",
       "51411  at times i was so amazed by the computer graph...   \n",
       "49952  the film perfectly captures the essence of the...   \n",
       "3213   but anyway the actors do as much as they can w...   \n",
       "5186   in a re make of its own961 absent minded profe...   \n",
       "35948  at one point suzanne is expounding on her know...   \n",
       "9345   , but she does some things in the last few sce...   \n",
       "57803                                           identity   \n",
       "7420   simply put it is far fetched poorly crafted bu...   \n",
       "3536   that in itself is forgivable hollywood constan...   \n",
       "55542  unwittingly befriended by a non stop talking d...   \n",
       "50308  and as layers of the truth become revealed the...   \n",
       "32433  also in the supporting cast paul giamatti as r...   \n",
       "16073  michael crichton has had a long career of writ...   \n",
       "12094  while her conviction and intense believing rem...   \n",
       "\n",
       "                                      sentence_no_spaces  \\\n",
       "41028  thesamethinghappenswhenyouwatchahorrormovieora...   \n",
       "26881  whilerimbaudbecomesangeredattheliteraryworldan...   \n",
       "5574   icouldseemyselfshowingthismovietofriendsandget...   \n",
       "62412            perhapsthatalonegivesushopeforthefuture   \n",
       "50497  itwasveryoriginalverywellshotandverynostalgica...   \n",
       "56216             therellbeaboatinalittlewhilefordaddies   \n",
       "51411  attimesiwassoamazedbythecomputergraphicsthatyo...   \n",
       "49952  thefilmperfectlycapturestheessenceofthediscope...   \n",
       "3213   butanywaytheactorsdoasmuchastheycanwithwhatthe...   \n",
       "5186   inaremakeofitsown961absentmindedprofessordisne...   \n",
       "35948  atonepointsuzanneisexpoundingonherknowledgeofw...   \n",
       "9345   ,butshedoessomethingsinthelastfewscenesthatare...   \n",
       "57803                                           identity   \n",
       "7420   simplyputitisfarfetchedpoorlycraftedbutveryent...   \n",
       "3536   thatinitselfisforgivablehollywoodconstantlytri...   \n",
       "55542  unwittinglybefriendedbyanonstoptalkingdonkeyed...   \n",
       "50308  andaslayersofthetruthbecomerevealedthestorygro...   \n",
       "32433  alsointhesupportingcastpaulgiamattiasrudyoneof...   \n",
       "16073  michaelcrichtonhashadalongcareerofwritingnovel...   \n",
       "12094  whileherconvictionandintensebelievingremainsan...   \n",
       "\n",
       "                                      sentenced_restored  \n",
       "41028  the same thing happens when you watch ah or r ...  \n",
       "26881  while rimbaud becomes angered att he literary ...  \n",
       "5574   i could seem y self showing this movie to frie...  \n",
       "62412    perhaps that alone gives us hope forth e future  \n",
       "50497  it was very original very wells hot and very n...  \n",
       "56216  there ll be a boat in ali t t le while ford ad...  \n",
       "51411  att i me s i was so amazed by the computer gra...  \n",
       "49952  the film perfectly captures the essence of the...  \n",
       "3213   but anyway the actors do as much as they can w...  \n",
       "5186   in are make of its own 6 1 absent minded profe...  \n",
       "35948  at one points u z anne is ex pounding on her k...  \n",
       "9345   , but shed o e s something sin the last few sc...  \n",
       "57803                                           identity  \n",
       "7420   simply put it is far fetched poorly crafted bu...  \n",
       "3536   that in itself is forgivable hollywood constan...  \n",
       "55542  un witt ing l y befriended by an on stop talki...  \n",
       "50308  and as layers of the truth become revealed the...  \n",
       "32433  also in the supporting cast paul giamatti as r...  \n",
       "16073  michael crichton has had along career of writi...  \n",
       "12094  while her conviction and intense believing rem...  "
      ]
     },
     "execution_count": 186,
     "metadata": {},
     "output_type": "execute_result"
    }
   ],
   "source": [
    "df.sample(20)"
   ]
  },
  {
   "cell_type": "code",
   "execution_count": 183,
   "id": "592fcda3-7373-4aae-ae32-da6ef5f71b44",
   "metadata": {},
   "outputs": [
    {
     "data": {
      "text/plain": [
       "8934"
      ]
     },
     "execution_count": 183,
     "metadata": {},
     "output_type": "execute_result"
    }
   ],
   "source": [
    "sum(df['sentenced_restored'] == df['sentence'])"
   ]
  },
  {
   "cell_type": "code",
   "execution_count": 184,
   "id": "288448e9-da7a-4c73-b0ec-9f0a1337ccc8",
   "metadata": {},
   "outputs": [
    {
     "data": {
      "text/plain": [
       "65258"
      ]
     },
     "execution_count": 184,
     "metadata": {},
     "output_type": "execute_result"
    }
   ],
   "source": [
    "len(df)"
   ]
  },
  {
   "cell_type": "code",
   "execution_count": 185,
   "id": "7c027107-42b0-4b1e-bb33-8ee28c14f221",
   "metadata": {},
   "outputs": [
    {
     "data": {
      "text/plain": [
       "0.13690275521775108"
      ]
     },
     "execution_count": 185,
     "metadata": {},
     "output_type": "execute_result"
    }
   ],
   "source": [
    "sum(df['sentenced_restored'] == df['sentence']) / len(df)"
   ]
  },
  {
   "cell_type": "code",
   "execution_count": null,
   "id": "7f88368a-5131-4c0a-82a1-debf8e3c190b",
   "metadata": {},
   "outputs": [],
   "source": []
  }
 ],
 "metadata": {
  "kernelspec": {
   "display_name": "Python 3",
   "language": "python",
   "name": "python3"
  },
  "language_info": {
   "codemirror_mode": {
    "name": "ipython",
    "version": 3
   },
   "file_extension": ".py",
   "mimetype": "text/x-python",
   "name": "python",
   "nbconvert_exporter": "python",
   "pygments_lexer": "ipython3",
   "version": "3.8.8"
  }
 },
 "nbformat": 4,
 "nbformat_minor": 5
}

{
 "cells": [
  {
   "cell_type": "code",
   "execution_count": 1,
   "id": "1f22690b-43bf-48cc-95fe-63632fdff8ee",
   "metadata": {},
   "outputs": [],
   "source": [
    "import nltk\n",
    "import re\n",
    "from collections import Counter\n",
    "import pandas as pd\n",
    "#nltk.download(\"movie_reviews\")\n",
    "from nltk.corpus import movie_reviews as mr\n",
    "from nltk.metrics.distance import edit_distance\n",
    "import numpy as np"
   ]
  },
  {
   "cell_type": "code",
   "execution_count": 2,
   "id": "86e97cb9-11fb-4d1b-a0d6-bc40ac6ef685",
   "metadata": {},
   "outputs": [
    {
     "name": "stdout",
     "output_type": "stream",
     "text": [
      "1583820 65258 2000\n"
     ]
    }
   ],
   "source": [
    "print(len(mr.words()), len(mr.sents()), len(mr.paras()))"
   ]
  },
  {
   "cell_type": "code",
   "execution_count": 3,
   "id": "d0cd727d-17c7-4c7b-ad55-9ad6f4a5d029",
   "metadata": {},
   "outputs": [
    {
     "data": {
      "text/plain": [
       "[['plot', ':', 'two', 'teen', 'couples', 'go', 'to', 'a', 'church', 'party', ',', 'drink', 'and', 'then', 'drive', '.'], ['they', 'get', 'into', 'an', 'accident', '.'], ...]"
      ]
     },
     "execution_count": 3,
     "metadata": {},
     "output_type": "execute_result"
    }
   ],
   "source": [
    "mr.sents()"
   ]
  },
  {
   "cell_type": "code",
   "execution_count": 4,
   "id": "243ccf28-654b-4dad-9ab4-b3d86df5d6f5",
   "metadata": {},
   "outputs": [],
   "source": [
    "# put the sentences in a dataframe\n",
    "list_of_sentences = []\n",
    "for list_of_words in mr.sents():\n",
    "    sentence = ' '.join(list_of_words)\n",
    "    list_of_sentences.append({'sentence':re.sub('\\W+', ' ', sentence).strip(), 'sentence_no_spaces':re.sub('\\W+', '', sentence)})\n",
    "\n",
    "df = pd.DataFrame(list_of_sentences)"
   ]
  },
  {
   "cell_type": "code",
   "execution_count": 5,
   "id": "911afd4a-56ea-44e1-bc9c-15565d92e13d",
   "metadata": {},
   "outputs": [
    {
     "data": {
      "text/html": [
       "<div>\n",
       "<style scoped>\n",
       "    .dataframe tbody tr th:only-of-type {\n",
       "        vertical-align: middle;\n",
       "    }\n",
       "\n",
       "    .dataframe tbody tr th {\n",
       "        vertical-align: top;\n",
       "    }\n",
       "\n",
       "    .dataframe thead th {\n",
       "        text-align: right;\n",
       "    }\n",
       "</style>\n",
       "<table border=\"1\" class=\"dataframe\">\n",
       "  <thead>\n",
       "    <tr style=\"text-align: right;\">\n",
       "      <th></th>\n",
       "      <th>sentence</th>\n",
       "      <th>sentence_no_spaces</th>\n",
       "    </tr>\n",
       "  </thead>\n",
       "  <tbody>\n",
       "    <tr>\n",
       "      <th>0</th>\n",
       "      <td>plot two teen couples go to a church party dri...</td>\n",
       "      <td>plottwoteencouplesgotoachurchpartydrinkandthen...</td>\n",
       "    </tr>\n",
       "    <tr>\n",
       "      <th>1</th>\n",
       "      <td>they get into an accident</td>\n",
       "      <td>theygetintoanaccident</td>\n",
       "    </tr>\n",
       "    <tr>\n",
       "      <th>2</th>\n",
       "      <td>one of the guys dies but his girlfriend contin...</td>\n",
       "      <td>oneoftheguysdiesbuthisgirlfriendcontinuestosee...</td>\n",
       "    </tr>\n",
       "    <tr>\n",
       "      <th>3</th>\n",
       "      <td>what s the deal</td>\n",
       "      <td>whatsthedeal</td>\n",
       "    </tr>\n",
       "    <tr>\n",
       "      <th>4</th>\n",
       "      <td>watch the movie and sorta find out</td>\n",
       "      <td>watchthemovieandsortafindout</td>\n",
       "    </tr>\n",
       "    <tr>\n",
       "      <th>...</th>\n",
       "      <td>...</td>\n",
       "      <td>...</td>\n",
       "    </tr>\n",
       "    <tr>\n",
       "      <th>65253</th>\n",
       "      <td>it s a quick straight shot to the movie s end</td>\n",
       "      <td>itsaquickstraightshottothemoviesend</td>\n",
       "    </tr>\n",
       "    <tr>\n",
       "      <th>65254</th>\n",
       "      <td>in terms of overall quality i would compare th...</td>\n",
       "      <td>intermsofoverallqualityiwouldcomparethetrumans...</td>\n",
       "    </tr>\n",
       "    <tr>\n",
       "      <th>65255</th>\n",
       "      <td>both films are well made with interesting stor...</td>\n",
       "      <td>bothfilmsarewellmadewithinterestingstoriesseti...</td>\n",
       "    </tr>\n",
       "    <tr>\n",
       "      <th>65256</th>\n",
       "      <td>but neither film really felt like it capitaliz...</td>\n",
       "      <td>butneitherfilmreallyfeltlikeitcapitalizedonall...</td>\n",
       "    </tr>\n",
       "    <tr>\n",
       "      <th>65257</th>\n",
       "      <td>nevertheless i look forward to niccol s next f...</td>\n",
       "      <td>neverthelessilookforwardtoniccolsnextfilmwhate...</td>\n",
       "    </tr>\n",
       "  </tbody>\n",
       "</table>\n",
       "<p>65258 rows × 2 columns</p>\n",
       "</div>"
      ],
      "text/plain": [
       "                                                sentence  \\\n",
       "0      plot two teen couples go to a church party dri...   \n",
       "1                              they get into an accident   \n",
       "2      one of the guys dies but his girlfriend contin...   \n",
       "3                                        what s the deal   \n",
       "4                     watch the movie and sorta find out   \n",
       "...                                                  ...   \n",
       "65253      it s a quick straight shot to the movie s end   \n",
       "65254  in terms of overall quality i would compare th...   \n",
       "65255  both films are well made with interesting stor...   \n",
       "65256  but neither film really felt like it capitaliz...   \n",
       "65257  nevertheless i look forward to niccol s next f...   \n",
       "\n",
       "                                      sentence_no_spaces  \n",
       "0      plottwoteencouplesgotoachurchpartydrinkandthen...  \n",
       "1                                  theygetintoanaccident  \n",
       "2      oneoftheguysdiesbuthisgirlfriendcontinuestosee...  \n",
       "3                                           whatsthedeal  \n",
       "4                           watchthemovieandsortafindout  \n",
       "...                                                  ...  \n",
       "65253                itsaquickstraightshottothemoviesend  \n",
       "65254  intermsofoverallqualityiwouldcomparethetrumans...  \n",
       "65255  bothfilmsarewellmadewithinterestingstoriesseti...  \n",
       "65256  butneitherfilmreallyfeltlikeitcapitalizedonall...  \n",
       "65257  neverthelessilookforwardtoniccolsnextfilmwhate...  \n",
       "\n",
       "[65258 rows x 2 columns]"
      ]
     },
     "execution_count": 5,
     "metadata": {},
     "output_type": "execute_result"
    }
   ],
   "source": [
    "df"
   ]
  },
  {
   "cell_type": "code",
   "execution_count": 6,
   "id": "b1270780-92b6-444e-a732-1b5716e4793c",
   "metadata": {},
   "outputs": [
    {
     "name": "stdout",
     "output_type": "stream",
     "text": [
      "CPU times: total: 531 ms\n",
      "Wall time: 520 ms\n"
     ]
    }
   ],
   "source": [
    "%%time\n",
    "# build a dictionay\n",
    "MAX_WORD_LEN = 15\n",
    "count_segments = Counter()\n",
    "\n",
    "# count everything\n",
    "for sentence in df.sentence:\n",
    "    for word in sentence.split(' '):\n",
    "        count_segments[word] += 1\n",
    "                               "
   ]
  },
  {
   "cell_type": "code",
   "execution_count": 7,
   "id": "d400c903-990e-48c3-8f4b-ba0851256415",
   "metadata": {},
   "outputs": [
    {
     "data": {
      "text/plain": [
       "39697"
      ]
     },
     "execution_count": 7,
     "metadata": {},
     "output_type": "execute_result"
    }
   ],
   "source": [
    "len(count_segments)"
   ]
  },
  {
   "cell_type": "code",
   "execution_count": 8,
   "id": "310b2ac2-4809-4b5e-94f9-a0503d1592ac",
   "metadata": {},
   "outputs": [
    {
     "data": {
      "text/plain": [
       "[('the', 76529),\n",
       " ('a', 38106),\n",
       " ('and', 35576),\n",
       " ('of', 34123),\n",
       " ('to', 31937),\n",
       " ('is', 25195),\n",
       " ('in', 21822),\n",
       " ('s', 18513),\n",
       " ('it', 16107),\n",
       " ('that', 15924),\n",
       " ('as', 11378),\n",
       " ('with', 10792),\n",
       " ('for', 9961),\n",
       " ('his', 9587),\n",
       " ('this', 9578),\n",
       " ('film', 9517),\n",
       " ('i', 8889),\n",
       " ('he', 8864),\n",
       " ('but', 8634),\n",
       " ('on', 7385)]"
      ]
     },
     "execution_count": 8,
     "metadata": {},
     "output_type": "execute_result"
    }
   ],
   "source": [
    "count_segments.most_common(20)"
   ]
  },
  {
   "cell_type": "code",
   "execution_count": 9,
   "id": "4f0812a6-b6d2-474e-bbb8-2194be0f5523",
   "metadata": {},
   "outputs": [
    {
     "name": "stdout",
     "output_type": "stream",
     "text": [
      "CPU times: total: 266 ms\n",
      "Wall time: 260 ms\n"
     ]
    }
   ],
   "source": [
    "%%time\n",
    "# make a list of frequent enough words\n",
    "bag_of_words = set()\n",
    "for item in count_segments.elements():\n",
    "    if count_segments[item] >= 5:\n",
    "        bag_of_words.add(item)"
   ]
  },
  {
   "cell_type": "code",
   "execution_count": 10,
   "id": "5069e5f3-a225-4b18-897e-8d5673aca726",
   "metadata": {},
   "outputs": [
    {
     "data": {
      "text/plain": [
       "14759"
      ]
     },
     "execution_count": 10,
     "metadata": {},
     "output_type": "execute_result"
    }
   ],
   "source": [
    "len(bag_of_words)"
   ]
  },
  {
   "cell_type": "code",
   "execution_count": 11,
   "id": "6bcf0bb2-119e-40b7-9a32-46daaa1beff5",
   "metadata": {},
   "outputs": [],
   "source": [
    "#go over sentences without spaces - look for the longest prefix\n",
    "def sentence_segmentation(sentence):\n",
    "    new_sentence = ''\n",
    "    from_index = 0\n",
    "    prefix_len=MAX_WORD_LEN\n",
    "    while from_index < len(sentence):\n",
    "        to_index = min(from_index+prefix_len, len(sentence))\n",
    "        if sentence[from_index:to_index] in bag_of_words:\n",
    "            new_sentence += sentence[from_index:to_index] + ' '\n",
    "            from_index=to_index\n",
    "            prefix_len=MAX_WORD_LEN\n",
    "        else:\n",
    "            prefix_len -= 1\n",
    "            if prefix_len==0:\n",
    "                prefix_len=MAX_WORD_LEN\n",
    "                from_index+=1\n",
    "        \n",
    "    return new_sentence.strip()\n",
    "\n"
   ]
  },
  {
   "cell_type": "code",
   "execution_count": 12,
   "id": "db3aa74a-1ad3-4ce2-8cb6-b81a2606a57c",
   "metadata": {},
   "outputs": [
    {
     "name": "stdout",
     "output_type": "stream",
     "text": [
      "it starts off normal but then downshifts into this fantasy world in which you as an audience member have no idea what s going on\n",
      "itstartsoffnormalbutthendownshiftsintothisfantasyworldinwhichyouasanaudiencememberhavenoideawhatsgoingon\n"
     ]
    },
    {
     "data": {
      "text/plain": [
       "'its t arts off normal butt hen downs hi f t sin to this fantasy world in which you as an audience member haven o idea what s going on'"
      ]
     },
     "execution_count": 12,
     "metadata": {},
     "output_type": "execute_result"
    }
   ],
   "source": [
    "print(df.sentence[10])\n",
    "print(df.sentence_no_spaces[10])\n",
    "sentence_segmentation(df.sentence_no_spaces[10])"
   ]
  },
  {
   "cell_type": "code",
   "execution_count": 13,
   "id": "f2cc7d89-c5eb-438d-806e-3f3841388e46",
   "metadata": {},
   "outputs": [
    {
     "name": "stdout",
     "output_type": "stream",
     "text": [
      "CPU times: total: 11 s\n",
      "Wall time: 11 s\n"
     ]
    }
   ],
   "source": [
    "%%time\n",
    "# add reconstructed sentences to the df\n",
    "new_sentences = []\n",
    "for sentence in df.sentence_no_spaces:\n",
    "    new_sentences.append(sentence_segmentation(sentence))\n",
    "   \n",
    "    "
   ]
  },
  {
   "cell_type": "code",
   "execution_count": 14,
   "id": "568f0b7a-4d9d-49b8-8d83-6374aee95283",
   "metadata": {},
   "outputs": [],
   "source": [
    "df['sentenced_restored'] = new_sentences"
   ]
  },
  {
   "cell_type": "code",
   "execution_count": 15,
   "id": "4c583d4a-e4f0-405b-9c0f-25da8a81b948",
   "metadata": {},
   "outputs": [
    {
     "data": {
      "text/html": [
       "<div>\n",
       "<style scoped>\n",
       "    .dataframe tbody tr th:only-of-type {\n",
       "        vertical-align: middle;\n",
       "    }\n",
       "\n",
       "    .dataframe tbody tr th {\n",
       "        vertical-align: top;\n",
       "    }\n",
       "\n",
       "    .dataframe thead th {\n",
       "        text-align: right;\n",
       "    }\n",
       "</style>\n",
       "<table border=\"1\" class=\"dataframe\">\n",
       "  <thead>\n",
       "    <tr style=\"text-align: right;\">\n",
       "      <th></th>\n",
       "      <th>sentence</th>\n",
       "      <th>sentence_no_spaces</th>\n",
       "      <th>sentenced_restored</th>\n",
       "    </tr>\n",
       "  </thead>\n",
       "  <tbody>\n",
       "    <tr>\n",
       "      <th>2718</th>\n",
       "      <td>liam neeson seems bored and embarrassed and se...</td>\n",
       "      <td>liamneesonseemsboredandembarrassedandseemsdesp...</td>\n",
       "      <td>liam neeson seems bored and embarrassed and se...</td>\n",
       "    </tr>\n",
       "    <tr>\n",
       "      <th>49667</th>\n",
       "      <td>it s a definite case of male bonding for the f...</td>\n",
       "      <td>itsadefinitecaseofmalebondingforthefivecrimina...</td>\n",
       "      <td>its ad e fi n it e case of male bonding forth ...</td>\n",
       "    </tr>\n",
       "    <tr>\n",
       "      <th>13042</th>\n",
       "      <td>in an effort to make this the biggest sociolog...</td>\n",
       "      <td>inanefforttomakethisthebiggestsociologicaleven...</td>\n",
       "      <td>inane f fort tom a k et his the biggest sociol...</td>\n",
       "    </tr>\n",
       "    <tr>\n",
       "      <th>38380</th>\n",
       "      <td>he returns the favour when he steps on stage o...</td>\n",
       "      <td>hereturnsthefavourwhenhestepsonstageonenightan...</td>\n",
       "      <td>here turns the favour when he steps on stage o...</td>\n",
       "    </tr>\n",
       "    <tr>\n",
       "      <th>5143</th>\n",
       "      <td>march may be attractive but at least judging b...</td>\n",
       "      <td>marchmaybeattractivebutatleastjudgingbythisper...</td>\n",
       "      <td>march maybe attractive but at least judging by...</td>\n",
       "    </tr>\n",
       "    <tr>\n",
       "      <th>64314</th>\n",
       "      <td>his building blocks are lots of small notes ti...</td>\n",
       "      <td>hisbuildingblocksarelotsofsmallnotestinygrains...</td>\n",
       "      <td>his building blocks are lots of small notes ti...</td>\n",
       "    </tr>\n",
       "    <tr>\n",
       "      <th>10608</th>\n",
       "      <td>it rips off a lot of good movies that are wort...</td>\n",
       "      <td>itripsoffalotofgoodmoviesthatareworthseeing</td>\n",
       "      <td>it rips off alot of good movies that are worth...</td>\n",
       "    </tr>\n",
       "    <tr>\n",
       "      <th>11183</th>\n",
       "      <td>nearly every scene between chris rock and morg...</td>\n",
       "      <td>nearlyeveryscenebetweenchrisrockandmorganfreem...</td>\n",
       "      <td>nearly every scene between chris rock and morg...</td>\n",
       "    </tr>\n",
       "    <tr>\n",
       "      <th>11189</th>\n",
       "      <td>freeman is effective as always though his perf...</td>\n",
       "      <td>freemaniseffectiveasalwaysthoughhisperformance...</td>\n",
       "      <td>freeman is effective as always though his perf...</td>\n",
       "    </tr>\n",
       "    <tr>\n",
       "      <th>65218</th>\n",
       "      <td>truman is really suspicious now</td>\n",
       "      <td>trumanisreallysuspiciousnow</td>\n",
       "      <td>truman is really suspicious now</td>\n",
       "    </tr>\n",
       "    <tr>\n",
       "      <th>61799</th>\n",
       "      <td>even ben affleck leading the troupe of actors ...</td>\n",
       "      <td>evenbenaffleckleadingthetroupeofactorsmanagest...</td>\n",
       "      <td>even ben affleck leading the troupe of actors ...</td>\n",
       "    </tr>\n",
       "    <tr>\n",
       "      <th>9284</th>\n",
       "      <td>he vowed to have vengeance</td>\n",
       "      <td>hevowedtohavevengeance</td>\n",
       "      <td>he vowed to have vengeance</td>\n",
       "    </tr>\n",
       "    <tr>\n",
       "      <th>31027</th>\n",
       "      <td>slug on a stick</td>\n",
       "      <td>slugonastick</td>\n",
       "      <td>slug on as t i ck</td>\n",
       "    </tr>\n",
       "    <tr>\n",
       "      <th>62680</th>\n",
       "      <td>even horror films have learned this a genre wh...</td>\n",
       "      <td>evenhorrorfilmshavelearnedthisagenrewhichispro...</td>\n",
       "      <td>even horror films have learned this age n re w...</td>\n",
       "    </tr>\n",
       "    <tr>\n",
       "      <th>13231</th>\n",
       "      <td>it takes the entire first half hour to establi...</td>\n",
       "      <td>ittakestheentirefirsthalfhourtoestablishthemov...</td>\n",
       "      <td>it takes the entire first half hour toes t a b...</td>\n",
       "    </tr>\n",
       "    <tr>\n",
       "      <th>34851</th>\n",
       "      <td>one of the most obvious is when he defeats max...</td>\n",
       "      <td>oneofthemostobviousiswhenhedefeatsmaximeinsquash</td>\n",
       "      <td>one of them o st obvious is when he defeats ma...</td>\n",
       "    </tr>\n",
       "    <tr>\n",
       "      <th>29189</th>\n",
       "      <td>that such a scene along with the rest of the m...</td>\n",
       "      <td>thatsuchascenealongwiththerestofthemoviewasint...</td>\n",
       "      <td>thats u c has c en e along with there st of th...</td>\n",
       "    </tr>\n",
       "    <tr>\n",
       "      <th>65029</th>\n",
       "      <td>his reply the big deal is that the guy gives m...</td>\n",
       "      <td>hisreplythebigdealisthattheguygivesmethecreeps...</td>\n",
       "      <td>his reply the big deal is that the guy gives m...</td>\n",
       "    </tr>\n",
       "    <tr>\n",
       "      <th>9989</th>\n",
       "      <td>abruptly ending without any susceptible moment...</td>\n",
       "      <td>abruptlyendingwithoutanysusceptiblemomentumwhe...</td>\n",
       "      <td>abruptly ending without any s us c e p t i b l...</td>\n",
       "    </tr>\n",
       "    <tr>\n",
       "      <th>16901</th>\n",
       "      <td>he wants to find god to discover why bad thing...</td>\n",
       "      <td>hewantstofindgodtodiscoverwhybadthingshappen</td>\n",
       "      <td>he wants to find god tod is cover why bad thin...</td>\n",
       "    </tr>\n",
       "  </tbody>\n",
       "</table>\n",
       "</div>"
      ],
      "text/plain": [
       "                                                sentence  \\\n",
       "2718   liam neeson seems bored and embarrassed and se...   \n",
       "49667  it s a definite case of male bonding for the f...   \n",
       "13042  in an effort to make this the biggest sociolog...   \n",
       "38380  he returns the favour when he steps on stage o...   \n",
       "5143   march may be attractive but at least judging b...   \n",
       "64314  his building blocks are lots of small notes ti...   \n",
       "10608  it rips off a lot of good movies that are wort...   \n",
       "11183  nearly every scene between chris rock and morg...   \n",
       "11189  freeman is effective as always though his perf...   \n",
       "65218                    truman is really suspicious now   \n",
       "61799  even ben affleck leading the troupe of actors ...   \n",
       "9284                          he vowed to have vengeance   \n",
       "31027                                    slug on a stick   \n",
       "62680  even horror films have learned this a genre wh...   \n",
       "13231  it takes the entire first half hour to establi...   \n",
       "34851  one of the most obvious is when he defeats max...   \n",
       "29189  that such a scene along with the rest of the m...   \n",
       "65029  his reply the big deal is that the guy gives m...   \n",
       "9989   abruptly ending without any susceptible moment...   \n",
       "16901  he wants to find god to discover why bad thing...   \n",
       "\n",
       "                                      sentence_no_spaces  \\\n",
       "2718   liamneesonseemsboredandembarrassedandseemsdesp...   \n",
       "49667  itsadefinitecaseofmalebondingforthefivecrimina...   \n",
       "13042  inanefforttomakethisthebiggestsociologicaleven...   \n",
       "38380  hereturnsthefavourwhenhestepsonstageonenightan...   \n",
       "5143   marchmaybeattractivebutatleastjudgingbythisper...   \n",
       "64314  hisbuildingblocksarelotsofsmallnotestinygrains...   \n",
       "10608        itripsoffalotofgoodmoviesthatareworthseeing   \n",
       "11183  nearlyeveryscenebetweenchrisrockandmorganfreem...   \n",
       "11189  freemaniseffectiveasalwaysthoughhisperformance...   \n",
       "65218                        trumanisreallysuspiciousnow   \n",
       "61799  evenbenaffleckleadingthetroupeofactorsmanagest...   \n",
       "9284                              hevowedtohavevengeance   \n",
       "31027                                       slugonastick   \n",
       "62680  evenhorrorfilmshavelearnedthisagenrewhichispro...   \n",
       "13231  ittakestheentirefirsthalfhourtoestablishthemov...   \n",
       "34851   oneofthemostobviousiswhenhedefeatsmaximeinsquash   \n",
       "29189  thatsuchascenealongwiththerestofthemoviewasint...   \n",
       "65029  hisreplythebigdealisthattheguygivesmethecreeps...   \n",
       "9989   abruptlyendingwithoutanysusceptiblemomentumwhe...   \n",
       "16901       hewantstofindgodtodiscoverwhybadthingshappen   \n",
       "\n",
       "                                      sentenced_restored  \n",
       "2718   liam neeson seems bored and embarrassed and se...  \n",
       "49667  its ad e fi n it e case of male bonding forth ...  \n",
       "13042  inane f fort tom a k et his the biggest sociol...  \n",
       "38380  here turns the favour when he steps on stage o...  \n",
       "5143   march maybe attractive but at least judging by...  \n",
       "64314  his building blocks are lots of small notes ti...  \n",
       "10608  it rips off alot of good movies that are worth...  \n",
       "11183  nearly every scene between chris rock and morg...  \n",
       "11189  freeman is effective as always though his perf...  \n",
       "65218                    truman is really suspicious now  \n",
       "61799  even ben affleck leading the troupe of actors ...  \n",
       "9284                          he vowed to have vengeance  \n",
       "31027                                  slug on as t i ck  \n",
       "62680  even horror films have learned this age n re w...  \n",
       "13231  it takes the entire first half hour toes t a b...  \n",
       "34851  one of them o st obvious is when he defeats ma...  \n",
       "29189  thats u c has c en e along with there st of th...  \n",
       "65029  his reply the big deal is that the guy gives m...  \n",
       "9989   abruptly ending without any s us c e p t i b l...  \n",
       "16901  he wants to find god tod is cover why bad thin...  "
      ]
     },
     "execution_count": 15,
     "metadata": {},
     "output_type": "execute_result"
    }
   ],
   "source": [
    "df.sample(20)"
   ]
  },
  {
   "cell_type": "code",
   "execution_count": 16,
   "id": "41a51b0b-dcd4-4ecf-8544-fbd9eb876f99",
   "metadata": {},
   "outputs": [],
   "source": [
    "# how well did we performed?"
   ]
  },
  {
   "cell_type": "code",
   "execution_count": 17,
   "id": "4bb82f89-117f-4c20-aae0-530378c57ddf",
   "metadata": {},
   "outputs": [
    {
     "data": {
      "text/plain": [
       "sentence              was i grossed out\n",
       "sentence_no_spaces       wasigrossedout\n",
       "sentenced_restored    was i grossed out\n",
       "Name: 26627, dtype: object"
      ]
     },
     "execution_count": 17,
     "metadata": {},
     "output_type": "execute_result"
    }
   ],
   "source": [
    "df.iloc[26627]"
   ]
  },
  {
   "cell_type": "code",
   "execution_count": 18,
   "id": "e9ac1afd-e491-4f2a-b661-733d030a1174",
   "metadata": {},
   "outputs": [],
   "source": [
    "# how many correct resconstruction"
   ]
  },
  {
   "cell_type": "code",
   "execution_count": 19,
   "id": "592fcda3-7373-4aae-ae32-da6ef5f71b44",
   "metadata": {},
   "outputs": [
    {
     "data": {
      "text/plain": [
       "11427"
      ]
     },
     "execution_count": 19,
     "metadata": {},
     "output_type": "execute_result"
    }
   ],
   "source": [
    "sum(df['sentenced_restored'] == df['sentence'])"
   ]
  },
  {
   "cell_type": "code",
   "execution_count": 20,
   "id": "288448e9-da7a-4c73-b0ec-9f0a1337ccc8",
   "metadata": {},
   "outputs": [
    {
     "data": {
      "text/plain": [
       "65258"
      ]
     },
     "execution_count": 20,
     "metadata": {},
     "output_type": "execute_result"
    }
   ],
   "source": [
    "len(df)"
   ]
  },
  {
   "cell_type": "code",
   "execution_count": 21,
   "id": "7c027107-42b0-4b1e-bb33-8ee28c14f221",
   "metadata": {},
   "outputs": [
    {
     "data": {
      "text/plain": [
       "0.1751049679732753"
      ]
     },
     "execution_count": 21,
     "metadata": {},
     "output_type": "execute_result"
    }
   ],
   "source": [
    "sum(df['sentenced_restored'] == df['sentence']) / len(df)"
   ]
  },
  {
   "cell_type": "code",
   "execution_count": 22,
   "id": "145b19a7-f86c-4f0d-aace-e8cf308a8fae",
   "metadata": {},
   "outputs": [],
   "source": [
    "# assign a normalized edit distance"
   ]
  },
  {
   "cell_type": "code",
   "execution_count": 23,
   "id": "65388011-f4c2-4d54-8eb7-a62bbc93ddbd",
   "metadata": {},
   "outputs": [
    {
     "data": {
      "text/plain": [
       "sentence              sooner or later people start to tell themselve...\n",
       "sentence_no_spaces    soonerorlaterpeoplestarttotellthemselvesthatit...\n",
       "sentenced_restored    sooner or later peoples t art to tell themselv...\n",
       "Name: 26622, dtype: object"
      ]
     },
     "execution_count": 23,
     "metadata": {},
     "output_type": "execute_result"
    }
   ],
   "source": [
    "df.iloc[26622]\n"
   ]
  },
  {
   "cell_type": "code",
   "execution_count": 24,
   "id": "3100373f-708f-44c4-94be-f44042cfcc6e",
   "metadata": {},
   "outputs": [
    {
     "data": {
      "text/plain": [
       "7"
      ]
     },
     "execution_count": 24,
     "metadata": {},
     "output_type": "execute_result"
    }
   ],
   "source": [
    "edit_distance(df.iloc[26622].sentence, df.iloc[26622].sentenced_restored)"
   ]
  },
  {
   "cell_type": "code",
   "execution_count": 34,
   "id": "7f88368a-5131-4c0a-82a1-debf8e3c190b",
   "metadata": {},
   "outputs": [
    {
     "name": "stdout",
     "output_type": "stream",
     "text": [
      "CPU times: total: 42.2 s\n",
      "Wall time: 42.3 s\n"
     ]
    }
   ],
   "source": [
    "%%time\n",
    "df['edit_distance'] = df.apply(lambda row: edit_distance(row.sentence.split(' '), row.sentenced_restored.split(' ')), axis=1)"
   ]
  },
  {
   "cell_type": "code",
   "execution_count": 35,
   "id": "4e2edeca-24b0-4929-b332-81e4bfd9a2cb",
   "metadata": {},
   "outputs": [
    {
     "name": "stdout",
     "output_type": "stream",
     "text": [
      "CPU times: total: 1.02 s\n",
      "Wall time: 1.01 s\n"
     ]
    }
   ],
   "source": [
    "%%time\n",
    "df['normalized_edit_distance'] = df.apply(lambda row: row.edit_distance / len(row.sentence.split(' ')), axis=1)"
   ]
  },
  {
   "cell_type": "code",
   "execution_count": 36,
   "id": "30624fc3-2ff7-4e65-a00b-f0e338dd72e9",
   "metadata": {},
   "outputs": [
    {
     "data": {
      "text/html": [
       "<div>\n",
       "<style scoped>\n",
       "    .dataframe tbody tr th:only-of-type {\n",
       "        vertical-align: middle;\n",
       "    }\n",
       "\n",
       "    .dataframe tbody tr th {\n",
       "        vertical-align: top;\n",
       "    }\n",
       "\n",
       "    .dataframe thead th {\n",
       "        text-align: right;\n",
       "    }\n",
       "</style>\n",
       "<table border=\"1\" class=\"dataframe\">\n",
       "  <thead>\n",
       "    <tr style=\"text-align: right;\">\n",
       "      <th></th>\n",
       "      <th>sentence</th>\n",
       "      <th>sentence_no_spaces</th>\n",
       "      <th>sentenced_restored</th>\n",
       "      <th>normalized_edit_distance</th>\n",
       "      <th>edit_distance</th>\n",
       "    </tr>\n",
       "  </thead>\n",
       "  <tbody>\n",
       "    <tr>\n",
       "      <th>0</th>\n",
       "      <td>plot two teen couples go to a church party dri...</td>\n",
       "      <td>plottwoteencouplesgotoachurchpartydrinkandthen...</td>\n",
       "      <td>plot two teen couples got o a church party dri...</td>\n",
       "      <td>0.153846</td>\n",
       "      <td>2</td>\n",
       "    </tr>\n",
       "    <tr>\n",
       "      <th>1</th>\n",
       "      <td>they get into an accident</td>\n",
       "      <td>theygetintoanaccident</td>\n",
       "      <td>they get into an accident</td>\n",
       "      <td>0.000000</td>\n",
       "      <td>0</td>\n",
       "    </tr>\n",
       "    <tr>\n",
       "      <th>2</th>\n",
       "      <td>one of the guys dies but his girlfriend contin...</td>\n",
       "      <td>oneoftheguysdiesbuthisgirlfriendcontinuestosee...</td>\n",
       "      <td>one of the guys dies but his girlfriend contin...</td>\n",
       "      <td>0.444444</td>\n",
       "      <td>8</td>\n",
       "    </tr>\n",
       "    <tr>\n",
       "      <th>3</th>\n",
       "      <td>what s the deal</td>\n",
       "      <td>whatsthedeal</td>\n",
       "      <td>what st he deal</td>\n",
       "      <td>0.500000</td>\n",
       "      <td>2</td>\n",
       "    </tr>\n",
       "    <tr>\n",
       "      <th>4</th>\n",
       "      <td>watch the movie and sorta find out</td>\n",
       "      <td>watchthemovieandsortafindout</td>\n",
       "      <td>watch them o v ie and sorta find out</td>\n",
       "      <td>0.571429</td>\n",
       "      <td>4</td>\n",
       "    </tr>\n",
       "    <tr>\n",
       "      <th>...</th>\n",
       "      <td>...</td>\n",
       "      <td>...</td>\n",
       "      <td>...</td>\n",
       "      <td>...</td>\n",
       "      <td>...</td>\n",
       "    </tr>\n",
       "    <tr>\n",
       "      <th>65253</th>\n",
       "      <td>it s a quick straight shot to the movie s end</td>\n",
       "      <td>itsaquickstraightshottothemoviesend</td>\n",
       "      <td>its a quick straight shot to them o v ie send</td>\n",
       "      <td>0.636364</td>\n",
       "      <td>7</td>\n",
       "    </tr>\n",
       "    <tr>\n",
       "      <th>65254</th>\n",
       "      <td>in terms of overall quality i would compare th...</td>\n",
       "      <td>intermsofoverallqualityiwouldcomparethetrumans...</td>\n",
       "      <td>inter ms of overall quality i would compare th...</td>\n",
       "      <td>0.333333</td>\n",
       "      <td>5</td>\n",
       "    </tr>\n",
       "    <tr>\n",
       "      <th>65255</th>\n",
       "      <td>both films are well made with interesting stor...</td>\n",
       "      <td>bothfilmsarewellmadewithinterestingstoriesseti...</td>\n",
       "      <td>both films are well made within t er e sting s...</td>\n",
       "      <td>0.583333</td>\n",
       "      <td>7</td>\n",
       "    </tr>\n",
       "    <tr>\n",
       "      <th>65256</th>\n",
       "      <td>but neither film really felt like it capitaliz...</td>\n",
       "      <td>butneitherfilmreallyfeltlikeitcapitalizedonall...</td>\n",
       "      <td>but neither film really felt like it capitaliz...</td>\n",
       "      <td>0.190476</td>\n",
       "      <td>4</td>\n",
       "    </tr>\n",
       "    <tr>\n",
       "      <th>65257</th>\n",
       "      <td>nevertheless i look forward to niccol s next f...</td>\n",
       "      <td>neverthelessilookforwardtoniccolsnextfilmwhate...</td>\n",
       "      <td>nevertheless i look forward toni c col s next ...</td>\n",
       "      <td>0.384615</td>\n",
       "      <td>5</td>\n",
       "    </tr>\n",
       "  </tbody>\n",
       "</table>\n",
       "<p>65258 rows × 5 columns</p>\n",
       "</div>"
      ],
      "text/plain": [
       "                                                sentence  \\\n",
       "0      plot two teen couples go to a church party dri...   \n",
       "1                              they get into an accident   \n",
       "2      one of the guys dies but his girlfriend contin...   \n",
       "3                                        what s the deal   \n",
       "4                     watch the movie and sorta find out   \n",
       "...                                                  ...   \n",
       "65253      it s a quick straight shot to the movie s end   \n",
       "65254  in terms of overall quality i would compare th...   \n",
       "65255  both films are well made with interesting stor...   \n",
       "65256  but neither film really felt like it capitaliz...   \n",
       "65257  nevertheless i look forward to niccol s next f...   \n",
       "\n",
       "                                      sentence_no_spaces  \\\n",
       "0      plottwoteencouplesgotoachurchpartydrinkandthen...   \n",
       "1                                  theygetintoanaccident   \n",
       "2      oneoftheguysdiesbuthisgirlfriendcontinuestosee...   \n",
       "3                                           whatsthedeal   \n",
       "4                           watchthemovieandsortafindout   \n",
       "...                                                  ...   \n",
       "65253                itsaquickstraightshottothemoviesend   \n",
       "65254  intermsofoverallqualityiwouldcomparethetrumans...   \n",
       "65255  bothfilmsarewellmadewithinterestingstoriesseti...   \n",
       "65256  butneitherfilmreallyfeltlikeitcapitalizedonall...   \n",
       "65257  neverthelessilookforwardtoniccolsnextfilmwhate...   \n",
       "\n",
       "                                      sentenced_restored  \\\n",
       "0      plot two teen couples got o a church party dri...   \n",
       "1                              they get into an accident   \n",
       "2      one of the guys dies but his girlfriend contin...   \n",
       "3                                        what st he deal   \n",
       "4                   watch them o v ie and sorta find out   \n",
       "...                                                  ...   \n",
       "65253      its a quick straight shot to them o v ie send   \n",
       "65254  inter ms of overall quality i would compare th...   \n",
       "65255  both films are well made within t er e sting s...   \n",
       "65256  but neither film really felt like it capitaliz...   \n",
       "65257  nevertheless i look forward toni c col s next ...   \n",
       "\n",
       "       normalized_edit_distance  edit_distance  \n",
       "0                      0.153846              2  \n",
       "1                      0.000000              0  \n",
       "2                      0.444444              8  \n",
       "3                      0.500000              2  \n",
       "4                      0.571429              4  \n",
       "...                         ...            ...  \n",
       "65253                  0.636364              7  \n",
       "65254                  0.333333              5  \n",
       "65255                  0.583333              7  \n",
       "65256                  0.190476              4  \n",
       "65257                  0.384615              5  \n",
       "\n",
       "[65258 rows x 5 columns]"
      ]
     },
     "execution_count": 36,
     "metadata": {},
     "output_type": "execute_result"
    }
   ],
   "source": [
    "df"
   ]
  },
  {
   "cell_type": "code",
   "execution_count": 41,
   "id": "6a30e958-5cd4-49eb-a3ed-4b03c2dff6a9",
   "metadata": {},
   "outputs": [
    {
     "data": {
      "text/plain": [
       "0.3794860799599877"
      ]
     },
     "execution_count": 41,
     "metadata": {},
     "output_type": "execute_result"
    }
   ],
   "source": [
    "np.mean(df['normalized_edit_distance'])"
   ]
  },
  {
   "cell_type": "code",
   "execution_count": null,
   "id": "4596e14e-b830-44eb-b82c-ca1057992a7d",
   "metadata": {},
   "outputs": [],
   "source": []
  }
 ],
 "metadata": {
  "kernelspec": {
   "display_name": "Python 3",
   "language": "python",
   "name": "python3"
  },
  "language_info": {
   "codemirror_mode": {
    "name": "ipython",
    "version": 3
   },
   "file_extension": ".py",
   "mimetype": "text/x-python",
   "name": "python",
   "nbconvert_exporter": "python",
   "pygments_lexer": "ipython3",
   "version": "3.8.8"
  }
 },
 "nbformat": 4,
 "nbformat_minor": 5
}

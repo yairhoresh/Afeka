{
 "cells": [
  {
   "cell_type": "code",
   "execution_count": 1,
   "id": "50d7024d-4be5-4856-8377-f458dc9f9c0f",
   "metadata": {},
   "outputs": [
    {
     "name": "stderr",
     "output_type": "stream",
     "text": [
      "C:\\Users\\yhoresh\\Anaconda3\\lib\\site-packages\\xgboost\\compat.py:36: FutureWarning: pandas.Int64Index is deprecated and will be removed from pandas in a future version. Use pandas.Index with the appropriate dtype instead.\n",
      "  from pandas import MultiIndex, Int64Index\n"
     ]
    }
   ],
   "source": [
    "import re\n",
    "import pandas as pd\n",
    "from sklearn.metrics import classification_report, confusion_matrix\n",
    "from sklearn.model_selection import train_test_split\n",
    "from xgboost import XGBClassifier  \n",
    "import seaborn as sb\n",
    "from sklearn import tree\n",
    "import pydotplus\n",
    "import matplotlib as plt\n",
    "from IPython.display import Image\n",
    "from IPython.core.interactiveshell import InteractiveShell\n",
    "InteractiveShell.ast_node_interactivity = \"all\"\n",
    "plt.interactive(False)\n",
    "%matplotlib inline"
   ]
  },
  {
   "cell_type": "code",
   "execution_count": 2,
   "id": "909a7914-9e97-4ab9-8060-ef79edc3400c",
   "metadata": {},
   "outputs": [],
   "source": [
    "sentence_1 = \"For sale - Apples and Oranges\"\n",
    "sentence_2 = \"Apple and Orange fruits for sale\"\n"
   ]
  },
  {
   "cell_type": "code",
   "execution_count": 3,
   "id": "574803c1-3cf1-4374-8f12-073e8d185917",
   "metadata": {},
   "outputs": [],
   "source": [
    "sentence_1 = sentence_1.lower()\n",
    "sentence_2 = sentence_2.lower()"
   ]
  },
  {
   "cell_type": "code",
   "execution_count": 4,
   "id": "a1266258-c6a3-4594-bb78-1f675733e706",
   "metadata": {},
   "outputs": [
    {
     "data": {
      "text/plain": [
       "('for sale - apples and oranges', 'apple and orange fruits for sale')"
      ]
     },
     "execution_count": 4,
     "metadata": {},
     "output_type": "execute_result"
    }
   ],
   "source": [
    "sentence_1, sentence_2"
   ]
  },
  {
   "cell_type": "code",
   "execution_count": 5,
   "id": "61a41d55-7d29-49af-b5f4-b2c87b6cb8a7",
   "metadata": {},
   "outputs": [
    {
     "data": {
      "text/plain": [
       "('forsaleapplesandoranges', 'appleandorangefruitsforsale')"
      ]
     },
     "execution_count": 5,
     "metadata": {},
     "output_type": "execute_result"
    }
   ],
   "source": [
    "sentence_1 = re.sub('\\W+', '', sentence_1)\n",
    "sentence_2 = re.sub('\\W+', '', sentence_2)\n",
    "sentence_1, sentence_2"
   ]
  },
  {
   "cell_type": "code",
   "execution_count": 6,
   "id": "8cf762e6-643c-426d-a7fd-9fc64b25caf4",
   "metadata": {},
   "outputs": [],
   "source": [
    "def get_3_tuples(x):\n",
    "    return set(x[i:i+3] for i in range(len(x)-4))"
   ]
  },
  {
   "cell_type": "code",
   "execution_count": 7,
   "id": "ad27b311-f49b-451a-b7e3-b2820600e6d3",
   "metadata": {},
   "outputs": [
    {
     "data": {
      "text/plain": [
       "{'ale',\n",
       " 'and',\n",
       " 'ang',\n",
       " 'app',\n",
       " 'dor',\n",
       " 'eap',\n",
       " 'esa',\n",
       " 'for',\n",
       " 'lea',\n",
       " 'les',\n",
       " 'ndo',\n",
       " 'ora',\n",
       " 'ors',\n",
       " 'ple',\n",
       " 'ppl',\n",
       " 'ran',\n",
       " 'rsa',\n",
       " 'sal',\n",
       " 'san'}"
      ]
     },
     "execution_count": 7,
     "metadata": {},
     "output_type": "execute_result"
    }
   ],
   "source": [
    "sentence_1_tuples = get_3_tuples(sentence_1) \n",
    "sentence_1_tuples"
   ]
  },
  {
   "cell_type": "code",
   "execution_count": 8,
   "id": "2ec125d6-3e7f-487c-bae4-bbba376f643c",
   "metadata": {},
   "outputs": [
    {
     "data": {
      "text/plain": [
       "{'and',\n",
       " 'ang',\n",
       " 'app',\n",
       " 'dor',\n",
       " 'ean',\n",
       " 'efr',\n",
       " 'for',\n",
       " 'fru',\n",
       " 'gef',\n",
       " 'its',\n",
       " 'lea',\n",
       " 'ndo',\n",
       " 'nge',\n",
       " 'ora',\n",
       " 'ors',\n",
       " 'ple',\n",
       " 'ppl',\n",
       " 'ran',\n",
       " 'rsa',\n",
       " 'rui',\n",
       " 'sfo',\n",
       " 'tsf',\n",
       " 'uit'}"
      ]
     },
     "execution_count": 8,
     "metadata": {},
     "output_type": "execute_result"
    }
   ],
   "source": [
    "sentence_2_tuples = get_3_tuples(sentence_2) \n",
    "sentence_2_tuples"
   ]
  },
  {
   "cell_type": "code",
   "execution_count": 9,
   "id": "abdabed9-d0c1-4343-ae06-bfed6458b79d",
   "metadata": {},
   "outputs": [
    {
     "data": {
      "text/plain": [
       "{'and',\n",
       " 'ang',\n",
       " 'app',\n",
       " 'dor',\n",
       " 'for',\n",
       " 'lea',\n",
       " 'ndo',\n",
       " 'ora',\n",
       " 'ors',\n",
       " 'ple',\n",
       " 'ppl',\n",
       " 'ran',\n",
       " 'rsa'}"
      ]
     },
     "execution_count": 9,
     "metadata": {},
     "output_type": "execute_result"
    }
   ],
   "source": [
    "sent_intersection = sentence_1_tuples.intersection(sentence_2_tuples)\n",
    "sent_intersection"
   ]
  },
  {
   "cell_type": "code",
   "execution_count": 10,
   "id": "02a0b6c7-f392-46b7-bf97-053930a9985f",
   "metadata": {},
   "outputs": [
    {
     "data": {
      "text/plain": [
       "{'ale',\n",
       " 'and',\n",
       " 'ang',\n",
       " 'app',\n",
       " 'dor',\n",
       " 'ean',\n",
       " 'eap',\n",
       " 'efr',\n",
       " 'esa',\n",
       " 'for',\n",
       " 'fru',\n",
       " 'gef',\n",
       " 'its',\n",
       " 'lea',\n",
       " 'les',\n",
       " 'ndo',\n",
       " 'nge',\n",
       " 'ora',\n",
       " 'ors',\n",
       " 'ple',\n",
       " 'ppl',\n",
       " 'ran',\n",
       " 'rsa',\n",
       " 'rui',\n",
       " 'sal',\n",
       " 'san',\n",
       " 'sfo',\n",
       " 'tsf',\n",
       " 'uit'}"
      ]
     },
     "execution_count": 10,
     "metadata": {},
     "output_type": "execute_result"
    }
   ],
   "source": [
    "sent_union = sentence_1_tuples.union(sentence_2_tuples)\n",
    "sent_union"
   ]
  },
  {
   "cell_type": "code",
   "execution_count": 11,
   "id": "a55c946a-dbb4-427b-94a8-05b4e8430abc",
   "metadata": {},
   "outputs": [
    {
     "data": {
      "text/plain": [
       "13"
      ]
     },
     "execution_count": 11,
     "metadata": {},
     "output_type": "execute_result"
    }
   ],
   "source": [
    "len(sent_intersection) "
   ]
  },
  {
   "cell_type": "code",
   "execution_count": 12,
   "id": "4f5fc429-90f5-4648-8b59-5d28bf1bcaf6",
   "metadata": {},
   "outputs": [
    {
     "data": {
      "text/plain": [
       "29"
      ]
     },
     "execution_count": 12,
     "metadata": {},
     "output_type": "execute_result"
    }
   ],
   "source": [
    "len(sent_union)"
   ]
  },
  {
   "cell_type": "code",
   "execution_count": 13,
   "id": "cdea67cc-178a-4f3a-a1c0-9b6b9acff8e1",
   "metadata": {},
   "outputs": [
    {
     "data": {
      "text/plain": [
       "0.4482758620689655"
      ]
     },
     "execution_count": 13,
     "metadata": {},
     "output_type": "execute_result"
    }
   ],
   "source": [
    "len(sent_intersection)  / len(sent_union)"
   ]
  },
  {
   "cell_type": "markdown",
   "id": "73c0dde7-8b65-4560-a105-49ca0a39bc08",
   "metadata": {},
   "source": [
    "# A simple classifier"
   ]
  },
  {
   "cell_type": "code",
   "execution_count": 14,
   "id": "01dbaa9a-78bc-44a0-8937-3ea4cb498ef7",
   "metadata": {},
   "outputs": [],
   "source": [
    "# load the titanic dataset\n",
    "df = pd.read_csv(r'https://raw.githubusercontent.com/datasciencedojo/datasets/master/titanic.csv')"
   ]
  },
  {
   "cell_type": "code",
   "execution_count": 15,
   "id": "a251da92-ca5a-4e0f-a4f7-8cfb4f69b430",
   "metadata": {},
   "outputs": [
    {
     "data": {
      "text/html": [
       "<div>\n",
       "<style scoped>\n",
       "    .dataframe tbody tr th:only-of-type {\n",
       "        vertical-align: middle;\n",
       "    }\n",
       "\n",
       "    .dataframe tbody tr th {\n",
       "        vertical-align: top;\n",
       "    }\n",
       "\n",
       "    .dataframe thead th {\n",
       "        text-align: right;\n",
       "    }\n",
       "</style>\n",
       "<table border=\"1\" class=\"dataframe\">\n",
       "  <thead>\n",
       "    <tr style=\"text-align: right;\">\n",
       "      <th></th>\n",
       "      <th>PassengerId</th>\n",
       "      <th>Survived</th>\n",
       "      <th>Pclass</th>\n",
       "      <th>Name</th>\n",
       "      <th>Sex</th>\n",
       "      <th>Age</th>\n",
       "      <th>SibSp</th>\n",
       "      <th>Parch</th>\n",
       "      <th>Ticket</th>\n",
       "      <th>Fare</th>\n",
       "      <th>Cabin</th>\n",
       "      <th>Embarked</th>\n",
       "    </tr>\n",
       "  </thead>\n",
       "  <tbody>\n",
       "    <tr>\n",
       "      <th>638</th>\n",
       "      <td>639</td>\n",
       "      <td>0</td>\n",
       "      <td>3</td>\n",
       "      <td>Panula, Mrs. Juha (Maria Emilia Ojala)</td>\n",
       "      <td>female</td>\n",
       "      <td>41.00</td>\n",
       "      <td>0</td>\n",
       "      <td>5</td>\n",
       "      <td>3101295</td>\n",
       "      <td>39.6875</td>\n",
       "      <td>NaN</td>\n",
       "      <td>S</td>\n",
       "    </tr>\n",
       "    <tr>\n",
       "      <th>295</th>\n",
       "      <td>296</td>\n",
       "      <td>0</td>\n",
       "      <td>1</td>\n",
       "      <td>Lewy, Mr. Ervin G</td>\n",
       "      <td>male</td>\n",
       "      <td>NaN</td>\n",
       "      <td>0</td>\n",
       "      <td>0</td>\n",
       "      <td>PC 17612</td>\n",
       "      <td>27.7208</td>\n",
       "      <td>NaN</td>\n",
       "      <td>C</td>\n",
       "    </tr>\n",
       "    <tr>\n",
       "      <th>587</th>\n",
       "      <td>588</td>\n",
       "      <td>1</td>\n",
       "      <td>1</td>\n",
       "      <td>Frolicher-Stehli, Mr. Maxmillian</td>\n",
       "      <td>male</td>\n",
       "      <td>60.00</td>\n",
       "      <td>1</td>\n",
       "      <td>1</td>\n",
       "      <td>13567</td>\n",
       "      <td>79.2000</td>\n",
       "      <td>B41</td>\n",
       "      <td>C</td>\n",
       "    </tr>\n",
       "    <tr>\n",
       "      <th>502</th>\n",
       "      <td>503</td>\n",
       "      <td>0</td>\n",
       "      <td>3</td>\n",
       "      <td>O'Sullivan, Miss. Bridget Mary</td>\n",
       "      <td>female</td>\n",
       "      <td>NaN</td>\n",
       "      <td>0</td>\n",
       "      <td>0</td>\n",
       "      <td>330909</td>\n",
       "      <td>7.6292</td>\n",
       "      <td>NaN</td>\n",
       "      <td>Q</td>\n",
       "    </tr>\n",
       "    <tr>\n",
       "      <th>185</th>\n",
       "      <td>186</td>\n",
       "      <td>0</td>\n",
       "      <td>1</td>\n",
       "      <td>Rood, Mr. Hugh Roscoe</td>\n",
       "      <td>male</td>\n",
       "      <td>NaN</td>\n",
       "      <td>0</td>\n",
       "      <td>0</td>\n",
       "      <td>113767</td>\n",
       "      <td>50.0000</td>\n",
       "      <td>A32</td>\n",
       "      <td>S</td>\n",
       "    </tr>\n",
       "    <tr>\n",
       "      <th>555</th>\n",
       "      <td>556</td>\n",
       "      <td>0</td>\n",
       "      <td>1</td>\n",
       "      <td>Wright, Mr. George</td>\n",
       "      <td>male</td>\n",
       "      <td>62.00</td>\n",
       "      <td>0</td>\n",
       "      <td>0</td>\n",
       "      <td>113807</td>\n",
       "      <td>26.5500</td>\n",
       "      <td>NaN</td>\n",
       "      <td>S</td>\n",
       "    </tr>\n",
       "    <tr>\n",
       "      <th>29</th>\n",
       "      <td>30</td>\n",
       "      <td>0</td>\n",
       "      <td>3</td>\n",
       "      <td>Todoroff, Mr. Lalio</td>\n",
       "      <td>male</td>\n",
       "      <td>NaN</td>\n",
       "      <td>0</td>\n",
       "      <td>0</td>\n",
       "      <td>349216</td>\n",
       "      <td>7.8958</td>\n",
       "      <td>NaN</td>\n",
       "      <td>S</td>\n",
       "    </tr>\n",
       "    <tr>\n",
       "      <th>398</th>\n",
       "      <td>399</td>\n",
       "      <td>0</td>\n",
       "      <td>2</td>\n",
       "      <td>Pain, Dr. Alfred</td>\n",
       "      <td>male</td>\n",
       "      <td>23.00</td>\n",
       "      <td>0</td>\n",
       "      <td>0</td>\n",
       "      <td>244278</td>\n",
       "      <td>10.5000</td>\n",
       "      <td>NaN</td>\n",
       "      <td>S</td>\n",
       "    </tr>\n",
       "    <tr>\n",
       "      <th>644</th>\n",
       "      <td>645</td>\n",
       "      <td>1</td>\n",
       "      <td>3</td>\n",
       "      <td>Baclini, Miss. Eugenie</td>\n",
       "      <td>female</td>\n",
       "      <td>0.75</td>\n",
       "      <td>2</td>\n",
       "      <td>1</td>\n",
       "      <td>2666</td>\n",
       "      <td>19.2583</td>\n",
       "      <td>NaN</td>\n",
       "      <td>C</td>\n",
       "    </tr>\n",
       "    <tr>\n",
       "      <th>512</th>\n",
       "      <td>513</td>\n",
       "      <td>1</td>\n",
       "      <td>1</td>\n",
       "      <td>McGough, Mr. James Robert</td>\n",
       "      <td>male</td>\n",
       "      <td>36.00</td>\n",
       "      <td>0</td>\n",
       "      <td>0</td>\n",
       "      <td>PC 17473</td>\n",
       "      <td>26.2875</td>\n",
       "      <td>E25</td>\n",
       "      <td>S</td>\n",
       "    </tr>\n",
       "  </tbody>\n",
       "</table>\n",
       "</div>"
      ],
      "text/plain": [
       "     PassengerId  Survived  Pclass                                    Name  \\\n",
       "638          639         0       3  Panula, Mrs. Juha (Maria Emilia Ojala)   \n",
       "295          296         0       1                       Lewy, Mr. Ervin G   \n",
       "587          588         1       1        Frolicher-Stehli, Mr. Maxmillian   \n",
       "502          503         0       3          O'Sullivan, Miss. Bridget Mary   \n",
       "185          186         0       1                   Rood, Mr. Hugh Roscoe   \n",
       "555          556         0       1                      Wright, Mr. George   \n",
       "29            30         0       3                     Todoroff, Mr. Lalio   \n",
       "398          399         0       2                        Pain, Dr. Alfred   \n",
       "644          645         1       3                  Baclini, Miss. Eugenie   \n",
       "512          513         1       1               McGough, Mr. James Robert   \n",
       "\n",
       "        Sex    Age  SibSp  Parch    Ticket     Fare Cabin Embarked  \n",
       "638  female  41.00      0      5   3101295  39.6875   NaN        S  \n",
       "295    male    NaN      0      0  PC 17612  27.7208   NaN        C  \n",
       "587    male  60.00      1      1     13567  79.2000   B41        C  \n",
       "502  female    NaN      0      0    330909   7.6292   NaN        Q  \n",
       "185    male    NaN      0      0    113767  50.0000   A32        S  \n",
       "555    male  62.00      0      0    113807  26.5500   NaN        S  \n",
       "29     male    NaN      0      0    349216   7.8958   NaN        S  \n",
       "398    male  23.00      0      0    244278  10.5000   NaN        S  \n",
       "644  female   0.75      2      1      2666  19.2583   NaN        C  \n",
       "512    male  36.00      0      0  PC 17473  26.2875   E25        S  "
      ]
     },
     "execution_count": 15,
     "metadata": {},
     "output_type": "execute_result"
    }
   ],
   "source": [
    "df.sample(10)"
   ]
  },
  {
   "cell_type": "code",
   "execution_count": 16,
   "id": "bdbdf6d4-7d2a-4f59-9a54-3f1a753ab35d",
   "metadata": {},
   "outputs": [
    {
     "data": {
      "text/plain": [
       "<AxesSubplot:>"
      ]
     },
     "execution_count": 16,
     "metadata": {},
     "output_type": "execute_result"
    },
    {
     "data": {
      "image/png": "[encoded data removed]",
      "text/plain": [
       "<Figure size 432x288 with 1 Axes>"
      ]
     },
     "metadata": {
      "needs_background": "light"
     },
     "output_type": "display_data"
    }
   ],
   "source": [
    "df.Sex.value_counts().plot(kind='bar')"
   ]
  },
  {
   "cell_type": "code",
   "execution_count": 19,
   "id": "633e842e-5309-45c2-9fdb-26ab3e422e95",
   "metadata": {},
   "outputs": [
    {
     "name": "stderr",
     "output_type": "stream",
     "text": [
      "C:\\Users\\yhoresh\\Anaconda3\\lib\\site-packages\\seaborn\\categorical.py:1296: UserWarning: 15.9% of the points cannot be placed; you may want to decrease the size of the markers or use stripplot.\n",
      "  warnings.warn(msg, UserWarning)\n"
     ]
    },
    {
     "data": {
      "text/plain": [
       "<AxesSubplot:xlabel='Pclass', ylabel='Age'>"
      ]
     },
     "execution_count": 19,
     "metadata": {},
     "output_type": "execute_result"
    },
    {
     "data": {
      "image/png": "[encoded data removed]",
      "text/plain": [
       "<Figure size 432x288 with 1 Axes>"
      ]
     },
     "metadata": {
      "needs_background": "light"
     },
     "output_type": "display_data"
    }
   ],
   "source": [
    "sb.swarmplot(x=df.Pclass, y=df.Age, hue=df.Survived)"
   ]
  },
  {
   "cell_type": "code",
   "execution_count": 20,
   "id": "660cd2fc-3b33-42ac-a846-d3719bf38259",
   "metadata": {},
   "outputs": [
    {
     "name": "stderr",
     "output_type": "stream",
     "text": [
      "C:\\Users\\yhoresh\\Anaconda3\\lib\\site-packages\\seaborn\\categorical.py:1296: UserWarning: 5.9% of the points cannot be placed; you may want to decrease the size of the markers or use stripplot.\n",
      "  warnings.warn(msg, UserWarning)\n"
     ]
    },
    {
     "data": {
      "text/plain": [
       "<AxesSubplot:xlabel='Sex', ylabel='Age'>"
      ]
     },
     "execution_count": 20,
     "metadata": {},
     "output_type": "execute_result"
    },
    {
     "data": {
      "image/png": "[encoded data removed]",
      "text/plain": [
       "<Figure size 432x288 with 1 Axes>"
      ]
     },
     "metadata": {
      "needs_background": "light"
     },
     "output_type": "display_data"
    }
   ],
   "source": [
    "sb.swarmplot(x=df.Sex, y=df.Age, hue=df.Survived)"
   ]
  },
  {
   "cell_type": "code",
   "execution_count": null,
   "id": "8a4b9b8c-7b99-4a1b-915e-f6e71adb4e7d",
   "metadata": {},
   "outputs": [],
   "source": [
    "def normalized_redacted_name(name):\n",
    "    name = name.lower()\n",
    "    name = re.sub('mr\\.|miss\\.|mrs\\.', '', name)\n",
    "    name = re.sub('\\W+', '', name)\n",
    "    return name"
   ]
  },
  {
   "cell_type": "code",
   "execution_count": null,
   "id": "b4d47956-5e1c-47e7-886f-58a74eb74888",
   "metadata": {},
   "outputs": [],
   "source": [
    "%%time\n",
    "df['norm_name'] = df['Name'].apply(normalized_redacted_name)\n",
    "df['tuples'] = df['norm_name'].apply(get_3_tuples)"
   ]
  },
  {
   "cell_type": "code",
   "execution_count": null,
   "id": "741df3f4-898e-4957-846d-6927cf87e229",
   "metadata": {},
   "outputs": [],
   "source": [
    "df[['Name', 'norm_name','tuples']]"
   ]
  },
  {
   "cell_type": "code",
   "execution_count": null,
   "id": "0b73c181-fa35-4745-81f5-b9b368e3e3c2",
   "metadata": {},
   "outputs": [],
   "source": [
    "%%time\n",
    "list_of_tokens = []\n",
    "for ind, row in df.iterrows():\n",
    "\n",
    "    tuples = dict()\n",
    "    for item in row.tuples:\n",
    "        tuples[item] = 1\n",
    "        \n",
    "    tuples['index'] = ind\n",
    "    tuples['gender'] = 1 if row.Sex=='female' else 0\n",
    "    \n",
    "    list_of_tokens.append(tuples)\n",
    "    "
   ]
  },
  {
   "cell_type": "code",
   "execution_count": null,
   "id": "8302f122-4218-4308-acfd-d5c45bd80753",
   "metadata": {},
   "outputs": [],
   "source": [
    "list_of_tokens[0:1]"
   ]
  },
  {
   "cell_type": "code",
   "execution_count": null,
   "id": "38d95cc1-daec-4c09-a9a5-6116ca5d1876",
   "metadata": {},
   "outputs": [],
   "source": [
    "three_tuples_df = pd.DataFrame(list_of_tokens)\n",
    "three_tuples_df.fillna(0, inplace=True)\n",
    "three_tuples_df.sample(5)"
   ]
  },
  {
   "cell_type": "code",
   "execution_count": null,
   "id": "73f8cccf-5e39-4307-9ced-c55bf0bd37ec",
   "metadata": {},
   "outputs": [],
   "source": [
    "target_label = three_tuples_df.gender\n",
    "three_tuples_df.drop('gender', axis=1, inplace=True)"
   ]
  },
  {
   "cell_type": "code",
   "execution_count": null,
   "id": "83cab0ef-21da-4b09-a2ba-0a520bc1c45f",
   "metadata": {},
   "outputs": [],
   "source": [
    "target_label.value_counts()"
   ]
  },
  {
   "cell_type": "code",
   "execution_count": null,
   "id": "698d8206-e2f5-4b3a-b447-e901ae64aeee",
   "metadata": {},
   "outputs": [],
   "source": [
    "# too many columns with a single value\n",
    "list_of_columns_with_a_two_or_less_ones = sum(three_tuples_df.values) <= 2"
   ]
  },
  {
   "cell_type": "code",
   "execution_count": null,
   "id": "ef9a5ecc-1d8d-44b3-a0d9-2365a9a9745c",
   "metadata": {},
   "outputs": [],
   "source": [
    "# remove columns with only a single value\n",
    "three_tuples_df.drop(three_tuples_df.columns[list_of_columns_with_a_two_or_less_ones], axis=1, inplace=True)\n",
    "three_tuples_df.sample(5)"
   ]
  },
  {
   "cell_type": "code",
   "execution_count": null,
   "id": "f52b51f5-f20f-4304-9acc-f9662c041c02",
   "metadata": {},
   "outputs": [],
   "source": [
    "%%time\n",
    "\n",
    "X_train, X_test, y_train, y_test = train_test_split(three_tuples_df, target_label, test_size=0.2, random_state=42)"
   ]
  },
  {
   "cell_type": "code",
   "execution_count": null,
   "id": "8bfaea21-f345-443d-9a84-f0dc2481212a",
   "metadata": {},
   "outputs": [],
   "source": [
    "%%time\n",
    "classifier = XGBClassifier( use_label_encoder=False) #class_weight='balanced',\n",
    "model = classifier.fit(X_train, y_train)\n",
    "\n",
    "prediction = model.predict(X_test)\n",
    "\n",
    "print(classification_report(y_test, prediction))\n",
    "\n",
    "confusion_matrix(y_test, prediction)\n"
   ]
  },
  {
   "cell_type": "code",
   "execution_count": null,
   "id": "26cc1830-a5a1-4fbe-aa6a-15659b1f0ed0",
   "metadata": {},
   "outputs": [],
   "source": [
    "#feature_importances\n",
    "feature_imp = pd.DataFrame(data=list(zip(model.feature_importances_, X_test.columns)), columns=['imp', 'name'])\n",
    "feature_imp.sort_values(by='imp', ascending=False, inplace=True)\n",
    "\n",
    "sb.barplot(x=feature_imp.imp[0:10], y=feature_imp.name[0:10])\n"
   ]
  },
  {
   "cell_type": "markdown",
   "id": "36372b0d-95f2-4fe3-a796-4a90032c0176",
   "metadata": {},
   "source": [
    "# A Decision Tree"
   ]
  },
  {
   "cell_type": "code",
   "execution_count": null,
   "id": "bdb59a3e-5e7a-4486-87d5-ac211b229e2f",
   "metadata": {},
   "outputs": [],
   "source": [
    "tree_classifier = tree.DecisionTreeClassifier(max_depth=3, min_samples_leaf=3, min_samples_split=3)\n",
    "tree_classifier.fit(X_train, y_train)\n",
    "\n",
    "dot_data = tree.export_graphviz(tree_classifier, out_file=None, class_names=['male','female'], feature_names=X_test.columns, filled=True, rounded=True, special_characters=True)\n",
    "graph = pydotplus.graph_from_dot_data(dot_data)\n",
    "graph.write_jpeg('dummy.jpeg')\n",
    "Image(filename='dummy.jpeg', width=1000, height=1000)\n",
    "\n",
    "prediction = tree_classifier.predict(X_test)\n"
   ]
  },
  {
   "cell_type": "code",
   "execution_count": null,
   "id": "e3c13b02-6559-4494-a743-9c8848aa2c9c",
   "metadata": {},
   "outputs": [],
   "source": [
    "print(classification_report(y_test, prediction))\n",
    "\n",
    "confusion_matrix(y_test, prediction)"
   ]
  },
  {
   "cell_type": "code",
   "execution_count": null,
   "id": "22117289-73c0-45cc-9a8a-1bbc29453041",
   "metadata": {},
   "outputs": [],
   "source": []
  }
 ],
 "metadata": {
  "kernelspec": {
   "display_name": "Python 3",
   "language": "python",
   "name": "python3"
  },
  "language_info": {
   "codemirror_mode": {
    "name": "ipython",
    "version": 3
   },
   "file_extension": ".py",
   "mimetype": "text/x-python",
   "name": "python",
   "nbconvert_exporter": "python",
   "pygments_lexer": "ipython3",
   "version": "3.8.8"
  }
 },
 "nbformat": 4,
 "nbformat_minor": 5
}

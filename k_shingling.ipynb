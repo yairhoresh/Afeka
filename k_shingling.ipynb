{
 "cells": [
  {
   "cell_type": "code",
   "execution_count": 39,
   "id": "50d7024d-4be5-4856-8377-f458dc9f9c0f",
   "metadata": {},
   "outputs": [],
   "source": [
    "import re"
   ]
  },
  {
   "cell_type": "code",
   "execution_count": 8,
   "id": "909a7914-9e97-4ab9-8060-ef79edc3400c",
   "metadata": {},
   "outputs": [],
   "source": [
    "sentence_1 = \"For sale - Apples and Oranges\"\n",
    "sentence_2 = \"Apple and Orange fruits for sale\"\n"
   ]
  },
  {
   "cell_type": "code",
   "execution_count": 25,
   "id": "574803c1-3cf1-4374-8f12-073e8d185917",
   "metadata": {},
   "outputs": [],
   "source": [
    "sentence_1 = sentence_1.lower()\n",
    "sentence_2 = sentence_2.lower()"
   ]
  },
  {
   "cell_type": "code",
   "execution_count": 32,
   "id": "a1266258-c6a3-4594-bb78-1f675733e706",
   "metadata": {},
   "outputs": [
    {
     "data": {
      "text/plain": [
       "('for sale - apples and oranges', 'apple and orange fruits for sale')"
      ]
     },
     "execution_count": 32,
     "metadata": {},
     "output_type": "execute_result"
    }
   ],
   "source": [
    "sentence_1, sentence_2"
   ]
  },
  {
   "cell_type": "code",
   "execution_count": 41,
   "id": "61a41d55-7d29-49af-b5f4-b2c87b6cb8a7",
   "metadata": {},
   "outputs": [
    {
     "data": {
      "text/plain": [
       "('forsaleapplesandoranges', 'appleandorangefruitsforsale')"
      ]
     },
     "execution_count": 41,
     "metadata": {},
     "output_type": "execute_result"
    }
   ],
   "source": [
    "sentence_1 = re.sub('\\W+', '', sentence_1)\n",
    "sentence_2 = re.sub('\\W+', '', sentence_2)\n",
    "sentence_1, sentence_2"
   ]
  },
  {
   "cell_type": "code",
   "execution_count": 51,
   "id": "8cf762e6-643c-426d-a7fd-9fc64b25caf4",
   "metadata": {},
   "outputs": [],
   "source": [
    "def get_3_tuples(x):\n",
    "    return set(x[i:i+3] for i in range(len(x)-4))"
   ]
  },
  {
   "cell_type": "code",
   "execution_count": 52,
   "id": "ad27b311-f49b-451a-b7e3-b2820600e6d3",
   "metadata": {},
   "outputs": [
    {
     "data": {
      "text/plain": [
       "{'ale',\n",
       " 'and',\n",
       " 'ang',\n",
       " 'app',\n",
       " 'dor',\n",
       " 'eap',\n",
       " 'esa',\n",
       " 'for',\n",
       " 'lea',\n",
       " 'les',\n",
       " 'ndo',\n",
       " 'ora',\n",
       " 'ors',\n",
       " 'ple',\n",
       " 'ppl',\n",
       " 'ran',\n",
       " 'rsa',\n",
       " 'sal',\n",
       " 'san'}"
      ]
     },
     "execution_count": 52,
     "metadata": {},
     "output_type": "execute_result"
    }
   ],
   "source": [
    "sentence_1_tuples = get_3_tuples(sentence_1) \n",
    "sentence_1_tuples"
   ]
  },
  {
   "cell_type": "code",
   "execution_count": 53,
   "id": "2ec125d6-3e7f-487c-bae4-bbba376f643c",
   "metadata": {},
   "outputs": [
    {
     "data": {
      "text/plain": [
       "{'and',\n",
       " 'ang',\n",
       " 'app',\n",
       " 'dor',\n",
       " 'ean',\n",
       " 'efr',\n",
       " 'for',\n",
       " 'fru',\n",
       " 'gef',\n",
       " 'its',\n",
       " 'lea',\n",
       " 'ndo',\n",
       " 'nge',\n",
       " 'ora',\n",
       " 'ors',\n",
       " 'ple',\n",
       " 'ppl',\n",
       " 'ran',\n",
       " 'rsa',\n",
       " 'rui',\n",
       " 'sfo',\n",
       " 'tsf',\n",
       " 'uit'}"
      ]
     },
     "execution_count": 53,
     "metadata": {},
     "output_type": "execute_result"
    }
   ],
   "source": [
    "sentence_2_tuples = get_3_tuples(sentence_2) \n",
    "sentence_2_tuples"
   ]
  },
  {
   "cell_type": "code",
   "execution_count": 54,
   "id": "abdabed9-d0c1-4343-ae06-bfed6458b79d",
   "metadata": {},
   "outputs": [
    {
     "data": {
      "text/plain": [
       "{'and',\n",
       " 'ang',\n",
       " 'app',\n",
       " 'dor',\n",
       " 'for',\n",
       " 'lea',\n",
       " 'ndo',\n",
       " 'ora',\n",
       " 'ors',\n",
       " 'ple',\n",
       " 'ppl',\n",
       " 'ran',\n",
       " 'rsa'}"
      ]
     },
     "execution_count": 54,
     "metadata": {},
     "output_type": "execute_result"
    }
   ],
   "source": [
    "sent_intersection = sentence_1_tuples.intersection(sentence_2_tuples)\n",
    "sent_intersection"
   ]
  },
  {
   "cell_type": "code",
   "execution_count": 55,
   "id": "02a0b6c7-f392-46b7-bf97-053930a9985f",
   "metadata": {},
   "outputs": [
    {
     "data": {
      "text/plain": [
       "{'ale',\n",
       " 'and',\n",
       " 'ang',\n",
       " 'app',\n",
       " 'dor',\n",
       " 'ean',\n",
       " 'eap',\n",
       " 'efr',\n",
       " 'esa',\n",
       " 'for',\n",
       " 'fru',\n",
       " 'gef',\n",
       " 'its',\n",
       " 'lea',\n",
       " 'les',\n",
       " 'ndo',\n",
       " 'nge',\n",
       " 'ora',\n",
       " 'ors',\n",
       " 'ple',\n",
       " 'ppl',\n",
       " 'ran',\n",
       " 'rsa',\n",
       " 'rui',\n",
       " 'sal',\n",
       " 'san',\n",
       " 'sfo',\n",
       " 'tsf',\n",
       " 'uit'}"
      ]
     },
     "execution_count": 55,
     "metadata": {},
     "output_type": "execute_result"
    }
   ],
   "source": [
    "sent_union = sentence_1_tuples.union(sentence_2_tuples)\n",
    "sent_union"
   ]
  },
  {
   "cell_type": "code",
   "execution_count": 56,
   "id": "a55c946a-dbb4-427b-94a8-05b4e8430abc",
   "metadata": {},
   "outputs": [
    {
     "data": {
      "text/plain": [
       "13"
      ]
     },
     "execution_count": 56,
     "metadata": {},
     "output_type": "execute_result"
    }
   ],
   "source": [
    "len(sent_intersection) "
   ]
  },
  {
   "cell_type": "code",
   "execution_count": 57,
   "id": "4f5fc429-90f5-4648-8b59-5d28bf1bcaf6",
   "metadata": {},
   "outputs": [
    {
     "data": {
      "text/plain": [
       "29"
      ]
     },
     "execution_count": 57,
     "metadata": {},
     "output_type": "execute_result"
    }
   ],
   "source": [
    "len(sent_union)"
   ]
  },
  {
   "cell_type": "code",
   "execution_count": 58,
   "id": "cdea67cc-178a-4f3a-a1c0-9b6b9acff8e1",
   "metadata": {},
   "outputs": [
    {
     "data": {
      "text/plain": [
       "0.4482758620689655"
      ]
     },
     "execution_count": 58,
     "metadata": {},
     "output_type": "execute_result"
    }
   ],
   "source": [
    "len(sent_intersection)  / len(sent_union)"
   ]
  },
  {
   "cell_type": "code",
   "execution_count": null,
   "id": "b4d47956-5e1c-47e7-886f-58a74eb74888",
   "metadata": {},
   "outputs": [],
   "source": []
  }
 ],
 "metadata": {
  "kernelspec": {
   "display_name": "Python 3",
   "language": "python",
   "name": "python3"
  },
  "language_info": {
   "codemirror_mode": {
    "name": "ipython",
    "version": 3
   },
   "file_extension": ".py",
   "mimetype": "text/x-python",
   "name": "python",
   "nbconvert_exporter": "python",
   "pygments_lexer": "ipython3",
   "version": "3.8.8"
  }
 },
 "nbformat": 4,
 "nbformat_minor": 5
}

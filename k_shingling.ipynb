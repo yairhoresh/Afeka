{
 "cells": [
  {
   "cell_type": "code",
   "execution_count": 1,
   "id": "50d7024d-4be5-4856-8377-f458dc9f9c0f",
   "metadata": {},
   "outputs": [
    {
     "name": "stderr",
     "output_type": "stream",
     "text": [
      "C:\\Users\\yhoresh\\Anaconda3\\lib\\site-packages\\xgboost\\compat.py:36: FutureWarning: pandas.Int64Index is deprecated and will be removed from pandas in a future version. Use pandas.Index with the appropriate dtype instead.\n",
      "  from pandas import MultiIndex, Int64Index\n"
     ]
    }
   ],
   "source": [
    "import re\n",
    "import pandas as pd\n",
    "from sklearn.metrics import classification_report, confusion_matrix\n",
    "from sklearn.model_selection import train_test_split\n",
    "from xgboost import XGBClassifier  \n",
    "import seaborn as sb\n",
    "from sklearn import tree\n",
    "import pydotplus\n",
    "import matplotlib as plt\n",
    "from IPython.display import Image\n",
    "from IPython.core.interactiveshell import InteractiveShell\n",
    "InteractiveShell.ast_node_interactivity = \"all\"\n",
    "plt.interactive(False)\n",
    "%matplotlib inline"
   ]
  },
  {
   "cell_type": "code",
   "execution_count": 2,
   "id": "909a7914-9e97-4ab9-8060-ef79edc3400c",
   "metadata": {},
   "outputs": [],
   "source": [
    "sentence_1 = \"For sale - Apples and Oranges\"\n",
    "sentence_2 = \"Apple and Orange fruits for sale\"\n"
   ]
  },
  {
   "cell_type": "code",
   "execution_count": 3,
   "id": "574803c1-3cf1-4374-8f12-073e8d185917",
   "metadata": {},
   "outputs": [],
   "source": [
    "sentence_1 = sentence_1.lower()\n",
    "sentence_2 = sentence_2.lower()"
   ]
  },
  {
   "cell_type": "code",
   "execution_count": 4,
   "id": "a1266258-c6a3-4594-bb78-1f675733e706",
   "metadata": {},
   "outputs": [
    {
     "data": {
      "text/plain": [
       "('for sale - apples and oranges', 'apple and orange fruits for sale')"
      ]
     },
     "execution_count": 4,
     "metadata": {},
     "output_type": "execute_result"
    }
   ],
   "source": [
    "sentence_1, sentence_2"
   ]
  },
  {
   "cell_type": "code",
   "execution_count": 5,
   "id": "61a41d55-7d29-49af-b5f4-b2c87b6cb8a7",
   "metadata": {},
   "outputs": [
    {
     "data": {
      "text/plain": [
       "('forsaleapplesandoranges', 'appleandorangefruitsforsale')"
      ]
     },
     "execution_count": 5,
     "metadata": {},
     "output_type": "execute_result"
    }
   ],
   "source": [
    "sentence_1 = re.sub('\\W+', '', sentence_1)\n",
    "sentence_2 = re.sub('\\W+', '', sentence_2)\n",
    "sentence_1, sentence_2"
   ]
  },
  {
   "cell_type": "code",
   "execution_count": 6,
   "id": "8cf762e6-643c-426d-a7fd-9fc64b25caf4",
   "metadata": {},
   "outputs": [],
   "source": [
    "def get_3_tuples(x):\n",
    "    return set(x[i:i+3] for i in range(len(x)-4))"
   ]
  },
  {
   "cell_type": "code",
   "execution_count": 7,
   "id": "ad27b311-f49b-451a-b7e3-b2820600e6d3",
   "metadata": {},
   "outputs": [
    {
     "data": {
      "text/plain": [
       "{'ale',\n",
       " 'and',\n",
       " 'ang',\n",
       " 'app',\n",
       " 'dor',\n",
       " 'eap',\n",
       " 'esa',\n",
       " 'for',\n",
       " 'lea',\n",
       " 'les',\n",
       " 'ndo',\n",
       " 'ora',\n",
       " 'ors',\n",
       " 'ple',\n",
       " 'ppl',\n",
       " 'ran',\n",
       " 'rsa',\n",
       " 'sal',\n",
       " 'san'}"
      ]
     },
     "execution_count": 7,
     "metadata": {},
     "output_type": "execute_result"
    }
   ],
   "source": [
    "sentence_1_tuples = get_3_tuples(sentence_1) \n",
    "sentence_1_tuples"
   ]
  },
  {
   "cell_type": "code",
   "execution_count": 8,
   "id": "2ec125d6-3e7f-487c-bae4-bbba376f643c",
   "metadata": {},
   "outputs": [
    {
     "data": {
      "text/plain": [
       "{'and',\n",
       " 'ang',\n",
       " 'app',\n",
       " 'dor',\n",
       " 'ean',\n",
       " 'efr',\n",
       " 'for',\n",
       " 'fru',\n",
       " 'gef',\n",
       " 'its',\n",
       " 'lea',\n",
       " 'ndo',\n",
       " 'nge',\n",
       " 'ora',\n",
       " 'ors',\n",
       " 'ple',\n",
       " 'ppl',\n",
       " 'ran',\n",
       " 'rsa',\n",
       " 'rui',\n",
       " 'sfo',\n",
       " 'tsf',\n",
       " 'uit'}"
      ]
     },
     "execution_count": 8,
     "metadata": {},
     "output_type": "execute_result"
    }
   ],
   "source": [
    "sentence_2_tuples = get_3_tuples(sentence_2) \n",
    "sentence_2_tuples"
   ]
  },
  {
   "cell_type": "code",
   "execution_count": 9,
   "id": "abdabed9-d0c1-4343-ae06-bfed6458b79d",
   "metadata": {},
   "outputs": [
    {
     "data": {
      "text/plain": [
       "{'and',\n",
       " 'ang',\n",
       " 'app',\n",
       " 'dor',\n",
       " 'for',\n",
       " 'lea',\n",
       " 'ndo',\n",
       " 'ora',\n",
       " 'ors',\n",
       " 'ple',\n",
       " 'ppl',\n",
       " 'ran',\n",
       " 'rsa'}"
      ]
     },
     "execution_count": 9,
     "metadata": {},
     "output_type": "execute_result"
    }
   ],
   "source": [
    "sent_intersection = sentence_1_tuples.intersection(sentence_2_tuples)\n",
    "sent_intersection"
   ]
  },
  {
   "cell_type": "code",
   "execution_count": 10,
   "id": "02a0b6c7-f392-46b7-bf97-053930a9985f",
   "metadata": {},
   "outputs": [
    {
     "data": {
      "text/plain": [
       "{'ale',\n",
       " 'and',\n",
       " 'ang',\n",
       " 'app',\n",
       " 'dor',\n",
       " 'ean',\n",
       " 'eap',\n",
       " 'efr',\n",
       " 'esa',\n",
       " 'for',\n",
       " 'fru',\n",
       " 'gef',\n",
       " 'its',\n",
       " 'lea',\n",
       " 'les',\n",
       " 'ndo',\n",
       " 'nge',\n",
       " 'ora',\n",
       " 'ors',\n",
       " 'ple',\n",
       " 'ppl',\n",
       " 'ran',\n",
       " 'rsa',\n",
       " 'rui',\n",
       " 'sal',\n",
       " 'san',\n",
       " 'sfo',\n",
       " 'tsf',\n",
       " 'uit'}"
      ]
     },
     "execution_count": 10,
     "metadata": {},
     "output_type": "execute_result"
    }
   ],
   "source": [
    "sent_union = sentence_1_tuples.union(sentence_2_tuples)\n",
    "sent_union"
   ]
  },
  {
   "cell_type": "code",
   "execution_count": 11,
   "id": "a55c946a-dbb4-427b-94a8-05b4e8430abc",
   "metadata": {},
   "outputs": [
    {
     "data": {
      "text/plain": [
       "13"
      ]
     },
     "execution_count": 11,
     "metadata": {},
     "output_type": "execute_result"
    }
   ],
   "source": [
    "len(sent_intersection) "
   ]
  },
  {
   "cell_type": "code",
   "execution_count": 12,
   "id": "4f5fc429-90f5-4648-8b59-5d28bf1bcaf6",
   "metadata": {},
   "outputs": [
    {
     "data": {
      "text/plain": [
       "29"
      ]
     },
     "execution_count": 12,
     "metadata": {},
     "output_type": "execute_result"
    }
   ],
   "source": [
    "len(sent_union)"
   ]
  },
  {
   "cell_type": "code",
   "execution_count": 13,
   "id": "cdea67cc-178a-4f3a-a1c0-9b6b9acff8e1",
   "metadata": {},
   "outputs": [
    {
     "data": {
      "text/plain": [
       "0.4482758620689655"
      ]
     },
     "execution_count": 13,
     "metadata": {},
     "output_type": "execute_result"
    }
   ],
   "source": [
    "len(sent_intersection)  / len(sent_union)"
   ]
  },
  {
   "cell_type": "markdown",
   "id": "73c0dde7-8b65-4560-a105-49ca0a39bc08",
   "metadata": {},
   "source": [
    "# a simple classifier"
   ]
  },
  {
   "cell_type": "code",
   "execution_count": 14,
   "id": "01dbaa9a-78bc-44a0-8937-3ea4cb498ef7",
   "metadata": {},
   "outputs": [],
   "source": [
    "# load the titanik dataset\n",
    "df = pd.read_csv(r'https://raw.githubusercontent.com/datasciencedojo/datasets/master/titanic.csv')"
   ]
  },
  {
   "cell_type": "code",
   "execution_count": 15,
   "id": "a251da92-ca5a-4e0f-a4f7-8cfb4f69b430",
   "metadata": {},
   "outputs": [
    {
     "data": {
      "text/html": [
       "<div>\n",
       "<style scoped>\n",
       "    .dataframe tbody tr th:only-of-type {\n",
       "        vertical-align: middle;\n",
       "    }\n",
       "\n",
       "    .dataframe tbody tr th {\n",
       "        vertical-align: top;\n",
       "    }\n",
       "\n",
       "    .dataframe thead th {\n",
       "        text-align: right;\n",
       "    }\n",
       "</style>\n",
       "<table border=\"1\" class=\"dataframe\">\n",
       "  <thead>\n",
       "    <tr style=\"text-align: right;\">\n",
       "      <th></th>\n",
       "      <th>PassengerId</th>\n",
       "      <th>Survived</th>\n",
       "      <th>Pclass</th>\n",
       "      <th>Name</th>\n",
       "      <th>Sex</th>\n",
       "      <th>Age</th>\n",
       "      <th>SibSp</th>\n",
       "      <th>Parch</th>\n",
       "      <th>Ticket</th>\n",
       "      <th>Fare</th>\n",
       "      <th>Cabin</th>\n",
       "      <th>Embarked</th>\n",
       "    </tr>\n",
       "  </thead>\n",
       "  <tbody>\n",
       "    <tr>\n",
       "      <th>813</th>\n",
       "      <td>814</td>\n",
       "      <td>0</td>\n",
       "      <td>3</td>\n",
       "      <td>Andersson, Miss. Ebba Iris Alfrida</td>\n",
       "      <td>female</td>\n",
       "      <td>6.0</td>\n",
       "      <td>4</td>\n",
       "      <td>2</td>\n",
       "      <td>347082</td>\n",
       "      <td>31.2750</td>\n",
       "      <td>NaN</td>\n",
       "      <td>S</td>\n",
       "    </tr>\n",
       "    <tr>\n",
       "      <th>74</th>\n",
       "      <td>75</td>\n",
       "      <td>1</td>\n",
       "      <td>3</td>\n",
       "      <td>Bing, Mr. Lee</td>\n",
       "      <td>male</td>\n",
       "      <td>32.0</td>\n",
       "      <td>0</td>\n",
       "      <td>0</td>\n",
       "      <td>1601</td>\n",
       "      <td>56.4958</td>\n",
       "      <td>NaN</td>\n",
       "      <td>S</td>\n",
       "    </tr>\n",
       "    <tr>\n",
       "      <th>68</th>\n",
       "      <td>69</td>\n",
       "      <td>1</td>\n",
       "      <td>3</td>\n",
       "      <td>Andersson, Miss. Erna Alexandra</td>\n",
       "      <td>female</td>\n",
       "      <td>17.0</td>\n",
       "      <td>4</td>\n",
       "      <td>2</td>\n",
       "      <td>3101281</td>\n",
       "      <td>7.9250</td>\n",
       "      <td>NaN</td>\n",
       "      <td>S</td>\n",
       "    </tr>\n",
       "    <tr>\n",
       "      <th>322</th>\n",
       "      <td>323</td>\n",
       "      <td>1</td>\n",
       "      <td>2</td>\n",
       "      <td>Slayter, Miss. Hilda Mary</td>\n",
       "      <td>female</td>\n",
       "      <td>30.0</td>\n",
       "      <td>0</td>\n",
       "      <td>0</td>\n",
       "      <td>234818</td>\n",
       "      <td>12.3500</td>\n",
       "      <td>NaN</td>\n",
       "      <td>Q</td>\n",
       "    </tr>\n",
       "    <tr>\n",
       "      <th>485</th>\n",
       "      <td>486</td>\n",
       "      <td>0</td>\n",
       "      <td>3</td>\n",
       "      <td>Lefebre, Miss. Jeannie</td>\n",
       "      <td>female</td>\n",
       "      <td>NaN</td>\n",
       "      <td>3</td>\n",
       "      <td>1</td>\n",
       "      <td>4133</td>\n",
       "      <td>25.4667</td>\n",
       "      <td>NaN</td>\n",
       "      <td>S</td>\n",
       "    </tr>\n",
       "    <tr>\n",
       "      <th>770</th>\n",
       "      <td>771</td>\n",
       "      <td>0</td>\n",
       "      <td>3</td>\n",
       "      <td>Lievens, Mr. Rene Aime</td>\n",
       "      <td>male</td>\n",
       "      <td>24.0</td>\n",
       "      <td>0</td>\n",
       "      <td>0</td>\n",
       "      <td>345781</td>\n",
       "      <td>9.5000</td>\n",
       "      <td>NaN</td>\n",
       "      <td>S</td>\n",
       "    </tr>\n",
       "    <tr>\n",
       "      <th>531</th>\n",
       "      <td>532</td>\n",
       "      <td>0</td>\n",
       "      <td>3</td>\n",
       "      <td>Toufik, Mr. Nakli</td>\n",
       "      <td>male</td>\n",
       "      <td>NaN</td>\n",
       "      <td>0</td>\n",
       "      <td>0</td>\n",
       "      <td>2641</td>\n",
       "      <td>7.2292</td>\n",
       "      <td>NaN</td>\n",
       "      <td>C</td>\n",
       "    </tr>\n",
       "    <tr>\n",
       "      <th>419</th>\n",
       "      <td>420</td>\n",
       "      <td>0</td>\n",
       "      <td>3</td>\n",
       "      <td>Van Impe, Miss. Catharina</td>\n",
       "      <td>female</td>\n",
       "      <td>10.0</td>\n",
       "      <td>0</td>\n",
       "      <td>2</td>\n",
       "      <td>345773</td>\n",
       "      <td>24.1500</td>\n",
       "      <td>NaN</td>\n",
       "      <td>S</td>\n",
       "    </tr>\n",
       "    <tr>\n",
       "      <th>650</th>\n",
       "      <td>651</td>\n",
       "      <td>0</td>\n",
       "      <td>3</td>\n",
       "      <td>Mitkoff, Mr. Mito</td>\n",
       "      <td>male</td>\n",
       "      <td>NaN</td>\n",
       "      <td>0</td>\n",
       "      <td>0</td>\n",
       "      <td>349221</td>\n",
       "      <td>7.8958</td>\n",
       "      <td>NaN</td>\n",
       "      <td>S</td>\n",
       "    </tr>\n",
       "    <tr>\n",
       "      <th>532</th>\n",
       "      <td>533</td>\n",
       "      <td>0</td>\n",
       "      <td>3</td>\n",
       "      <td>Elias, Mr. Joseph Jr</td>\n",
       "      <td>male</td>\n",
       "      <td>17.0</td>\n",
       "      <td>1</td>\n",
       "      <td>1</td>\n",
       "      <td>2690</td>\n",
       "      <td>7.2292</td>\n",
       "      <td>NaN</td>\n",
       "      <td>C</td>\n",
       "    </tr>\n",
       "  </tbody>\n",
       "</table>\n",
       "</div>"
      ],
      "text/plain": [
       "     PassengerId  Survived  Pclass                                Name  \\\n",
       "813          814         0       3  Andersson, Miss. Ebba Iris Alfrida   \n",
       "74            75         1       3                       Bing, Mr. Lee   \n",
       "68            69         1       3     Andersson, Miss. Erna Alexandra   \n",
       "322          323         1       2           Slayter, Miss. Hilda Mary   \n",
       "485          486         0       3              Lefebre, Miss. Jeannie   \n",
       "770          771         0       3              Lievens, Mr. Rene Aime   \n",
       "531          532         0       3                   Toufik, Mr. Nakli   \n",
       "419          420         0       3           Van Impe, Miss. Catharina   \n",
       "650          651         0       3                   Mitkoff, Mr. Mito   \n",
       "532          533         0       3                Elias, Mr. Joseph Jr   \n",
       "\n",
       "        Sex   Age  SibSp  Parch   Ticket     Fare Cabin Embarked  \n",
       "813  female   6.0      4      2   347082  31.2750   NaN        S  \n",
       "74     male  32.0      0      0     1601  56.4958   NaN        S  \n",
       "68   female  17.0      4      2  3101281   7.9250   NaN        S  \n",
       "322  female  30.0      0      0   234818  12.3500   NaN        Q  \n",
       "485  female   NaN      3      1     4133  25.4667   NaN        S  \n",
       "770    male  24.0      0      0   345781   9.5000   NaN        S  \n",
       "531    male   NaN      0      0     2641   7.2292   NaN        C  \n",
       "419  female  10.0      0      2   345773  24.1500   NaN        S  \n",
       "650    male   NaN      0      0   349221   7.8958   NaN        S  \n",
       "532    male  17.0      1      1     2690   7.2292   NaN        C  "
      ]
     },
     "execution_count": 15,
     "metadata": {},
     "output_type": "execute_result"
    }
   ],
   "source": [
    "df.sample(10)"
   ]
  },
  {
   "cell_type": "code",
   "execution_count": 16,
   "id": "bdbdf6d4-7d2a-4f59-9a54-3f1a753ab35d",
   "metadata": {},
   "outputs": [
    {
     "data": {
      "text/plain": [
       "<AxesSubplot:>"
      ]
     },
     "execution_count": 16,
     "metadata": {},
     "output_type": "execute_result"
    },
    {
     "data": {
      "image/png": "[encoded data removed]",
      "text/plain": [
       "<Figure size 432x288 with 1 Axes>"
      ]
     },
     "metadata": {
      "needs_background": "light"
     },
     "output_type": "display_data"
    }
   ],
   "source": [
    "df.Sex.value_counts().plot(kind='bar')"
   ]
  },
  {
   "cell_type": "code",
   "execution_count": 17,
   "id": "8a4b9b8c-7b99-4a1b-915e-f6e71adb4e7d",
   "metadata": {},
   "outputs": [],
   "source": [
    "def normalized_name(name):\n",
    "    name = name.lower()\n",
    "    name = re.sub('mr\\.|miss\\.|mrs\\.', '', name)\n",
    "    name = re.sub('\\W+', '', name)\n",
    "    return name"
   ]
  },
  {
   "cell_type": "code",
   "execution_count": 18,
   "id": "b4d47956-5e1c-47e7-886f-58a74eb74888",
   "metadata": {},
   "outputs": [
    {
     "name": "stdout",
     "output_type": "stream",
     "text": [
      "CPU times: total: 15.6 ms\n",
      "Wall time: 7.98 ms\n"
     ]
    }
   ],
   "source": [
    "%%time\n",
    "df['norm_name'] = df['Name'].apply(normalized_name)\n",
    "df['tuples'] = df['norm_name'].apply(get_3_tuples)"
   ]
  },
  {
   "cell_type": "code",
   "execution_count": 19,
   "id": "741df3f4-898e-4957-846d-6927cf87e229",
   "metadata": {},
   "outputs": [
    {
     "data": {
      "text/html": [
       "<div>\n",
       "<style scoped>\n",
       "    .dataframe tbody tr th:only-of-type {\n",
       "        vertical-align: middle;\n",
       "    }\n",
       "\n",
       "    .dataframe tbody tr th {\n",
       "        vertical-align: top;\n",
       "    }\n",
       "\n",
       "    .dataframe thead th {\n",
       "        text-align: right;\n",
       "    }\n",
       "</style>\n",
       "<table border=\"1\" class=\"dataframe\">\n",
       "  <thead>\n",
       "    <tr style=\"text-align: right;\">\n",
       "      <th></th>\n",
       "      <th>Name</th>\n",
       "      <th>norm_name</th>\n",
       "      <th>tuples</th>\n",
       "    </tr>\n",
       "  </thead>\n",
       "  <tbody>\n",
       "    <tr>\n",
       "      <th>0</th>\n",
       "      <td>Braund, Mr. Owen Harris</td>\n",
       "      <td>braundowenharris</td>\n",
       "      <td>{aun, rau, dow, enh, owe, und, ndo, nha, bra, ...</td>\n",
       "    </tr>\n",
       "    <tr>\n",
       "      <th>1</th>\n",
       "      <td>Cumings, Mrs. John Bradley (Florence Briggs Th...</td>\n",
       "      <td>cumingsjohnbradleyflorencebriggsthayer</td>\n",
       "      <td>{dle, ore, sth, bra, ngs, nce, rig, gsj, tha, ...</td>\n",
       "    </tr>\n",
       "    <tr>\n",
       "      <th>2</th>\n",
       "      <td>Heikkinen, Miss. Laina</td>\n",
       "      <td>heikkinenlaina</td>\n",
       "      <td>{eik, nen, hei, kki, lai, ikk, kin, nla, enl, ...</td>\n",
       "    </tr>\n",
       "    <tr>\n",
       "      <th>3</th>\n",
       "      <td>Futrelle, Mrs. Jacques Heath (Lily May Peel)</td>\n",
       "      <td>futrellejacquesheathlilymaypeel</td>\n",
       "      <td>{rel, may, lej, lym, hea, lil, yma, ues, ily, ...</td>\n",
       "    </tr>\n",
       "    <tr>\n",
       "      <th>4</th>\n",
       "      <td>Allen, Mr. William Henry</td>\n",
       "      <td>allenwilliamhenry</td>\n",
       "      <td>{all, nwi, enw, lia, amh, hen, mhe, ill, iam, ...</td>\n",
       "    </tr>\n",
       "    <tr>\n",
       "      <th>...</th>\n",
       "      <td>...</td>\n",
       "      <td>...</td>\n",
       "      <td>...</td>\n",
       "    </tr>\n",
       "    <tr>\n",
       "      <th>886</th>\n",
       "      <td>Montvila, Rev. Juozas</td>\n",
       "      <td>montvilarevjuozas</td>\n",
       "      <td>{are, uoz, vil, tvi, ila, evj, rev, ntv, lar, ...</td>\n",
       "    </tr>\n",
       "    <tr>\n",
       "      <th>887</th>\n",
       "      <td>Graham, Miss. Margaret Edith</td>\n",
       "      <td>grahammargaretedith</td>\n",
       "      <td>{gar, rga, are, gra, edi, arg, mma, amm, ete, ...</td>\n",
       "    </tr>\n",
       "    <tr>\n",
       "      <th>888</th>\n",
       "      <td>Johnston, Miss. Catherine Helen \"Carrie\"</td>\n",
       "      <td>johnstoncatherinehelencarrie</td>\n",
       "      <td>{sto, nca, arr, eri, cat, hel, onc, hns, ehe, ...</td>\n",
       "    </tr>\n",
       "    <tr>\n",
       "      <th>889</th>\n",
       "      <td>Behr, Mr. Karl Howell</td>\n",
       "      <td>behrkarlhowell</td>\n",
       "      <td>{how, hrk, rka, ehr, owe, kar, rlh, beh, arl, ...</td>\n",
       "    </tr>\n",
       "    <tr>\n",
       "      <th>890</th>\n",
       "      <td>Dooley, Mr. Patrick</td>\n",
       "      <td>dooleypatrick</td>\n",
       "      <td>{eyp, ole, tri, ypa, ley, doo, atr, pat, ool}</td>\n",
       "    </tr>\n",
       "  </tbody>\n",
       "</table>\n",
       "<p>891 rows × 3 columns</p>\n",
       "</div>"
      ],
      "text/plain": [
       "                                                  Name  \\\n",
       "0                              Braund, Mr. Owen Harris   \n",
       "1    Cumings, Mrs. John Bradley (Florence Briggs Th...   \n",
       "2                               Heikkinen, Miss. Laina   \n",
       "3         Futrelle, Mrs. Jacques Heath (Lily May Peel)   \n",
       "4                             Allen, Mr. William Henry   \n",
       "..                                                 ...   \n",
       "886                              Montvila, Rev. Juozas   \n",
       "887                       Graham, Miss. Margaret Edith   \n",
       "888           Johnston, Miss. Catherine Helen \"Carrie\"   \n",
       "889                              Behr, Mr. Karl Howell   \n",
       "890                                Dooley, Mr. Patrick   \n",
       "\n",
       "                                  norm_name  \\\n",
       "0                          braundowenharris   \n",
       "1    cumingsjohnbradleyflorencebriggsthayer   \n",
       "2                            heikkinenlaina   \n",
       "3           futrellejacquesheathlilymaypeel   \n",
       "4                         allenwilliamhenry   \n",
       "..                                      ...   \n",
       "886                       montvilarevjuozas   \n",
       "887                     grahammargaretedith   \n",
       "888            johnstoncatherinehelencarrie   \n",
       "889                          behrkarlhowell   \n",
       "890                           dooleypatrick   \n",
       "\n",
       "                                                tuples  \n",
       "0    {aun, rau, dow, enh, owe, und, ndo, nha, bra, ...  \n",
       "1    {dle, ore, sth, bra, ngs, nce, rig, gsj, tha, ...  \n",
       "2    {eik, nen, hei, kki, lai, ikk, kin, nla, enl, ...  \n",
       "3    {rel, may, lej, lym, hea, lil, yma, ues, ily, ...  \n",
       "4    {all, nwi, enw, lia, amh, hen, mhe, ill, iam, ...  \n",
       "..                                                 ...  \n",
       "886  {are, uoz, vil, tvi, ila, evj, rev, ntv, lar, ...  \n",
       "887  {gar, rga, are, gra, edi, arg, mma, amm, ete, ...  \n",
       "888  {sto, nca, arr, eri, cat, hel, onc, hns, ehe, ...  \n",
       "889  {how, hrk, rka, ehr, owe, kar, rlh, beh, arl, ...  \n",
       "890      {eyp, ole, tri, ypa, ley, doo, atr, pat, ool}  \n",
       "\n",
       "[891 rows x 3 columns]"
      ]
     },
     "execution_count": 19,
     "metadata": {},
     "output_type": "execute_result"
    }
   ],
   "source": [
    "df[['Name', 'norm_name','tuples']]"
   ]
  },
  {
   "cell_type": "code",
   "execution_count": 20,
   "id": "0b73c181-fa35-4745-81f5-b9b368e3e3c2",
   "metadata": {},
   "outputs": [
    {
     "name": "stdout",
     "output_type": "stream",
     "text": [
      "CPU times: total: 62.5 ms\n",
      "Wall time: 39.9 ms\n"
     ]
    }
   ],
   "source": [
    "%%time\n",
    "list_of_tokens = []\n",
    "for ind, row in df.iterrows():\n",
    "\n",
    "    tuples = dict()\n",
    "    for item in row.tuples:\n",
    "        tuples[item] = 1\n",
    "        \n",
    "    tuples['index'] = ind\n",
    "    tuples['gender'] = 1 if row.Sex=='female' else 0\n",
    "    \n",
    "    list_of_tokens.append(tuples)\n",
    "    "
   ]
  },
  {
   "cell_type": "code",
   "execution_count": 21,
   "id": "8302f122-4218-4308-acfd-d5c45bd80753",
   "metadata": {},
   "outputs": [
    {
     "data": {
      "text/plain": [
       "[{'aun': 1,\n",
       "  'rau': 1,\n",
       "  'dow': 1,\n",
       "  'enh': 1,\n",
       "  'owe': 1,\n",
       "  'und': 1,\n",
       "  'ndo': 1,\n",
       "  'nha': 1,\n",
       "  'bra': 1,\n",
       "  'wen': 1,\n",
       "  'arr': 1,\n",
       "  'har': 1,\n",
       "  'index': 0,\n",
       "  'gender': 0}]"
      ]
     },
     "execution_count": 21,
     "metadata": {},
     "output_type": "execute_result"
    }
   ],
   "source": [
    "list_of_tokens[0:1]"
   ]
  },
  {
   "cell_type": "code",
   "execution_count": 22,
   "id": "38d95cc1-daec-4c09-a9a5-6116ca5d1876",
   "metadata": {},
   "outputs": [
    {
     "data": {
      "text/html": [
       "<div>\n",
       "<style scoped>\n",
       "    .dataframe tbody tr th:only-of-type {\n",
       "        vertical-align: middle;\n",
       "    }\n",
       "\n",
       "    .dataframe tbody tr th {\n",
       "        vertical-align: top;\n",
       "    }\n",
       "\n",
       "    .dataframe thead th {\n",
       "        text-align: right;\n",
       "    }\n",
       "</style>\n",
       "<table border=\"1\" class=\"dataframe\">\n",
       "  <thead>\n",
       "    <tr style=\"text-align: right;\">\n",
       "      <th></th>\n",
       "      <th>aun</th>\n",
       "      <th>rau</th>\n",
       "      <th>dow</th>\n",
       "      <th>enh</th>\n",
       "      <th>owe</th>\n",
       "      <th>und</th>\n",
       "      <th>ndo</th>\n",
       "      <th>nha</th>\n",
       "      <th>bra</th>\n",
       "      <th>wen</th>\n",
       "      <th>...</th>\n",
       "      <th>cew</th>\n",
       "      <th>uoz</th>\n",
       "      <th>ntv</th>\n",
       "      <th>juo</th>\n",
       "      <th>vju</th>\n",
       "      <th>neh</th>\n",
       "      <th>hrk</th>\n",
       "      <th>rlh</th>\n",
       "      <th>beh</th>\n",
       "      <th>ypa</th>\n",
       "    </tr>\n",
       "  </thead>\n",
       "  <tbody>\n",
       "    <tr>\n",
       "      <th>794</th>\n",
       "      <td>0.0</td>\n",
       "      <td>0.0</td>\n",
       "      <td>0.0</td>\n",
       "      <td>0.0</td>\n",
       "      <td>0.0</td>\n",
       "      <td>0.0</td>\n",
       "      <td>0.0</td>\n",
       "      <td>0.0</td>\n",
       "      <td>0.0</td>\n",
       "      <td>0.0</td>\n",
       "      <td>...</td>\n",
       "      <td>0.0</td>\n",
       "      <td>0.0</td>\n",
       "      <td>0.0</td>\n",
       "      <td>0.0</td>\n",
       "      <td>0.0</td>\n",
       "      <td>0.0</td>\n",
       "      <td>0.0</td>\n",
       "      <td>0.0</td>\n",
       "      <td>0.0</td>\n",
       "      <td>0.0</td>\n",
       "    </tr>\n",
       "    <tr>\n",
       "      <th>146</th>\n",
       "      <td>0.0</td>\n",
       "      <td>0.0</td>\n",
       "      <td>0.0</td>\n",
       "      <td>0.0</td>\n",
       "      <td>0.0</td>\n",
       "      <td>0.0</td>\n",
       "      <td>0.0</td>\n",
       "      <td>0.0</td>\n",
       "      <td>0.0</td>\n",
       "      <td>1.0</td>\n",
       "      <td>...</td>\n",
       "      <td>0.0</td>\n",
       "      <td>0.0</td>\n",
       "      <td>0.0</td>\n",
       "      <td>0.0</td>\n",
       "      <td>0.0</td>\n",
       "      <td>0.0</td>\n",
       "      <td>0.0</td>\n",
       "      <td>0.0</td>\n",
       "      <td>0.0</td>\n",
       "      <td>0.0</td>\n",
       "    </tr>\n",
       "    <tr>\n",
       "      <th>127</th>\n",
       "      <td>0.0</td>\n",
       "      <td>0.0</td>\n",
       "      <td>0.0</td>\n",
       "      <td>0.0</td>\n",
       "      <td>0.0</td>\n",
       "      <td>0.0</td>\n",
       "      <td>0.0</td>\n",
       "      <td>0.0</td>\n",
       "      <td>0.0</td>\n",
       "      <td>0.0</td>\n",
       "      <td>...</td>\n",
       "      <td>0.0</td>\n",
       "      <td>0.0</td>\n",
       "      <td>0.0</td>\n",
       "      <td>0.0</td>\n",
       "      <td>0.0</td>\n",
       "      <td>0.0</td>\n",
       "      <td>0.0</td>\n",
       "      <td>0.0</td>\n",
       "      <td>0.0</td>\n",
       "      <td>0.0</td>\n",
       "    </tr>\n",
       "    <tr>\n",
       "      <th>883</th>\n",
       "      <td>0.0</td>\n",
       "      <td>0.0</td>\n",
       "      <td>0.0</td>\n",
       "      <td>0.0</td>\n",
       "      <td>0.0</td>\n",
       "      <td>0.0</td>\n",
       "      <td>0.0</td>\n",
       "      <td>0.0</td>\n",
       "      <td>0.0</td>\n",
       "      <td>0.0</td>\n",
       "      <td>...</td>\n",
       "      <td>0.0</td>\n",
       "      <td>0.0</td>\n",
       "      <td>0.0</td>\n",
       "      <td>0.0</td>\n",
       "      <td>0.0</td>\n",
       "      <td>0.0</td>\n",
       "      <td>0.0</td>\n",
       "      <td>0.0</td>\n",
       "      <td>0.0</td>\n",
       "      <td>0.0</td>\n",
       "    </tr>\n",
       "    <tr>\n",
       "      <th>697</th>\n",
       "      <td>0.0</td>\n",
       "      <td>0.0</td>\n",
       "      <td>0.0</td>\n",
       "      <td>0.0</td>\n",
       "      <td>0.0</td>\n",
       "      <td>0.0</td>\n",
       "      <td>0.0</td>\n",
       "      <td>0.0</td>\n",
       "      <td>0.0</td>\n",
       "      <td>0.0</td>\n",
       "      <td>...</td>\n",
       "      <td>0.0</td>\n",
       "      <td>0.0</td>\n",
       "      <td>0.0</td>\n",
       "      <td>0.0</td>\n",
       "      <td>0.0</td>\n",
       "      <td>0.0</td>\n",
       "      <td>0.0</td>\n",
       "      <td>0.0</td>\n",
       "      <td>0.0</td>\n",
       "      <td>0.0</td>\n",
       "    </tr>\n",
       "  </tbody>\n",
       "</table>\n",
       "<p>5 rows × 3083 columns</p>\n",
       "</div>"
      ],
      "text/plain": [
       "     aun  rau  dow  enh  owe  und  ndo  nha  bra  wen  ...  cew  uoz  ntv  \\\n",
       "794  0.0  0.0  0.0  0.0  0.0  0.0  0.0  0.0  0.0  0.0  ...  0.0  0.0  0.0   \n",
       "146  0.0  0.0  0.0  0.0  0.0  0.0  0.0  0.0  0.0  1.0  ...  0.0  0.0  0.0   \n",
       "127  0.0  0.0  0.0  0.0  0.0  0.0  0.0  0.0  0.0  0.0  ...  0.0  0.0  0.0   \n",
       "883  0.0  0.0  0.0  0.0  0.0  0.0  0.0  0.0  0.0  0.0  ...  0.0  0.0  0.0   \n",
       "697  0.0  0.0  0.0  0.0  0.0  0.0  0.0  0.0  0.0  0.0  ...  0.0  0.0  0.0   \n",
       "\n",
       "     juo  vju  neh  hrk  rlh  beh  ypa  \n",
       "794  0.0  0.0  0.0  0.0  0.0  0.0  0.0  \n",
       "146  0.0  0.0  0.0  0.0  0.0  0.0  0.0  \n",
       "127  0.0  0.0  0.0  0.0  0.0  0.0  0.0  \n",
       "883  0.0  0.0  0.0  0.0  0.0  0.0  0.0  \n",
       "697  0.0  0.0  0.0  0.0  0.0  0.0  0.0  \n",
       "\n",
       "[5 rows x 3083 columns]"
      ]
     },
     "execution_count": 22,
     "metadata": {},
     "output_type": "execute_result"
    }
   ],
   "source": [
    "three_tuples_df = pd.DataFrame(list_of_tokens)\n",
    "three_tuples_df.fillna(0, inplace=True)\n",
    "three_tuples_df.sample(5)"
   ]
  },
  {
   "cell_type": "code",
   "execution_count": 23,
   "id": "f52b51f5-f20f-4304-9acc-f9662c041c02",
   "metadata": {},
   "outputs": [
    {
     "name": "stdout",
     "output_type": "stream",
     "text": [
      "CPU times: total: 15.6 ms\n",
      "Wall time: 20.9 ms\n"
     ]
    }
   ],
   "source": [
    "%%time\n",
    "all_columns_but_gender = three_tuples_df.columns[three_tuples_df.columns != 'gender']\n",
    "X_train, X_test, y_train, y_test = train_test_split(three_tuples_df[all_columns_but_gender], three_tuples_df['gender'], test_size=0.2, random_state=42)"
   ]
  },
  {
   "cell_type": "code",
   "execution_count": 24,
   "id": "8bfaea21-f345-443d-9a84-f0dc2481212a",
   "metadata": {},
   "outputs": [
    {
     "name": "stdout",
     "output_type": "stream",
     "text": [
      "[13:25:49] WARNING: ..\\src\\learner.cc:1115: Starting in XGBoost 1.3.0, the default evaluation metric used with the objective 'binary:logistic' was changed from 'error' to 'logloss'. Explicitly set eval_metric if you'd like to restore the old behavior.\n"
     ]
    },
    {
     "name": "stderr",
     "output_type": "stream",
     "text": [
      "C:\\Users\\yhoresh\\Anaconda3\\lib\\site-packages\\xgboost\\data.py:250: FutureWarning: pandas.Int64Index is deprecated and will be removed from pandas in a future version. Use pandas.Index with the appropriate dtype instead.\n",
      "  elif isinstance(data.columns, (pd.Int64Index, pd.RangeIndex)):\n"
     ]
    },
    {
     "name": "stdout",
     "output_type": "stream",
     "text": [
      "              precision    recall  f1-score   support\n",
      "\n",
      "           0       0.81      0.90      0.85       110\n",
      "           1       0.81      0.67      0.73        69\n",
      "\n",
      "    accuracy                           0.81       179\n",
      "   macro avg       0.81      0.78      0.79       179\n",
      "weighted avg       0.81      0.81      0.81       179\n",
      "\n",
      "CPU times: total: 20.1 s\n",
      "Wall time: 1.83 s\n"
     ]
    },
    {
     "data": {
      "text/plain": [
       "array([[99, 11],\n",
       "       [23, 46]], dtype=int64)"
      ]
     },
     "execution_count": 24,
     "metadata": {},
     "output_type": "execute_result"
    }
   ],
   "source": [
    "%%time\n",
    "classifier = XGBClassifier( use_label_encoder=False) #class_weight='balanced',\n",
    "model = classifier.fit(X_train, y_train)\n",
    "\n",
    "prediction = model.predict(X_test)\n",
    "\n",
    "print(classification_report(y_test, prediction))\n",
    "\n",
    "confusion_matrix(y_test, prediction)\n"
   ]
  },
  {
   "cell_type": "code",
   "execution_count": 25,
   "id": "26cc1830-a5a1-4fbe-aa6a-15659b1f0ed0",
   "metadata": {},
   "outputs": [
    {
     "data": {
      "text/plain": [
       "<AxesSubplot:xlabel='imp', ylabel='name'>"
      ]
     },
     "execution_count": 25,
     "metadata": {},
     "output_type": "execute_result"
    },
    {
     "data": {
      "image/png": "[encoded data removed]",
      "text/plain": [
       "<Figure size 432x288 with 1 Axes>"
      ]
     },
     "metadata": {
      "needs_background": "light"
     },
     "output_type": "display_data"
    }
   ],
   "source": [
    "#feature_importances\n",
    "feature_imp = pd.DataFrame(data=list(zip(model.feature_importances_, all_columns_but_gender)), columns=['imp', 'name'])\n",
    "feature_imp.sort_values(by='imp', ascending=False, inplace=True)\n",
    "\n",
    "sb.barplot(x=feature_imp.imp[0:20], y=feature_imp.name[0:20])\n"
   ]
  },
  {
   "cell_type": "code",
   "execution_count": null,
   "id": "36099010-42ae-49a4-8134-fe110cf67759",
   "metadata": {},
   "outputs": [],
   "source": []
  },
  {
   "cell_type": "code",
   "execution_count": 28,
   "id": "bdb59a3e-5e7a-4486-87d5-ac211b229e2f",
   "metadata": {},
   "outputs": [
    {
     "data": {
      "text/plain": [
       "DecisionTreeClassifier(max_depth=4, min_samples_leaf=3, min_samples_split=3)"
      ]
     },
     "execution_count": 28,
     "metadata": {},
     "output_type": "execute_result"
    },
    {
     "data": {
      "text/plain": [
       "True"
      ]
     },
     "execution_count": 28,
     "metadata": {},
     "output_type": "execute_result"
    },
    {
     "data": {
      "image/jpeg": "[encoded data removed]",
      "text/plain": [
       "<IPython.core.display.Image object>"
      ]
     },
     "execution_count": 28,
     "metadata": {
      "image/jpeg": {
       "height": 1000,
       "width": 1000
      }
     },
     "output_type": "execute_result"
    }
   ],
   "source": [
    "tree_classifier = tree.DecisionTreeClassifier(max_depth=4, min_samples_leaf=3, min_samples_split=3)\n",
    "tree_classifier.fit(X_train, y_train)\n",
    "\n",
    "dot_data = tree.export_graphviz(tree_classifier, out_file=None, class_names=['male','female'], feature_names=all_columns_but_gender, filled=True, rounded=True, special_characters=True)\n",
    "graph = pydotplus.graph_from_dot_data(dot_data)\n",
    "graph.write_jpeg('dummy.jpeg')\n",
    "Image(filename='dummy.jpeg', width=1000, height=1000)\n",
    "\n",
    "prediction = tree_classifier.predict(X_test)\n"
   ]
  },
  {
   "cell_type": "code",
   "execution_count": 27,
   "id": "e3c13b02-6559-4494-a743-9c8848aa2c9c",
   "metadata": {},
   "outputs": [
    {
     "name": "stdout",
     "output_type": "stream",
     "text": [
      "              precision    recall  f1-score   support\n",
      "\n",
      "           0       0.72      0.92      0.81       110\n",
      "           1       0.77      0.43      0.56        69\n",
      "\n",
      "    accuracy                           0.73       179\n",
      "   macro avg       0.75      0.68      0.68       179\n",
      "weighted avg       0.74      0.73      0.71       179\n",
      "\n"
     ]
    },
    {
     "data": {
      "text/plain": [
       "array([[101,   9],\n",
       "       [ 39,  30]], dtype=int64)"
      ]
     },
     "execution_count": 27,
     "metadata": {},
     "output_type": "execute_result"
    }
   ],
   "source": [
    "print(classification_report(y_test, prediction))\n",
    "\n",
    "confusion_matrix(y_test, prediction)"
   ]
  },
  {
   "cell_type": "code",
   "execution_count": null,
   "id": "22117289-73c0-45cc-9a8a-1bbc29453041",
   "metadata": {},
   "outputs": [],
   "source": []
  }
 ],
 "metadata": {
  "kernelspec": {
   "display_name": "Python 3",
   "language": "python",
   "name": "python3"
  },
  "language_info": {
   "codemirror_mode": {
    "name": "ipython",
    "version": 3
   },
   "file_extension": ".py",
   "mimetype": "text/x-python",
   "name": "python",
   "nbconvert_exporter": "python",
   "pygments_lexer": "ipython3",
   "version": "3.8.8"
  }
 },
 "nbformat": 4,
 "nbformat_minor": 5
}

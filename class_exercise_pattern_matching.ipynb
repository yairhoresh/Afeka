{
 "cells": [
  {
   "cell_type": "code",
   "execution_count": 1,
   "id": "dfb83b53-9a8f-4572-ad6c-d2470caf3725",
   "metadata": {},
   "outputs": [],
   "source": [
    "import urllib.request \n",
    "#import nltk\n",
    "import re\n"
   ]
  },
  {
   "cell_type": "code",
   "execution_count": 2,
   "id": "b27feac5-c91e-4697-825a-2ce601a9f193",
   "metadata": {},
   "outputs": [],
   "source": [
    "alice_http_response = urllib.request.urlopen('https://www.cs.cmu.edu/~rgs/alice-I.html')\n",
    "alice_line_by_line = [line.decode('utf-8') for line in alice_http_response]\n"
   ]
  },
  {
   "cell_type": "code",
   "execution_count": 3,
   "id": "e5a4b11f-87ed-4eac-bcf3-0b29f6ade798",
   "metadata": {},
   "outputs": [
    {
     "data": {
      "text/plain": [
       "['<HTML>\\n',\n",
       " '<HEAD>\\n',\n",
       " \"<Title>Alice's Adventures in Wonderland -- Chapter I</Title>\\n\",\n",
       " '</HEAD>\\n',\n",
       " '<BODY>\\n',\n",
       " '<H2>CHAPTER I</H2>\\n',\n",
       " '                      <H2>Down the Rabbit-Hole</H2>\\n',\n",
       " '\\n',\n",
       " '  Alice was beginning to get very tired of sitting by her sister\\n',\n",
       " 'on the bank, and of having nothing to do:  once or twice she had\\n',\n",
       " 'peeped into the book her sister was reading, but it had no\\n',\n",
       " \"pictures or conversations in it, `and what is the use of a book,'\\n\",\n",
       " \"thought Alice `without pictures or conversation?'\\n\",\n",
       " '<P>\\n',\n",
       " '  So she was considering in her own mind (as well as she could,\\n',\n",
       " 'for the hot day made her feel very sleepy and stupid), whether\\n',\n",
       " 'the pleasure of making a daisy-chain would be worth the trouble\\n',\n",
       " 'of getting up and picking the daisies, when suddenly a White\\n',\n",
       " 'Rabbit with pink eyes ran close by her.\\n',\n",
       " '<P>\\n']"
      ]
     },
     "execution_count": 3,
     "metadata": {},
     "output_type": "execute_result"
    }
   ],
   "source": [
    "alice_line_by_line[0:20]"
   ]
  },
  {
   "cell_type": "code",
   "execution_count": 4,
   "id": "fefa70cb-c071-4048-bfb4-a2c88fc465e9",
   "metadata": {},
   "outputs": [
    {
     "name": "stdout",
     "output_type": "stream",
     "text": [
      "CPU times: total: 0 ns\n",
      "Wall time: 997 µs\n"
     ]
    }
   ],
   "source": [
    "%%time\n",
    "alice_clean = [re.sub('<.+?>', '', line) for line in alice_line_by_line]\n",
    "# note that unlike + which is a gready qualifier \n",
    "# +? is a lazy qualifier that stops after the first match\n",
    "alice_clean = [re.sub('\\n', '', line) for line in alice_clean]\n",
    "alice_clean = [re.sub('^\\s+', '', line) for line in alice_clean]\n",
    "alice_clean = [re.sub('\\*.+\\*', '', line) for line in alice_clean]\n",
    "alice_clean = [line for line in alice_clean if len(line)>0]\n",
    "\n",
    "alice_single_text = ' '.join(alice_clean)"
   ]
  },
  {
   "cell_type": "code",
   "execution_count": 5,
   "id": "1813c3a5-1092-4f1d-9a06-50ff259cf6ba",
   "metadata": {},
   "outputs": [
    {
     "data": {
      "text/plain": [
       "\"Alice's Adventures in Wonderland -- Chapter I CHAPTER I Down the Rabbit-Hole Alice was beginning to get very tired of sitting by her sister on the bank, and of having nothing to do:  once or twice she had peeped into the book her sister was reading, but it had no pictures or conversations in it, `and what is the use of a book,' thought Alice `without pictures or conversation?' So she was considering in her own mind (as well as she could, for the hot day made her feel very sleepy and stupid), whe\""
      ]
     },
     "execution_count": 5,
     "metadata": {},
     "output_type": "execute_result"
    }
   ],
   "source": [
    "alice_single_text[0:500]"
   ]
  },
  {
   "cell_type": "code",
   "execution_count": 6,
   "id": "624ce1db-1a07-4731-954a-ac7f1c3335a1",
   "metadata": {},
   "outputs": [
    {
     "name": "stdout",
     "output_type": "stream",
     "text": [
      "[('European', 'NORP'), ('$5.1 billion', 'MONEY'), ('Wednesday', 'DATE')]\n"
     ]
    }
   ],
   "source": [
    "#!pip install -U spacy\n",
    "#!python -m spacy download en_core_web_sm\n",
    "import spacy\n",
    "import en_core_web_sm\n",
    "nlp = en_core_web_sm.load()\n",
    "\n",
    "doc = nlp('European authorities fined Google a record $5.1 billion on Wednesday for abusing its power in the mobile phone market and ordered the company to alter its practices')\n",
    "print([(X.text, X.label_) for X in doc.ents])"
   ]
  },
  {
   "cell_type": "markdown",
   "id": "6d2aa964-457c-48d0-844f-4af0cc5a570e",
   "metadata": {},
   "source": [
    "# Tasks\n",
    "\n",
    "### 1. What is the most lengthy sequence that repeats twice or more?\n",
    "### 2. Compare the run time of Aho-Corasick dictionary matching algorithm with a naive approach for 1,000 words\n",
    "### 3. Print the different GPEs (Geo-Political Entities) in Alice's story"
   ]
  },
  {
   "cell_type": "code",
   "execution_count": null,
   "id": "3c5504b8-bba9-4b2f-90ce-236d126de576",
   "metadata": {},
   "outputs": [],
   "source": []
  }
 ],
 "metadata": {
  "kernelspec": {
   "display_name": "Python 3",
   "language": "python",
   "name": "python3"
  },
  "language_info": {
   "codemirror_mode": {
    "name": "ipython",
    "version": 3
   },
   "file_extension": ".py",
   "mimetype": "text/x-python",
   "name": "python",
   "nbconvert_exporter": "python",
   "pygments_lexer": "ipython3",
   "version": "3.8.8"
  }
 },
 "nbformat": 4,
 "nbformat_minor": 5
}

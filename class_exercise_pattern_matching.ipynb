{
 "cells": [
  {
   "cell_type": "code",
   "execution_count": 1,
   "id": "dfb83b53-9a8f-4572-ad6c-d2470caf3725",
   "metadata": {},
   "outputs": [],
   "source": [
    "import urllib.request \n",
    "import re\n",
    "import numpy as np"
   ]
  },
  {
   "cell_type": "code",
   "execution_count": 2,
   "id": "b27feac5-c91e-4697-825a-2ce601a9f193",
   "metadata": {},
   "outputs": [],
   "source": [
    "alice_http_response = urllib.request.urlopen('https://www.cs.cmu.edu/~rgs/alice-I.html')\n",
    "alice_line_by_line = [line.decode('utf-8') for line in alice_http_response]"
   ]
  },
  {
   "cell_type": "code",
   "execution_count": 3,
   "id": "e5a4b11f-87ed-4eac-bcf3-0b29f6ade798",
   "metadata": {},
   "outputs": [
    {
     "data": {
      "text/plain": [
       "['<HTML>\\n',\n",
       " '<HEAD>\\n',\n",
       " \"<Title>Alice's Adventures in Wonderland -- Chapter I</Title>\\n\",\n",
       " '</HEAD>\\n',\n",
       " '<BODY>\\n',\n",
       " '<H2>CHAPTER I</H2>\\n',\n",
       " '                      <H2>Down the Rabbit-Hole</H2>\\n',\n",
       " '\\n',\n",
       " '  Alice was beginning to get very tired of sitting by her sister\\n',\n",
       " 'on the bank, and of having nothing to do:  once or twice she had\\n',\n",
       " 'peeped into the book her sister was reading, but it had no\\n',\n",
       " \"pictures or conversations in it, `and what is the use of a book,'\\n\",\n",
       " \"thought Alice `without pictures or conversation?'\\n\",\n",
       " '<P>\\n',\n",
       " '  So she was considering in her own mind (as well as she could,\\n',\n",
       " 'for the hot day made her feel very sleepy and stupid), whether\\n',\n",
       " 'the pleasure of making a daisy-chain would be worth the trouble\\n',\n",
       " 'of getting up and picking the daisies, when suddenly a White\\n',\n",
       " 'Rabbit with pink eyes ran close by her.\\n',\n",
       " '<P>\\n']"
      ]
     },
     "execution_count": 3,
     "metadata": {},
     "output_type": "execute_result"
    }
   ],
   "source": [
    "alice_line_by_line[0:20]"
   ]
  },
  {
   "cell_type": "code",
   "execution_count": 4,
   "id": "fefa70cb-c071-4048-bfb4-a2c88fc465e9",
   "metadata": {},
   "outputs": [
    {
     "name": "stdout",
     "output_type": "stream",
     "text": [
      "CPU times: total: 0 ns\n",
      "Wall time: 997 µs\n"
     ]
    }
   ],
   "source": [
    "%%time\n",
    "alice_clean = [re.sub('<.+?>', '', line) for line in alice_line_by_line]\n",
    "# note that unlike + which is a gready qualifier \n",
    "# +? is a lazy qualifier that stops after the first match\n",
    "alice_clean = [re.sub('\\n', '', line) for line in alice_clean]\n",
    "alice_clean = [re.sub('^\\s+', '', line) for line in alice_clean]\n",
    "alice_clean = [re.sub('\\*.+\\*', '', line) for line in alice_clean]\n",
    "alice_clean = [line for line in alice_clean if len(line)>0]\n",
    "\n",
    "alice_single_text = ' '.join(alice_clean)"
   ]
  },
  {
   "cell_type": "code",
   "execution_count": 5,
   "id": "1813c3a5-1092-4f1d-9a06-50ff259cf6ba",
   "metadata": {},
   "outputs": [
    {
     "data": {
      "text/plain": [
       "\"Alice's Adventures in Wonderland -- Chapter I CHAPTER I Down the Rabbit-Hole Alice was beginning to get very tired of sitting by her sister on the bank, and of having nothing to do:  once or twice she had peeped into the book her sister was reading, but it had no pictures or conversations in it, `and what is the use of a book,' thought Alice `without pictures or conversation?' So she was considering in her own mind (as well as she could, for the hot day made her feel very sleepy and stupid), whe\""
      ]
     },
     "execution_count": 5,
     "metadata": {},
     "output_type": "execute_result"
    }
   ],
   "source": [
    "alice_single_text[0:500]"
   ]
  },
  {
   "cell_type": "code",
   "execution_count": 6,
   "id": "b9d25657-f66e-40a7-a183-903a607109bc",
   "metadata": {},
   "outputs": [
    {
     "data": {
      "text/plain": [
       "11456"
      ]
     },
     "execution_count": 6,
     "metadata": {},
     "output_type": "execute_result"
    }
   ],
   "source": [
    "len(alice_single_text)"
   ]
  },
  {
   "cell_type": "code",
   "execution_count": 7,
   "id": "624ce1db-1a07-4731-954a-ac7f1c3335a1",
   "metadata": {},
   "outputs": [
    {
     "name": "stdout",
     "output_type": "stream",
     "text": [
      "[('European', 'NORP'), ('$5.1 billion', 'MONEY'), ('Wednesday', 'DATE')]\n"
     ]
    }
   ],
   "source": [
    "#!pip install -U spacy\n",
    "#!python -m spacy download en_core_web_sm\n",
    "import spacy\n",
    "import en_core_web_sm\n",
    "nlp = en_core_web_sm.load()\n",
    "\n",
    "doc = nlp('European authorities fined Google a record $5.1 billion on Wednesday for abusing its power in the mobile phone market')\n",
    "print([(X.text, X.label_) for X in doc.ents])"
   ]
  },
  {
   "cell_type": "markdown",
   "id": "6d2aa964-457c-48d0-844f-4af0cc5a570e",
   "metadata": {},
   "source": [
    "# Solutions\n"
   ]
  },
  {
   "cell_type": "markdown",
   "id": "df09dafc-bf08-4371-9740-9fd0fcc0ca9a",
   "metadata": {},
   "source": [
    "### 1. What is the most lengthy sequence that repeats twice or more?"
   ]
  },
  {
   "cell_type": "code",
   "execution_count": 36,
   "id": "f7945f6b-cded-4b46-b8b3-1aea0b8ee6f2",
   "metadata": {},
   "outputs": [
    {
     "name": "stdout",
     "output_type": "stream",
     "text": [
      "27.0\n",
      "CPU times: total: 52.9 s\n",
      "Wall time: 52.9 s\n"
     ]
    }
   ],
   "source": [
    "%%time\n",
    "# there are quite a few nice ways to solve it. I picked a solution that is based on modifying Edit Distance / Dynamic programming\n",
    "mat = np.zeros([len(alice_single_text), len(alice_single_text)])\n",
    "for i in range(len(alice_single_text)):\n",
    "    for j in range(0, len(alice_single_text)):\n",
    "        if i==j:\n",
    "            continue\n",
    "        if alice_single_text[i] == alice_single_text[j]:\n",
    "            if i==0 or j==0:\n",
    "                mat[i, j] = 1 \n",
    "            else:\n",
    "                mat[i, j] = mat[i-1, j-1] + 1\n",
    "        else:\n",
    "            mat[i, j] = 0 \n",
    "\n",
    "print(np.max(mat))"
   ]
  },
  {
   "cell_type": "code",
   "execution_count": 37,
   "id": "60e390cb-3b22-4197-9385-b604c332a88c",
   "metadata": {},
   "outputs": [
    {
     "name": "stdout",
     "output_type": "stream",
     "text": [
      "27 7347 9592\n",
      "o she went back to the table,\n",
      "n she went back to the table \n"
     ]
    }
   ],
   "source": [
    "# and here is the text (with extra char at the begining and the end)\n",
    "pair_len = int(np.max(mat))\n",
    "y_axis = int(np.argmax(mat) / len(alice_single_text))\n",
    "x_axis = np.argmax(mat) % len(alice_single_text)\n",
    "print(pair_len, y_axis, x_axis)\n",
    "print(alice_single_text[y_axis-pair_len:y_axis+2])\n",
    "print(alice_single_text[x_axis-pair_len:x_axis+2])"
   ]
  },
  {
   "cell_type": "code",
   "execution_count": 38,
   "id": "f1a3b37a-0300-4265-bd00-ed9cd15efb96",
   "metadata": {},
   "outputs": [
    {
     "name": "stdout",
     "output_type": "stream",
     "text": [
      " 0  0  0  0  0  0  0  0  0  0  0  0  0  0  0  0  0  0  0  0  0  0  1  0  0  0  0  0  0  0  0  0  0  0  0  1  0 \n",
      " 0  0  0  0  0  0  0  0  0  0  0  0  0  0  0  0  0  0  0  0  0  0  0  0  0  0  0  0  0  0  0  0  0  0  0  0  2 \n",
      " 0  0  0  0  0  0  0  0  0  0  0  0  0  0  0  0  0  0  0  0  0  0  0  0  0  0  0  0  0  0  0  0  0  0  0  0  0 \n",
      " 0  1  0  0  0  0  1  0  0  0  1  0  0  0  0  1  0  0  0  0  1  0  0  1  0  0  0  1  0  0  0  0  0  1  0  0  0 \n",
      " 0  0  0  0  0  0  0  2  0  0  0  0  0  0  0  0  0  0  0  0  0  0  0  0  0  0  0  0  0  0  0  0  0  0  0  0  0 \n",
      " 0  0  0  0  0  0  0  0  0  0  0  0  0  0  0  0  0  0  0  0  0  0  1  0  0  0  0  0  0  0  0  0  0  0  0  1  0 \n",
      " 0  1  0  0  0  0  1  0  0  0  1  0  0  0  0  1  0  0  0  0  1  0  0  2  0  0  0  1  0  0  0  0  0  1  0  0  0 \n",
      " 0  0  0  0  0  0  0  2  0  0  0  0  0  0  0  0  0  0  0  0  0  0  0  0  0  0  0  0  0  0  0  0  0  0  0  0  0 \n",
      " 0  0  0  1  0  0  0  0  3  0  0  0  0  0  0  0  0  0  0  0  0  0  0  0  0  1  0  0  0  0  0  0  0  0  0  0  0 \n",
      " 0  0  0  0  2  0  0  0  0  4  0  0  1  0  0  0  0  0  0  0  0  0  0  0  0  0  2  0  0  0  0  0  1  0  0  0  0 \n",
      " 0  1  0  0  0  0  1  0  0  0  5  0  0  0  0  1  0  0  0  0  1  0  0  1  0  0  0  3  0  0  0  0  0  2  0  0  0 \n",
      " 0  0  2  0  0  0  0  0  0  0  0  6  0  0  0  0  0  0  0  0  0  0  0  0  0  0  0  0  0  0  0  0  0  0  0  0  0 \n",
      " 0  0  0  0  1  0  0  0  0  1  0  0  7  0  0  0  0  0  0  0  0  0  0  0  0  0  1  0  0  0  0  0  1  0  0  0  0 \n",
      " 0  0  0  0  0  2  0  0  0  0  0  0  0  8  0  0  0  0  0  0  0  0  0  0  0  0  0  0  0  0  0  0  0  0  0  0  0 \n",
      " 0  0  0  0  0  0  0  0  0  0  0  0  0  0  9  0  0  0  0  0  0  1  0  0  1  0  0  0  1  0  0  0  0  0  0  0  0 \n",
      " 0  1  0  0  0  0  1  0  0  0  1  0  0  0  0 10  0  0  0  0  1  0  0  1  0  0  0  1  0  0  0  0  0  1  0  0  0 \n",
      " 0  0  0  0  0  0  0  0  0  0  0  0  0  0  0  0 11  0  0  0  0  0  0  0  0  0  0  0  0  0  1  0  0  0  0  0  0 \n",
      " 0  0  0  0  0  0  0  0  0  0  0  0  0  0  0  0  0 12  0  0  0  0  0  0  0  0  0  0  0  1  0  0  0  0  0  0  0 \n",
      " 0  0  0  0  0  0  0  0  0  0  0  0  0  0  0  0  0  0 13  0  0  0  0  0  0  0  0  0  0  0  0  0  0  0  0  0  0 \n",
      " 0  0  0  0  0  0  0  0  0  0  0  0  0  0  0  0  0  0  0 14  0  0  0  0  0  0  0  0  0  0  0  0  0  0  0  0  0 \n",
      " 0  1  0  0  0  0  1  0  0  0  1  0  0  0  0  1  0  0  0  0 15  0  0  1  0  0  0  1  0  0  0  0  0  1  0  0  0 \n",
      " 0  0  0  0  0  0  0  0  0  0  0  0  0  0  1  0  0  0  0  0  0 16  0  0  2  0  0  0  2  0  0  0  0  0  0  0  0 \n",
      " 0  0  0  0  0  0  0  0  0  0  0  0  0  0  0  0  0  0  0  0  0  0 17  0  0  0  0  0  0  0  0  0  0  0  0  1  0 \n",
      " 0  1  0  0  0  0  1  0  0  0  1  0  0  0  0  1  0  0  0  0  1  0  0 18  0  0  0  1  0  0  0  0  0  1  0  0  0 \n",
      " 0  0  0  0  0  0  0  0  0  0  0  0  0  0  1  0  0  0  0  0  0  2  0  0 19  0  0  0  2  0  0  0  0  0  0  0  0 \n",
      " 0  0  0  1  0  0  0  0  1  0  0  0  0  0  0  0  0  0  0  0  0  0  0  0  0 20  0  0  0  0  0  0  0  0  0  0  0 \n",
      " 0  0  0  0  2  0  0  0  0  2  0  0  1  0  0  0  0  0  0  0  0  0  0  0  0  0 21  0  0  0  0  0  1  0  0  0  0 \n",
      " 0  1  0  0  0  0  1  0  0  0  3  0  0  0  0  1  0  0  0  0  1  0  0  1  0  0  0 22  0  0  0  0  0  2  0  0  0 \n",
      " 0  0  0  0  0  0  0  0  0  0  0  0  0  0  1  0  0  0  0  0  0  2  0  0  2  0  0  0 23  0  0  0  0  0  0  0  0 \n",
      " 0  0  0  0  0  0  0  0  0  0  0  0  0  0  0  0  0  1  0  0  0  0  0  0  0  0  0  0  0 24  0  0  0  0  0  0  0 \n",
      " 0  0  0  0  0  0  0  0  0  0  0  0  0  0  0  0  1  0  0  0  0  0  0  0  0  0  0  0  0  0 25  0  0  0  0  0  0 \n",
      " 0  0  0  0  0  0  0  0  0  0  0  0  0  0  0  0  0  0  0  0  0  0  0  0  0  0  0  0  0  0  0 26  0  0  0  0  0 \n",
      " 0  0  0  0  1  0  0  0  0  1  0  0  1  0  0  0  0  0  0  0  0  0  0  0  0  0  1  0  0  0  0  0 27  0  0  0  0 \n",
      " 0  0  0  0  0  0  0  0  0  0  0  0  0  0  0  0  0  0  0  0  0  0  0  0  0  0  0  0  0  0  0  0  0  0  0  0  0 \n",
      " 0  1  0  0  0  0  1  0  0  0  1  0  0  0  0  1  0  0  0  0  1  0  0  1  0  0  0  1  0  0  0  0  0  1  0  0  0 \n",
      " 0  0  0  1  0  0  0  0  1  0  0  0  0  0  0  0  0  0  0  0  0  0  0  0  0  1  0  0  0  0  0  0  0  0  0  0  0 \n",
      " 0  0  0  0  0  0  0  0  0  0  0  0  0  0  0  0  0  1  0  0  0  0  0  0  0  0  0  0  0  1  0  0  0  0  0  0  0 \n"
     ]
    }
   ],
   "source": [
    "for i in range(y_axis-pair_len-5,y_axis+5):\n",
    "    for j in range(x_axis-pair_len-5,x_axis+5):\n",
    "        print(f'{mat[i,j].astype(int):2}', end = ' ')\n",
    "    print()"
   ]
  },
  {
   "cell_type": "markdown",
   "id": "e02a83b1-2d76-49f8-a8bc-652fde93ff76",
   "metadata": {},
   "source": [
    "### 2. Compare the run time of Aho-Corasick dictionary matching algorithm with a naive approach for many words\n"
   ]
  },
  {
   "cell_type": "code",
   "execution_count": 32,
   "id": "de3a3d30-dc27-4135-b474-1b6b7fa6eb0f",
   "metadata": {},
   "outputs": [
    {
     "name": "stdout",
     "output_type": "stream",
     "text": [
      "649\n"
     ]
    }
   ],
   "source": [
    "import ahocorasick\n",
    "\n",
    "dict_matching = ahocorasick.Automaton()\n",
    "\n",
    "set_of_words_to_find = set(re.sub('\\W+', '', x) for x in alice_single_text.split())\n",
    "\n",
    "print(len(set_of_words_to_find))\n",
    "\n",
    "for idx, key in enumerate(set_of_words_to_find):\n",
    "    dict_matching.add_word(key, (idx, key))\n",
    "\n",
    "dict_matching.make_automaton()"
   ]
  },
  {
   "cell_type": "code",
   "execution_count": 33,
   "id": "8c97f459-cefa-4d39-b1b6-97253673ec05",
   "metadata": {},
   "outputs": [
    {
     "name": "stdout",
     "output_type": "stream",
     "text": [
      "4109\n",
      "CPU times: total: 0 ns\n",
      "Wall time: 1.99 ms\n"
     ]
    }
   ],
   "source": [
    "%%time\n",
    "count = 0\n",
    "for end_index, (insert_order, original_value) in dict_matching.iter(alice_single_text):\n",
    "    #if count < 10:\n",
    "    #    start_index = end_index - len(original_value) + 1\n",
    "    #    print((start_index, end_index, (insert_order, original_value)))\n",
    "    count += 1\n",
    "    \n",
    "print(count)"
   ]
  },
  {
   "cell_type": "code",
   "execution_count": 34,
   "id": "ae34eb7e-3c51-432f-acad-60f5ea311e84",
   "metadata": {},
   "outputs": [
    {
     "name": "stdout",
     "output_type": "stream",
     "text": [
      "15566\n",
      "CPU times: total: 31.2 ms\n",
      "Wall time: 33 ms\n"
     ]
    }
   ],
   "source": [
    "%%time\n",
    "count = 0\n",
    "for item in set_of_words_to_find:\n",
    "    tmp = [m.start() for m in re.finditer(item, alice_single_text)]\n",
    "    count += len(tmp)\n",
    "print(count)"
   ]
  },
  {
   "cell_type": "markdown",
   "id": "ebcfdbd0-7c63-45f7-9bb5-b404a325d24f",
   "metadata": {},
   "source": [
    "### 3. Print the different GPEs (Geo-Political Entities) in Alice's story"
   ]
  },
  {
   "cell_type": "code",
   "execution_count": 35,
   "id": "b2b2b68a-4f88-4791-8ca2-850537d2e5be",
   "metadata": {},
   "outputs": [
    {
     "name": "stdout",
     "output_type": "stream",
     "text": [
      "['Wonderland', 'New Zealand', 'Australia', 'Dinah', 'turkey']\n"
     ]
    }
   ],
   "source": [
    "doc = nlp(alice_single_text)\n",
    "print([X.text for X in doc.ents if X.label_=='GPE'])"
   ]
  }
 ],
 "metadata": {
  "kernelspec": {
   "display_name": "Python 3",
   "language": "python",
   "name": "python3"
  },
  "language_info": {
   "codemirror_mode": {
    "name": "ipython",
    "version": 3
   },
   "file_extension": ".py",
   "mimetype": "text/x-python",
   "name": "python",
   "nbconvert_exporter": "python",
   "pygments_lexer": "ipython3",
   "version": "3.8.8"
  }
 },
 "nbformat": 4,
 "nbformat_minor": 5
}

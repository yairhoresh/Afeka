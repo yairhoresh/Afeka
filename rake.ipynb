{
 "cells": [
  {
   "cell_type": "code",
   "execution_count": 1,
   "id": "873b50db-a372-4c13-898f-de6e977a39c0",
   "metadata": {},
   "outputs": [],
   "source": [
    "from rake_nltk import Rake\n",
    "from nltk.corpus import movie_reviews as mr\n",
    "from nltk.tokenize import word_tokenize\n",
    "import re"
   ]
  },
  {
   "cell_type": "code",
   "execution_count": 2,
   "id": "2e43e78b-75b7-4c67-8d4a-caf6a02734be",
   "metadata": {},
   "outputs": [],
   "source": [
    "rake = Rake(max_length=2, include_repeated_phrases=False, word_tokenizer=word_tokenize)"
   ]
  },
  {
   "cell_type": "code",
   "execution_count": 3,
   "id": "c9165bf4-6b9a-4216-9408-8ed601486173",
   "metadata": {},
   "outputs": [],
   "source": [
    "movie_reviews = ''\n",
    "for list_of_words in mr.sents():\n",
    "    sentence = ' '.join(list_of_words)\n",
    "    movie_reviews += sentence + ' '"
   ]
  },
  {
   "cell_type": "code",
   "execution_count": 4,
   "id": "76f9d7f2-276d-448d-96d9-c4b1bf85ec1f",
   "metadata": {},
   "outputs": [
    {
     "data": {
      "text/plain": [
       "7810520"
      ]
     },
     "execution_count": 4,
     "metadata": {},
     "output_type": "execute_result"
    }
   ],
   "source": [
    "len(movie_reviews) "
   ]
  },
  {
   "cell_type": "code",
   "execution_count": 5,
   "id": "321cac36-bc9f-4261-954e-e5a597581f46",
   "metadata": {},
   "outputs": [],
   "source": [
    "movie_reviews = re.sub('\\W+', ' ', movie_reviews)"
   ]
  },
  {
   "cell_type": "code",
   "execution_count": 6,
   "id": "78c0f3a7-4215-440d-9018-560f0e7cf54b",
   "metadata": {},
   "outputs": [
    {
     "data": {
      "text/plain": [
       "7313851"
      ]
     },
     "execution_count": 6,
     "metadata": {},
     "output_type": "execute_result"
    }
   ],
   "source": [
    "len(movie_reviews) "
   ]
  },
  {
   "cell_type": "code",
   "execution_count": 7,
   "id": "10c1866a-906b-4429-9ec2-098f028ed24a",
   "metadata": {},
   "outputs": [
    {
     "data": {
      "text/plain": [
       "' voice talent are enthusiastic though most are paired up with singers who don t sound a thing like them for their big musical moments jane seymour and celine dion but one must strain through too much '"
      ]
     },
     "execution_count": 7,
     "metadata": {},
     "output_type": "execute_result"
    }
   ],
   "source": [
    "movie_reviews[10000:10200]"
   ]
  },
  {
   "cell_type": "code",
   "execution_count": 8,
   "id": "c225a6c8-2a0b-4e5d-a986-d20f806bf5bb",
   "metadata": {},
   "outputs": [
    {
     "name": "stdout",
     "output_type": "stream",
     "text": [
      "CPU times: total: 3.14 s\n",
      "Wall time: 3.15 s\n"
     ]
    }
   ],
   "source": [
    "%%time\n",
    "rake.extract_keywords_from_text(movie_reviews)"
   ]
  },
  {
   "cell_type": "code",
   "execution_count": 10,
   "id": "96788014-1e72-4211-bd45-b614bac34d31",
   "metadata": {},
   "outputs": [
    {
     "name": "stdout",
     "output_type": "stream",
     "text": [
      "CPU times: total: 0 ns\n",
      "Wall time: 0 ns\n"
     ]
    },
    {
     "data": {
      "text/plain": [
       "[(4.0, 'ziggy stardust'),\n",
       " (4.0, 'zeus cannon'),\n",
       " (4.0, 'zena grey'),\n",
       " (4.0, 'zealously americanized'),\n",
       " (4.0, 'yugo skittering'),\n",
       " (4.0, 'yugo differentiating'),\n",
       " (4.0, 'yuen biao'),\n",
       " (4.0, 'yuckity yuck'),\n",
       " (4.0, 'yoram globus'),\n",
       " (4.0, 'yo yo'),\n",
       " (4.0, 'yeung seung'),\n",
       " (4.0, 'yellows reds'),\n",
       " (4.0, 'yellowish hues'),\n",
       " (4.0, 'yawner adele'),\n",
       " (4.0, 'xenia onatopp'),\n",
       " (4.0, 'xander berkeley'),\n",
       " (4.0, 'xander barcalow'),\n",
       " (4.0, 'wwii marching'),\n",
       " (4.0, 'woulda thunk'),\n",
       " (4.0, 'worldly instruction')]"
      ]
     },
     "execution_count": 10,
     "metadata": {},
     "output_type": "execute_result"
    }
   ],
   "source": [
    "%%time\n",
    "rake.get_ranked_phrases_with_scores()[0:20]"
   ]
  },
  {
   "cell_type": "code",
   "execution_count": null,
   "id": "59a273d8-489f-4f65-a70e-852e6ad3234c",
   "metadata": {},
   "outputs": [],
   "source": []
  }
 ],
 "metadata": {
  "kernelspec": {
   "display_name": "Python 3",
   "language": "python",
   "name": "python3"
  },
  "language_info": {
   "codemirror_mode": {
    "name": "ipython",
    "version": 3
   },
   "file_extension": ".py",
   "mimetype": "text/x-python",
   "name": "python",
   "nbconvert_exporter": "python",
   "pygments_lexer": "ipython3",
   "version": "3.8.8"
  }
 },
 "nbformat": 4,
 "nbformat_minor": 5
}

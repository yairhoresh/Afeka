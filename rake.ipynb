{
 "cells": [
  {
   "cell_type": "code",
   "execution_count": 54,
   "id": "873b50db-a372-4c13-898f-de6e977a39c0",
   "metadata": {},
   "outputs": [],
   "source": [
    "from rake_nltk import Rake\n",
    "from nltk.corpus import movie_reviews as mr\n",
    "from nltk.tokenize import word_tokenize\n",
    "import re"
   ]
  },
  {
   "cell_type": "code",
   "execution_count": 61,
   "id": "2e43e78b-75b7-4c67-8d4a-caf6a02734be",
   "metadata": {},
   "outputs": [],
   "source": [
    "rake = Rake(max_length=3, include_repeated_phrases=False, word_tokenizer=word_tokenize)"
   ]
  },
  {
   "cell_type": "code",
   "execution_count": 62,
   "id": "c9165bf4-6b9a-4216-9408-8ed601486173",
   "metadata": {},
   "outputs": [],
   "source": [
    "movie_reviews = ''\n",
    "for list_of_words in mr.sents():\n",
    "    sentence = ' '.join(list_of_words)\n",
    "    movie_reviews += sentence + ' '"
   ]
  },
  {
   "cell_type": "code",
   "execution_count": 63,
   "id": "76f9d7f2-276d-448d-96d9-c4b1bf85ec1f",
   "metadata": {},
   "outputs": [
    {
     "data": {
      "text/plain": [
       "7875778"
      ]
     },
     "execution_count": 63,
     "metadata": {},
     "output_type": "execute_result"
    }
   ],
   "source": [
    "len(movie_reviews) "
   ]
  },
  {
   "cell_type": "code",
   "execution_count": 64,
   "id": "321cac36-bc9f-4261-954e-e5a597581f46",
   "metadata": {},
   "outputs": [],
   "source": [
    "movie_reviews = re.sub('\\W+', ' ', movie_reviews)"
   ]
  },
  {
   "cell_type": "code",
   "execution_count": 65,
   "id": "78c0f3a7-4215-440d-9018-560f0e7cf54b",
   "metadata": {},
   "outputs": [
    {
     "data": {
      "text/plain": [
       "7313851"
      ]
     },
     "execution_count": 65,
     "metadata": {},
     "output_type": "execute_result"
    }
   ],
   "source": [
    "len(movie_reviews) "
   ]
  },
  {
   "cell_type": "code",
   "execution_count": 66,
   "id": "10c1866a-906b-4429-9ec2-098f028ed24a",
   "metadata": {},
   "outputs": [
    {
     "data": {
      "text/plain": [
       "' voice talent are enthusiastic though most are paired up with singers who don t sound a thing like them for their big musical moments jane seymour and celine dion but one must strain through too much '"
      ]
     },
     "execution_count": 66,
     "metadata": {},
     "output_type": "execute_result"
    }
   ],
   "source": [
    "movie_reviews[10000:10200]"
   ]
  },
  {
   "cell_type": "code",
   "execution_count": 67,
   "id": "c225a6c8-2a0b-4e5d-a986-d20f806bf5bb",
   "metadata": {},
   "outputs": [
    {
     "name": "stdout",
     "output_type": "stream",
     "text": [
      "CPU times: total: 3.59 s\n",
      "Wall time: 3.58 s\n"
     ]
    }
   ],
   "source": [
    "%%time\n",
    "rake.extract_keywords_from_text(movie_reviews)"
   ]
  },
  {
   "cell_type": "code",
   "execution_count": 70,
   "id": "96788014-1e72-4211-bd45-b614bac34d31",
   "metadata": {},
   "outputs": [
    {
     "name": "stdout",
     "output_type": "stream",
     "text": [
      "CPU times: total: 0 ns\n",
      "Wall time: 0 ns\n"
     ]
    },
    {
     "data": {
      "text/plain": [
       "[(9.0, 'yum yum harumph'),\n",
       " (9.0, 'yada yada yada'),\n",
       " (9.0, 'xin xin xiong'),\n",
       " (9.0, 'resubmit fourteen scaled'),\n",
       " (9.0, 'licious barkeeps thumbing'),\n",
       " (9.0, 'ius primae noctis'),\n",
       " (9.0, 'gondola trekked rivers'),\n",
       " (9.0, 'compardre dietrich hassler'),\n",
       " (9.0, 'boney arsed bogmen'),\n",
       " (9.0, 'blah blah blah'),\n",
       " (9.0, 'aline brosh mckenna'),\n",
       " (9.0, '_william_shakespeare s_romeo_ _juliet_'),\n",
       " (9.0, '_saved_by_the_bell_ alumnus gosselaar'),\n",
       " (8.875, 'hana juliette binoche'),\n",
       " (8.833333333333334, 'masseuse hi larious'),\n",
       " (8.833333333333334, 'ku klux klan'),\n",
       " (8.833333333333334, 'callum keith rennie'),\n",
       " (8.830188679245282, 'vinicius de oliveira'),\n",
       " (8.830188679245282, 'sylvie de segonzac'),\n",
       " (8.830188679245282, 'joie de vivre'),\n",
       " (8.830188679245282, 'cirque de soleil'),\n",
       " (8.8, 'www mediajunkies com'),\n",
       " (8.8, 'hannibal lechter natch'),\n",
       " (8.798076923076923, 'kung fu fightin'),\n",
       " (8.76388888888889, 'fenster del toro'),\n",
       " (8.76388888888889, 'del toro ingest'),\n",
       " (8.76388888888889, 'benicio del toro'),\n",
       " (8.76388888888889, 'benecio del toro'),\n",
       " (8.75, 'su hua chi'),\n",
       " (8.75, 'infectuous dermot mulroney'),\n",
       " (8.75, 'ho meng hua'),\n",
       " (8.75, 'frothy pina colada'),\n",
       " (8.733333333333334, 'rated mein fuhrer'),\n",
       " (8.727272727272727, 'bull heaed goon'),\n",
       " (8.689655172413794, '4 jalla jalla'),\n",
       " (8.6875, 'cinematographer remi adefarasin'),\n",
       " (8.6875, 'cinematographer darius khondji'),\n",
       " (8.682539682539682, 'squeezed every morsel'),\n",
       " (8.672413793103448, 'van der beek'),\n",
       " (8.666666666666666, 'tiffani amber thiessen'),\n",
       " (8.666666666666666, 'tarp thereby dethroning'),\n",
       " (8.666666666666666, 'maniacs wielding chainsaws'),\n",
       " (8.666666666666666, 'mailman sinbad stampeding'),\n",
       " (8.666666666666666, 'ling gedde watanabe'),\n",
       " (8.666666666666666, 'inforced stanley ipkiss'),\n",
       " (8.666666666666666, 'iambic pentameter stoppard'),\n",
       " (8.666666666666666, 'hardy har har'),\n",
       " (8.666666666666666, 'erich wolfgang korngold'),\n",
       " (8.666666666666666, 'dominique anh duong'),\n",
       " (8.666666666666666, 'dokken stephan jenkins'),\n",
       " (8.666666666666666, 'deux ex machina'),\n",
       " (8.666666666666666, 'deus ex machina'),\n",
       " (8.666666666666666, 'detestable henslowe wilkinson'),\n",
       " (8.666666666666666, 'connie talia shire'),\n",
       " (8.666666666666666, 'concubines bai ling'),\n",
       " (8.666666666666666, 'calcium deficiency blech'),\n",
       " (8.665217391304347, 'retroactive 81 minutes'),\n",
       " (8.642857142857142, '_the scarlet letter_'),\n",
       " (8.642857142857142, '_halloween_ _the thing_'),\n",
       " (8.635135135135135, 'roscoe lee browne'),\n",
       " (8.633333333333333, 'polo ralph lauren'),\n",
       " (8.630188679245283, 'les vacances de'),\n",
       " (8.623762376237623, 'two fleas tuck'),\n",
       " (8.617647058823529, 'starring nanni moretti'),\n",
       " (8.615942028985508, 'young dialectic materialist'),\n",
       " (8.612903225806452, 'sluggishly paced _holy_man_'),\n",
       " (8.61111111111111, 'lotsa nuttiness ensues'),\n",
       " (8.61111111111111, 'darth maul facepaint'),\n",
       " (8.61111111111111, 'catherine maccormack murron'),\n",
       " (8.608695652173914, 'thomas edison electrocuting'),\n",
       " (8.607142857142858, 'finely modulated menace'),\n",
       " (8.607142857142858, 'director manny coto'),\n",
       " (8.607142857142858, 'director kari skogland'),\n",
       " (8.607142857142858, 'director brett ratner'),\n",
       " (8.607142857142858, 'caricaturist al hirschfeld'),\n",
       " (8.60683102208526, 'science fiction spectaculars'),\n",
       " (8.60683102208526, 'science fiction equivolence'),\n",
       " (8.603305785123966, 'john le carr'),\n",
       " (8.603305785123966, 'jip john simm'),\n",
       " (8.6, 'sphinx wes studi'),\n",
       " (8.6, 'hanover wes studi'),\n",
       " (8.6, 'gooey detestable sludge'),\n",
       " (8.6, 'downed vc sniper'),\n",
       " (8.593827160493827, 'sci fi horror'),\n",
       " (8.593280282935456, 'vulture like skeksis'),\n",
       " (8.593280282935456, 'like glenne headley'),\n",
       " (8.593280282935456, 'indistinct like applicants'),\n",
       " (8.591666666666667, 'martial arts tournament'),\n",
       " (8.59090909090909, 'chris rimmer barrie'),\n",
       " (8.588333333333333, 'sci fi action'),\n",
       " (8.588235294117647, 'senor wences huh'),\n",
       " (8.587859424920127, 'fuddy duddy old'),\n",
       " (8.586206896551724, 'smartly deposits buddy'),\n",
       " (8.583843329253366, 'good natured pleasent'),\n",
       " (8.583333333333334, 'swirling red gases'),\n",
       " (8.580188679245282, 'de sade scribes'),\n",
       " (8.575757575757576, 'hissing snake plissken'),\n",
       " (8.571428571428571, 'paola laura morante'),\n",
       " (8.571137548891786, 'pulp fiction esque'),\n",
       " (8.565022421524663, 'bad feng shui')]"
      ]
     },
     "execution_count": 70,
     "metadata": {},
     "output_type": "execute_result"
    }
   ],
   "source": [
    "%%time\n",
    "rake.get_ranked_phrases_with_scores()[0:100]"
   ]
  },
  {
   "cell_type": "code",
   "execution_count": null,
   "id": "456a6ef0-5b88-4c4d-bbe8-d384d3943826",
   "metadata": {},
   "outputs": [],
   "source": []
  }
 ],
 "metadata": {
  "kernelspec": {
   "display_name": "Python 3",
   "language": "python",
   "name": "python3"
  },
  "language_info": {
   "codemirror_mode": {
    "name": "ipython",
    "version": 3
   },
   "file_extension": ".py",
   "mimetype": "text/x-python",
   "name": "python",
   "nbconvert_exporter": "python",
   "pygments_lexer": "ipython3",
   "version": "3.8.8"
  }
 },
 "nbformat": 4,
 "nbformat_minor": 5
}

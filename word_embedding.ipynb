{
 "cells": [
  {
   "cell_type": "code",
   "execution_count": 48,
   "id": "dfb83b53-9a8f-4572-ad6c-d2470caf3725",
   "metadata": {},
   "outputs": [],
   "source": [
    "#from gensim.models import Word2Vec \n",
    "import numpy as np\n",
    "import gensim.downloader as api\n",
    "from sklearn.metrics.pairwise import cosine_similarity\n",
    "import matplotlib.pyplot as plt\n",
    "from sklearn.manifold import TSNE\n",
    "import seaborn as sb\n",
    "# https://code.google.com/archive/p/word2vec/"
   ]
  },
  {
   "cell_type": "markdown",
   "id": "7b4b3daf-a62c-4283-9cac-d82949ee299f",
   "metadata": {},
   "source": [
    "### Word2Vev (~1.8GB)"
   ]
  },
  {
   "cell_type": "code",
   "execution_count": 6,
   "id": "66a6ba35-2f28-42da-b994-0f92f45b4209",
   "metadata": {},
   "outputs": [],
   "source": [
    "# %%time\n",
    "#v2w_model = api.load('word2vec-google-news-300')\n",
    "#sample_word2vec_embedding=v2w_model['computer']"
   ]
  },
  {
   "cell_type": "code",
   "execution_count": 7,
   "id": "0be40bb3-574c-47e1-a4e6-f7f4ee182543",
   "metadata": {},
   "outputs": [],
   "source": [
    "### glove (~100MB)"
   ]
  },
  {
   "cell_type": "code",
   "execution_count": 110,
   "id": "965ccdfb-3577-4a79-ba75-78c9022cdd80",
   "metadata": {},
   "outputs": [
    {
     "name": "stdout",
     "output_type": "stream",
     "text": [
      "CPU times: total: 21.9 s\n",
      "Wall time: 22.5 s\n"
     ]
    }
   ],
   "source": [
    "%%time\n",
    "glove_model = api.load('glove-twitter-25')\n"
   ]
  },
  {
   "cell_type": "code",
   "execution_count": 111,
   "id": "8454d6df-ccea-4a4e-b431-adb85559771e",
   "metadata": {},
   "outputs": [
    {
     "data": {
      "text/plain": [
       "array([-1.1266  , -0.52064 ,  0.45565 ,  0.21079 , -0.05081 , -0.65158 ,\n",
       "        1.1395  ,  0.69897 , -0.20612 , -0.71803 , -0.02811 ,  0.10977 ,\n",
       "       -3.3089  , -0.49299 , -0.51375 ,  0.10363 , -0.11764 , -0.084972,\n",
       "        0.02558 ,  0.6859  , -0.29196 ,  0.4594  , -0.39955 , -0.40371 ,\n",
       "        0.31828 ], dtype=float32)"
      ]
     },
     "execution_count": 111,
     "metadata": {},
     "output_type": "execute_result"
    }
   ],
   "source": [
    "glove_model['queen']"
   ]
  },
  {
   "cell_type": "code",
   "execution_count": 112,
   "id": "f3d36030-e096-4028-b916-48f97e073d71",
   "metadata": {},
   "outputs": [
    {
     "data": {
      "text/plain": [
       "array([-0.74501 , -0.11992 ,  0.37329 ,  0.36847 , -0.4472  , -0.2288  ,\n",
       "        0.70118 ,  0.82872 ,  0.39486 , -0.58347 ,  0.41488 ,  0.37074 ,\n",
       "       -3.6906  , -0.20101 ,  0.11472 , -0.34661 ,  0.36208 ,  0.095679,\n",
       "       -0.01765 ,  0.68498 , -0.049013,  0.54049 , -0.21005 , -0.65397 ,\n",
       "        0.64556 ], dtype=float32)"
      ]
     },
     "execution_count": 112,
     "metadata": {},
     "output_type": "execute_result"
    }
   ],
   "source": [
    "glove_model['king']"
   ]
  },
  {
   "cell_type": "code",
   "execution_count": 113,
   "id": "b1d0e7ac-a7a1-42f1-a7ab-1fece151fc2b",
   "metadata": {},
   "outputs": [
    {
     "data": {
      "text/plain": [
       "array([[0.88694316]], dtype=float32)"
      ]
     },
     "execution_count": 113,
     "metadata": {},
     "output_type": "execute_result"
    }
   ],
   "source": [
    "cosine_similarity(X=[glove_model['paris']], Y=[glove_model['france']])"
   ]
  },
  {
   "cell_type": "code",
   "execution_count": 88,
   "id": "c3410a0a-0598-4d9a-a0c4-9ca2460a0c25",
   "metadata": {},
   "outputs": [],
   "source": [
    "cities_and_states = np.array([glove_model['london'], glove_model['berlin'], glove_model['athens'], glove_model['dublin'], glove_model['vienna'],\n",
    "                              glove_model['uk'], glove_model['germany'], glove_model['greece'], glove_model['ireland'], glove_model['austria']])"
   ]
  },
  {
   "cell_type": "code",
   "execution_count": 89,
   "id": "2e3160f8-bf08-4520-86db-e0f160946624",
   "metadata": {},
   "outputs": [
    {
     "data": {
      "text/plain": [
       "array([[-1.0719e+00, -1.7373e-01,  2.5545e-01, -1.5967e+00, -6.6160e-01,\n",
       "        -7.0777e-02,  7.8288e-01, -6.3708e-02,  5.3580e-01, -3.5518e-03,\n",
       "         1.6287e-01,  4.5497e-02, -3.8279e+00,  6.5761e-01,  7.5505e-01,\n",
       "        -4.8099e-01,  1.1825e-01, -4.5508e-01, -6.5654e-01,  3.7498e-02,\n",
       "        -9.6969e-01, -9.8772e-01, -7.4493e-01, -1.1787e+00,  3.1325e-01],\n",
       "       [-5.3995e-01, -3.8995e-01, -2.2972e-01, -1.6908e+00, -4.9780e-01,\n",
       "         1.2630e-01, -6.3728e-01, -3.6293e-01,  6.0700e-01, -5.3977e-01,\n",
       "         4.1631e-01,  6.8241e-01, -2.1903e+00, -2.6983e-01,  5.6122e-01,\n",
       "        -9.1140e-01,  1.3166e-01,  8.5549e-01, -1.2319e+00, -4.2256e-01,\n",
       "        -3.1423e-01, -7.4786e-01, -4.9782e-01, -8.0472e-01,  1.4722e+00],\n",
       "       [-4.5828e-01,  2.7490e-01,  4.5753e-01, -1.2788e+00, -1.5212e+00,\n",
       "        -3.6405e-01,  1.1937e-01, -1.5311e+00,  4.1623e-01,  2.6696e-01,\n",
       "        -6.7764e-01,  8.6867e-03, -1.7756e+00,  7.3273e-01,  7.1552e-01,\n",
       "        -1.0939e+00,  4.5773e-02, -3.5376e-02,  7.6804e-03,  3.6209e-01,\n",
       "        -5.1052e-01, -5.6984e-01, -4.5029e-01, -1.2627e+00,  9.4117e-01],\n",
       "       [-1.0064e+00,  3.5047e-01,  5.5927e-01, -1.3434e+00, -1.1919e+00,\n",
       "        -6.6259e-01,  2.6615e-01, -8.6339e-01,  2.7312e-02, -5.7993e-01,\n",
       "        -2.2869e-01, -4.3750e-01, -2.5826e+00,  5.4075e-01,  1.2851e+00,\n",
       "        -4.4760e-01,  1.8202e-01, -3.3976e-01, -4.6582e-01,  9.4890e-02,\n",
       "        -5.6563e-01, -9.4783e-01, -5.8429e-01, -1.0613e+00,  6.5991e-01],\n",
       "       [-1.1639e+00,  6.1151e-02, -8.8130e-02, -9.5847e-01, -1.5343e+00,\n",
       "        -7.8158e-01,  2.1854e-01, -1.1880e+00,  4.5810e-01, -5.7476e-01,\n",
       "        -1.1863e-01, -1.4978e-01, -1.5215e+00,  7.1939e-02,  6.3848e-01,\n",
       "        -6.2383e-01,  9.6262e-02,  6.2484e-02, -2.1185e-01,  7.7893e-01,\n",
       "        -5.2649e-01, -3.5538e-01, -4.2860e-01, -1.0592e+00,  1.1570e+00],\n",
       "       [ 3.0801e-01,  3.8155e-01, -4.8408e-01, -1.4282e+00, -1.0769e-01,\n",
       "        -9.4200e-01,  7.2024e-01, -2.1330e-01,  3.2053e-01,  5.3088e-02,\n",
       "         4.9520e-01, -4.5776e-01, -3.8284e+00,  4.5178e-01,  3.6028e-01,\n",
       "        -6.3625e-01, -5.2687e-02, -2.5717e-01,  1.0394e-01, -4.2480e-02,\n",
       "        -7.4934e-01, -1.0582e+00, -6.2943e-01, -1.2099e+00, -7.2888e-02],\n",
       "       [-1.3084e-01, -1.7980e-01, -6.1975e-01, -1.7755e+00, -1.6245e+00,\n",
       "        -4.6180e-01,  2.8287e-01, -5.6378e-01, -1.2063e-01,  7.2802e-03,\n",
       "         4.3566e-01,  4.4245e-01, -2.9764e+00,  2.8281e-01,  8.0673e-01,\n",
       "        -9.3259e-01, -3.7952e-01, -1.3741e-01, -3.5887e-01, -3.3529e-01,\n",
       "        -9.3130e-01, -1.9839e-01, -6.5572e-01, -8.7624e-01,  1.9448e-01],\n",
       "       [-4.4864e-03, -3.1932e-01, -4.5872e-01, -7.9946e-01, -2.0484e+00,\n",
       "        -9.3969e-01,  5.9254e-01, -1.3455e+00, -6.1696e-01, -1.0791e-02,\n",
       "         5.9645e-01, -5.2477e-01, -2.2858e+00,  6.3520e-01,  1.5311e-01,\n",
       "        -1.3295e+00, -7.6446e-01, -7.6553e-02,  1.5736e-01,  9.7402e-02,\n",
       "        -7.5836e-01, -9.2189e-02, -6.9845e-01, -9.1612e-01,  1.7173e-01],\n",
       "       [-3.3068e-01,  7.9781e-02, -4.5400e-01, -1.4287e+00, -1.7449e+00,\n",
       "        -9.2547e-01,  5.2208e-01, -1.0813e+00, -5.9335e-01, -1.1747e-01,\n",
       "         5.3921e-02,  2.2881e-02, -3.1564e+00,  6.8040e-01,  9.3711e-01,\n",
       "        -8.1703e-01, -1.1591e-01, -5.4700e-01, -2.2521e-01,  1.6721e-01,\n",
       "        -5.9061e-01, -2.0482e-01, -7.3285e-01, -1.2119e+00,  1.7147e-01],\n",
       "       [-8.7072e-01, -3.6827e-01, -4.6886e-01, -1.7112e+00, -1.8631e+00,\n",
       "        -3.5483e-01, -4.2374e-01, -5.6252e-01,  3.0247e-02, -4.8367e-01,\n",
       "         2.9712e-01, -5.5074e-01, -1.7784e+00,  6.1421e-03,  6.8894e-01,\n",
       "        -6.4048e-01, -2.0839e-01,  1.3226e-01,  2.4668e-01,  4.3008e-01,\n",
       "        -4.8523e-01, -7.0726e-01, -5.2162e-01, -9.1086e-01,  7.5671e-01]],\n",
       "      dtype=float32)"
      ]
     },
     "execution_count": 89,
     "metadata": {},
     "output_type": "execute_result"
    }
   ],
   "source": [
    "cities_and_states"
   ]
  },
  {
   "cell_type": "markdown",
   "id": "b1292e37-74c8-400d-bbb9-65ef07abb800",
   "metadata": {},
   "source": [
    "# move to even lower dimensionality"
   ]
  },
  {
   "cell_type": "code",
   "execution_count": 107,
   "id": "3be87d7c-5997-41ad-9cae-99a0b3593107",
   "metadata": {},
   "outputs": [
    {
     "name": "stderr",
     "output_type": "stream",
     "text": [
      "C:\\Users\\yhoresh\\Anaconda3\\lib\\site-packages\\sklearn\\manifold\\_t_sne.py:780: FutureWarning: The default initialization in TSNE will change from 'random' to 'pca' in 1.2.\n",
      "  warnings.warn(\n",
      "C:\\Users\\yhoresh\\Anaconda3\\lib\\site-packages\\sklearn\\manifold\\_t_sne.py:790: FutureWarning: The default learning rate in TSNE will change from 200.0 to 'auto' in 1.2.\n",
      "  warnings.warn(\n"
     ]
    }
   ],
   "source": [
    "tsne = TSNE(n_components=2, perplexity=2, random_state=42)\n",
    "X_embedded = tsne.fit_transform(cities_and_states)\n"
   ]
  },
  {
   "cell_type": "code",
   "execution_count": 108,
   "id": "e7eb6ff1-8278-418f-bec3-78f847138909",
   "metadata": {},
   "outputs": [
    {
     "data": {
      "text/plain": [
       "array([[  72.25815 ,  -34.69466 ],\n",
       "       [ -33.406967,  194.68578 ],\n",
       "       [ 119.10725 ,  120.833626],\n",
       "       [  86.05498 ,   51.097267],\n",
       "       [  71.09448 ,  130.88123 ],\n",
       "       [  50.752457,  -82.72485 ],\n",
       "       [-168.13249 ,   40.481236],\n",
       "       [-260.66193 ,    6.903102],\n",
       "       [-204.48842 ,   19.811514],\n",
       "       [  27.259819,  161.92932 ]], dtype=float32)"
      ]
     },
     "execution_count": 108,
     "metadata": {},
     "output_type": "execute_result"
    }
   ],
   "source": [
    "X_embedded"
   ]
  },
  {
   "cell_type": "code",
   "execution_count": 109,
   "id": "80da0ac1-6d97-40f6-8dcc-be3f63dc2d0f",
   "metadata": {},
   "outputs": [
    {
     "data": {
      "image/png": "[encoded data removed]",
      "text/plain": [
       "<Figure size 640x480 with 1 Axes>"
      ]
     },
     "metadata": {},
     "output_type": "display_data"
    }
   ],
   "source": [
    "sb.scatterplot(x=X_embedded[:,0], y=X_embedded[:,1], hue = [0, 0, 0, 0, 0, 1, 1, 1, 1 ,1])\n",
    "plt.show()"
   ]
  },
  {
   "cell_type": "code",
   "execution_count": null,
   "id": "c03cea91-1130-4b2c-b640-01a9357577c2",
   "metadata": {},
   "outputs": [],
   "source": []
  }
 ],
 "metadata": {
  "kernelspec": {
   "display_name": "Python 3",
   "language": "python",
   "name": "python3"
  },
  "language_info": {
   "codemirror_mode": {
    "name": "ipython",
    "version": 3
   },
   "file_extension": ".py",
   "mimetype": "text/x-python",
   "name": "python",
   "nbconvert_exporter": "python",
   "pygments_lexer": "ipython3",
   "version": "3.8.8"
  }
 },
 "nbformat": 4,
 "nbformat_minor": 5
}

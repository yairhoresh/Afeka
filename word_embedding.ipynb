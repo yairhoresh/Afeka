{
 "cells": [
  {
   "cell_type": "code",
   "execution_count": 1,
   "id": "dfb83b53-9a8f-4572-ad6c-d2470caf3725",
   "metadata": {},
   "outputs": [],
   "source": [
    "#from gensim.models import Word2Vec \n",
    "import numpy as np\n",
    "import gensim.downloader as api\n",
    "from sklearn.metrics.pairwise import cosine_similarity\n",
    "import matplotlib.pyplot as plt\n",
    "from sklearn.manifold import TSNE\n",
    "import seaborn as sb\n",
    "# https://code.google.com/archive/p/word2vec/\n",
    "# https://nlp.stanford.edu/projects/glove/"
   ]
  },
  {
   "cell_type": "markdown",
   "id": "7b4b3daf-a62c-4283-9cac-d82949ee299f",
   "metadata": {},
   "source": [
    "### Word2Vec (~1.8GB)"
   ]
  },
  {
   "cell_type": "code",
   "execution_count": 2,
   "id": "66a6ba35-2f28-42da-b994-0f92f45b4209",
   "metadata": {},
   "outputs": [],
   "source": [
    "# %%time\n",
    "#v2w_model = api.load('word2vec-google-news-300')\n",
    "#sample_word2vec_embedding=v2w_model['computer']"
   ]
  },
  {
   "cell_type": "markdown",
   "id": "76d28369-41c0-49e0-ac9a-9a23af6be54b",
   "metadata": {},
   "source": [
    "### GloVe (~100MB)"
   ]
  },
  {
   "cell_type": "code",
   "execution_count": 3,
   "id": "965ccdfb-3577-4a79-ba75-78c9022cdd80",
   "metadata": {},
   "outputs": [
    {
     "name": "stdout",
     "output_type": "stream",
     "text": [
      "CPU times: total: 21.8 s\n",
      "Wall time: 22.3 s\n"
     ]
    }
   ],
   "source": [
    "%%time\n",
    "glove_model = api.load('glove-twitter-25')\n"
   ]
  },
  {
   "cell_type": "code",
   "execution_count": 4,
   "id": "8454d6df-ccea-4a4e-b431-adb85559771e",
   "metadata": {},
   "outputs": [
    {
     "data": {
      "text/plain": [
       "array([-1.1266  , -0.52064 ,  0.45565 ,  0.21079 , -0.05081 , -0.65158 ,\n",
       "        1.1395  ,  0.69897 , -0.20612 , -0.71803 , -0.02811 ,  0.10977 ,\n",
       "       -3.3089  , -0.49299 , -0.51375 ,  0.10363 , -0.11764 , -0.084972,\n",
       "        0.02558 ,  0.6859  , -0.29196 ,  0.4594  , -0.39955 , -0.40371 ,\n",
       "        0.31828 ], dtype=float32)"
      ]
     },
     "execution_count": 4,
     "metadata": {},
     "output_type": "execute_result"
    }
   ],
   "source": [
    "glove_model['queen']"
   ]
  },
  {
   "cell_type": "code",
   "execution_count": 5,
   "id": "f3d36030-e096-4028-b916-48f97e073d71",
   "metadata": {},
   "outputs": [
    {
     "data": {
      "text/plain": [
       "array([-0.74501 , -0.11992 ,  0.37329 ,  0.36847 , -0.4472  , -0.2288  ,\n",
       "        0.70118 ,  0.82872 ,  0.39486 , -0.58347 ,  0.41488 ,  0.37074 ,\n",
       "       -3.6906  , -0.20101 ,  0.11472 , -0.34661 ,  0.36208 ,  0.095679,\n",
       "       -0.01765 ,  0.68498 , -0.049013,  0.54049 , -0.21005 , -0.65397 ,\n",
       "        0.64556 ], dtype=float32)"
      ]
     },
     "execution_count": 5,
     "metadata": {},
     "output_type": "execute_result"
    }
   ],
   "source": [
    "glove_model['king']"
   ]
  },
  {
   "cell_type": "code",
   "execution_count": 6,
   "id": "11fc5575-975d-4372-92f6-25d47749e3eb",
   "metadata": {},
   "outputs": [
    {
     "data": {
      "text/plain": [
       "array([-0.8316  , -0.23126 ,  0.67288 , -0.091046, -0.82664 , -0.25896 ,\n",
       "        0.62157 , -1.0511  ,  1.2945  , -0.22905 ,  0.078044,  0.48409 ,\n",
       "       -1.4054  ,  0.31454 , -0.39953 ,  1.3841  ,  0.99626 ,  0.57326 ,\n",
       "        1.075   ,  0.2621  , -0.19889 , -0.22024 ,  0.62625 , -1.3682  ,\n",
       "        0.33384 ], dtype=float32)"
      ]
     },
     "execution_count": 6,
     "metadata": {},
     "output_type": "execute_result"
    }
   ],
   "source": [
    "glove_model['spaceship']"
   ]
  },
  {
   "cell_type": "code",
   "execution_count": 7,
   "id": "b1d0e7ac-a7a1-42f1-a7ab-1fece151fc2b",
   "metadata": {},
   "outputs": [
    {
     "data": {
      "text/plain": [
       "array([[0.92024213]], dtype=float32)"
      ]
     },
     "execution_count": 7,
     "metadata": {},
     "output_type": "execute_result"
    }
   ],
   "source": [
    "cosine_similarity(X=[glove_model['queen']], Y=[glove_model['king']])"
   ]
  },
  {
   "cell_type": "code",
   "execution_count": 8,
   "id": "b20e4ca7-c874-46ad-810f-a88be3f43c5a",
   "metadata": {},
   "outputs": [
    {
     "data": {
      "text/plain": [
       "array([[0.42425072]], dtype=float32)"
      ]
     },
     "execution_count": 8,
     "metadata": {},
     "output_type": "execute_result"
    }
   ],
   "source": [
    "cosine_similarity(X=[glove_model['queen']], Y=[glove_model['spaceship']])"
   ]
  },
  {
   "cell_type": "code",
   "execution_count": 9,
   "id": "c3410a0a-0598-4d9a-a0c4-9ca2460a0c25",
   "metadata": {},
   "outputs": [],
   "source": [
    "cities_and_states = np.array([glove_model['london'], glove_model['berlin'], glove_model['athens'], glove_model['dublin'], glove_model['vienna'],\n",
    "                              glove_model['england'], glove_model['germany'], glove_model['greece'], glove_model['ireland'], glove_model['austria']])"
   ]
  },
  {
   "cell_type": "code",
   "execution_count": 10,
   "id": "2e3160f8-bf08-4520-86db-e0f160946624",
   "metadata": {},
   "outputs": [
    {
     "data": {
      "text/plain": [
       "array([[-1.0719e+00, -1.7373e-01,  2.5545e-01, -1.5967e+00, -6.6160e-01,\n",
       "        -7.0777e-02,  7.8288e-01, -6.3708e-02,  5.3580e-01, -3.5518e-03,\n",
       "         1.6287e-01,  4.5497e-02, -3.8279e+00,  6.5761e-01,  7.5505e-01,\n",
       "        -4.8099e-01,  1.1825e-01, -4.5508e-01, -6.5654e-01,  3.7498e-02,\n",
       "        -9.6969e-01, -9.8772e-01, -7.4493e-01, -1.1787e+00,  3.1325e-01],\n",
       "       [-5.3995e-01, -3.8995e-01, -2.2972e-01, -1.6908e+00, -4.9780e-01,\n",
       "         1.2630e-01, -6.3728e-01, -3.6293e-01,  6.0700e-01, -5.3977e-01,\n",
       "         4.1631e-01,  6.8241e-01, -2.1903e+00, -2.6983e-01,  5.6122e-01,\n",
       "        -9.1140e-01,  1.3166e-01,  8.5549e-01, -1.2319e+00, -4.2256e-01,\n",
       "        -3.1423e-01, -7.4786e-01, -4.9782e-01, -8.0472e-01,  1.4722e+00],\n",
       "       [-4.5828e-01,  2.7490e-01,  4.5753e-01, -1.2788e+00, -1.5212e+00,\n",
       "        -3.6405e-01,  1.1937e-01, -1.5311e+00,  4.1623e-01,  2.6696e-01,\n",
       "        -6.7764e-01,  8.6867e-03, -1.7756e+00,  7.3273e-01,  7.1552e-01,\n",
       "        -1.0939e+00,  4.5773e-02, -3.5376e-02,  7.6804e-03,  3.6209e-01,\n",
       "        -5.1052e-01, -5.6984e-01, -4.5029e-01, -1.2627e+00,  9.4117e-01],\n",
       "       [-1.0064e+00,  3.5047e-01,  5.5927e-01, -1.3434e+00, -1.1919e+00,\n",
       "        -6.6259e-01,  2.6615e-01, -8.6339e-01,  2.7312e-02, -5.7993e-01,\n",
       "        -2.2869e-01, -4.3750e-01, -2.5826e+00,  5.4075e-01,  1.2851e+00,\n",
       "        -4.4760e-01,  1.8202e-01, -3.3976e-01, -4.6582e-01,  9.4890e-02,\n",
       "        -5.6563e-01, -9.4783e-01, -5.8429e-01, -1.0613e+00,  6.5991e-01],\n",
       "       [-1.1639e+00,  6.1151e-02, -8.8130e-02, -9.5847e-01, -1.5343e+00,\n",
       "        -7.8158e-01,  2.1854e-01, -1.1880e+00,  4.5810e-01, -5.7476e-01,\n",
       "        -1.1863e-01, -1.4978e-01, -1.5215e+00,  7.1939e-02,  6.3848e-01,\n",
       "        -6.2383e-01,  9.6262e-02,  6.2484e-02, -2.1185e-01,  7.7893e-01,\n",
       "        -5.2649e-01, -3.5538e-01, -4.2860e-01, -1.0592e+00,  1.1570e+00],\n",
       "       [-2.1724e-01, -1.8834e-01, -6.0656e-01, -1.6959e+00, -1.5527e+00,\n",
       "        -1.2405e-01,  3.6495e-01, -3.5403e-01, -1.3334e-01, -2.5547e-01,\n",
       "         4.3684e-01,  3.8278e-01, -3.7163e+00,  9.5785e-01,  1.2071e+00,\n",
       "        -8.6441e-01,  6.4928e-02, -7.2016e-01, -2.5235e-01, -1.7421e-01,\n",
       "        -1.1238e+00,  8.3403e-01, -5.7638e-01, -9.6520e-01, -5.0789e-01],\n",
       "       [-1.3084e-01, -1.7980e-01, -6.1975e-01, -1.7755e+00, -1.6245e+00,\n",
       "        -4.6180e-01,  2.8287e-01, -5.6378e-01, -1.2063e-01,  7.2802e-03,\n",
       "         4.3566e-01,  4.4245e-01, -2.9764e+00,  2.8281e-01,  8.0673e-01,\n",
       "        -9.3259e-01, -3.7952e-01, -1.3741e-01, -3.5887e-01, -3.3529e-01,\n",
       "        -9.3130e-01, -1.9839e-01, -6.5572e-01, -8.7624e-01,  1.9448e-01],\n",
       "       [-4.4864e-03, -3.1932e-01, -4.5872e-01, -7.9946e-01, -2.0484e+00,\n",
       "        -9.3969e-01,  5.9254e-01, -1.3455e+00, -6.1696e-01, -1.0791e-02,\n",
       "         5.9645e-01, -5.2477e-01, -2.2858e+00,  6.3520e-01,  1.5311e-01,\n",
       "        -1.3295e+00, -7.6446e-01, -7.6553e-02,  1.5736e-01,  9.7402e-02,\n",
       "        -7.5836e-01, -9.2189e-02, -6.9845e-01, -9.1612e-01,  1.7173e-01],\n",
       "       [-3.3068e-01,  7.9781e-02, -4.5400e-01, -1.4287e+00, -1.7449e+00,\n",
       "        -9.2547e-01,  5.2208e-01, -1.0813e+00, -5.9335e-01, -1.1747e-01,\n",
       "         5.3921e-02,  2.2881e-02, -3.1564e+00,  6.8040e-01,  9.3711e-01,\n",
       "        -8.1703e-01, -1.1591e-01, -5.4700e-01, -2.2521e-01,  1.6721e-01,\n",
       "        -5.9061e-01, -2.0482e-01, -7.3285e-01, -1.2119e+00,  1.7147e-01],\n",
       "       [-8.7072e-01, -3.6827e-01, -4.6886e-01, -1.7112e+00, -1.8631e+00,\n",
       "        -3.5483e-01, -4.2374e-01, -5.6252e-01,  3.0247e-02, -4.8367e-01,\n",
       "         2.9712e-01, -5.5074e-01, -1.7784e+00,  6.1421e-03,  6.8894e-01,\n",
       "        -6.4048e-01, -2.0839e-01,  1.3226e-01,  2.4668e-01,  4.3008e-01,\n",
       "        -4.8523e-01, -7.0726e-01, -5.2162e-01, -9.1086e-01,  7.5671e-01]],\n",
       "      dtype=float32)"
      ]
     },
     "execution_count": 10,
     "metadata": {},
     "output_type": "execute_result"
    }
   ],
   "source": [
    "cities_and_states"
   ]
  },
  {
   "cell_type": "markdown",
   "id": "b1292e37-74c8-400d-bbb9-65ef07abb800",
   "metadata": {},
   "source": [
    "# Move to an even lower dimensionality"
   ]
  },
  {
   "cell_type": "code",
   "execution_count": 11,
   "id": "3be87d7c-5997-41ad-9cae-99a0b3593107",
   "metadata": {},
   "outputs": [
    {
     "name": "stderr",
     "output_type": "stream",
     "text": [
      "C:\\Users\\yhoresh\\Anaconda3\\lib\\site-packages\\sklearn\\manifold\\_t_sne.py:780: FutureWarning: The default initialization in TSNE will change from 'random' to 'pca' in 1.2.\n",
      "  warnings.warn(\n",
      "C:\\Users\\yhoresh\\Anaconda3\\lib\\site-packages\\sklearn\\manifold\\_t_sne.py:790: FutureWarning: The default learning rate in TSNE will change from 200.0 to 'auto' in 1.2.\n",
      "  warnings.warn(\n"
     ]
    }
   ],
   "source": [
    "tsne = TSNE(n_components=2, perplexity=2, random_state=42)\n",
    "X_embedded = tsne.fit_transform(cities_and_states)\n"
   ]
  },
  {
   "cell_type": "code",
   "execution_count": 12,
   "id": "e7eb6ff1-8278-418f-bec3-78f847138909",
   "metadata": {},
   "outputs": [
    {
     "data": {
      "text/plain": [
       "array([[ 26.092596 , -27.034374 ],\n",
       "       [-87.88941  ,  -9.220333 ],\n",
       "       [-30.69853  , -68.234215 ],\n",
       "       [ -3.1931484, -42.487087 ],\n",
       "       [-42.5202   , -47.493446 ],\n",
       "       [ 43.869663 ,  95.19309  ],\n",
       "       [ 15.017041 ,  94.084564 ],\n",
       "       [-19.399817 , 130.49062  ],\n",
       "       [  2.1077178, 110.32315  ],\n",
       "       [-63.526985 , -31.999437 ]], dtype=float32)"
      ]
     },
     "execution_count": 12,
     "metadata": {},
     "output_type": "execute_result"
    }
   ],
   "source": [
    "X_embedded"
   ]
  },
  {
   "cell_type": "code",
   "execution_count": 13,
   "id": "80da0ac1-6d97-40f6-8dcc-be3f63dc2d0f",
   "metadata": {},
   "outputs": [
    {
     "data": {
      "image/png": "[encoded data removed]",
      "text/plain": [
       "<Figure size 640x480 with 1 Axes>"
      ]
     },
     "metadata": {},
     "output_type": "display_data"
    }
   ],
   "source": [
    "sb.scatterplot(x=X_embedded[:,0], y=X_embedded[:,1], hue = [0, 0, 0, 0, 0, 1, 1, 1, 1 ,1])\n",
    "plt.show()"
   ]
  },
  {
   "cell_type": "code",
   "execution_count": 14,
   "id": "c03cea91-1130-4b2c-b640-01a9357577c2",
   "metadata": {},
   "outputs": [
    {
     "data": {
      "text/plain": [
       "'glad'"
      ]
     },
     "execution_count": 14,
     "metadata": {},
     "output_type": "execute_result"
    }
   ],
   "source": [
    "glove_model.most_similar_to_given('happy', ['sad', 'glad', 'gloomy', 'delighted'])"
   ]
  },
  {
   "cell_type": "code",
   "execution_count": 15,
   "id": "5da7a5d0-cfd7-44dd-95f5-4f6c931a1961",
   "metadata": {},
   "outputs": [
    {
     "data": {
      "text/plain": [
       "[('yahoo', 0.9120891094207764),\n",
       " ('ibm', 0.8998064398765564),\n",
       " ('mobile', 0.8952714204788208),\n",
       " ('software', 0.8884522318840027),\n",
       " ('samsung', 0.8879263997077942),\n",
       " ('firefox', 0.8869080543518066),\n",
       " ('apple', 0.8858076333999634),\n",
       " ('nexus', 0.8854407072067261),\n",
       " ('google', 0.885413646697998),\n",
       " ('sony', 0.8819253444671631)]"
      ]
     },
     "execution_count": 15,
     "metadata": {},
     "output_type": "execute_result"
    }
   ],
   "source": [
    "glove_model.similar_by_word('microsoft')"
   ]
  },
  {
   "cell_type": "code",
   "execution_count": 29,
   "id": "c2406759-9aec-43c1-8172-a3793c631f5c",
   "metadata": {},
   "outputs": [
    {
     "data": {
      "text/plain": [
       "[('blue', 0.9461891055107117),\n",
       " ('orange', 0.9397535920143127),\n",
       " ('white', 0.9339037537574768),\n",
       " ('red', 0.9331719279289246),\n",
       " ('black', 0.9278547763824463),\n",
       " ('yellow', 0.9095075130462646),\n",
       " ('gold', 0.9032607674598694),\n",
       " ('purple', 0.9009455442428589),\n",
       " ('crystal', 0.8919300436973572),\n",
       " ('ice', 0.8898358941078186)]"
      ]
     },
     "execution_count": 29,
     "metadata": {},
     "output_type": "execute_result"
    }
   ],
   "source": [
    "glove_model.similar_by_word('green')"
   ]
  },
  {
   "cell_type": "code",
   "execution_count": null,
   "id": "b839fdd8-7397-4d24-81f7-8c13808bbf2b",
   "metadata": {},
   "outputs": [],
   "source": []
  }
 ],
 "metadata": {
  "kernelspec": {
   "display_name": "Python 3",
   "language": "python",
   "name": "python3"
  },
  "language_info": {
   "codemirror_mode": {
    "name": "ipython",
    "version": 3
   },
   "file_extension": ".py",
   "mimetype": "text/x-python",
   "name": "python",
   "nbconvert_exporter": "python",
   "pygments_lexer": "ipython3",
   "version": "3.8.8"
  }
 },
 "nbformat": 4,
 "nbformat_minor": 5
}

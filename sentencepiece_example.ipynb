{
 "cells": [
  {
   "cell_type": "code",
   "execution_count": 17,
   "id": "f9ff697d-40cd-4e64-ac67-39bce9d1656d",
   "metadata": {},
   "outputs": [],
   "source": [
    "import sentencepiece as spm"
   ]
  },
  {
   "cell_type": "code",
   "execution_count": 58,
   "id": "c493791f-e5ed-4ab2-a2ed-fde5adb2ed5c",
   "metadata": {},
   "outputs": [
    {
     "name": "stdout",
     "output_type": "stream",
     "text": [
      "['▁B', 'ir', 'd', 's', '▁of', '▁f', 'e', 'a', 'ther', '▁f', 'l', 'ock', '▁to', 'g', 'e', 'ther']\n"
     ]
    }
   ],
   "source": [
    "s = spm.SentencePieceProcessor(model_file='test_model_for_sentencepiece.model')\n",
    "print(s.encode('Birds of feather flock together', out_type=str, enable_sampling=False))"
   ]
  },
  {
   "cell_type": "code",
   "execution_count": 59,
   "id": "1bc44810-a723-47b8-b734-515a624597b3",
   "metadata": {},
   "outputs": [
    {
     "name": "stdout",
     "output_type": "stream",
     "text": [
      "['▁The', '▁quick', '▁b', 'r', 'ow', 'n', '▁f', 'o', 'x', '▁', 'j', 'um', 'p', 's', '▁over', '▁the', '▁', 'la', 'z', 'y', '▁do', 'g']\n"
     ]
    }
   ],
   "source": [
    "print(s.encode('The quick brown fox jumps over the lazy dog', out_type=str, enable_sampling=False))"
   ]
  },
  {
   "cell_type": "code",
   "execution_count": null,
   "id": "301179e6-2729-470b-af0c-e5421555e9b4",
   "metadata": {},
   "outputs": [],
   "source": []
  }
 ],
 "metadata": {
  "kernelspec": {
   "display_name": "Python 3",
   "language": "python",
   "name": "python3"
  },
  "language_info": {
   "codemirror_mode": {
    "name": "ipython",
    "version": 3
   },
   "file_extension": ".py",
   "mimetype": "text/x-python",
   "name": "python",
   "nbconvert_exporter": "python",
   "pygments_lexer": "ipython3",
   "version": "3.8.8"
  }
 },
 "nbformat": 4,
 "nbformat_minor": 5
}

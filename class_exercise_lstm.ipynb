{
 "cells": [
  {
   "cell_type": "code",
   "execution_count": 1,
   "id": "dfb83b53-9a8f-4572-ad6c-d2470caf3725",
   "metadata": {},
   "outputs": [],
   "source": [
    "#https://machinelearningmastery.com/sequence-classification-lstm-recurrent-neural-networks-python-keras/\n",
    "import pandas as pd\n",
    "from sklearn.model_selection import train_test_split\n",
    "import re\n",
    "import numpy as np\n",
    "import string\n",
    "from keras.models import Sequential\n",
    "from keras.layers import Dense\n",
    "from keras.layers import LSTM\n",
    "from keras.utils import plot_model\n",
    "from tensorflow.keras.layers import Embedding\n",
    "from keras_preprocessing.sequence import pad_sequences\n"
   ]
  },
  {
   "cell_type": "code",
   "execution_count": 2,
   "id": "b27feac5-c91e-4697-825a-2ce601a9f193",
   "metadata": {},
   "outputs": [
    {
     "data": {
      "text/html": [
       "<div>\n",
       "<style scoped>\n",
       "    .dataframe tbody tr th:only-of-type {\n",
       "        vertical-align: middle;\n",
       "    }\n",
       "\n",
       "    .dataframe tbody tr th {\n",
       "        vertical-align: top;\n",
       "    }\n",
       "\n",
       "    .dataframe thead th {\n",
       "        text-align: right;\n",
       "    }\n",
       "</style>\n",
       "<table border=\"1\" class=\"dataframe\">\n",
       "  <thead>\n",
       "    <tr style=\"text-align: right;\">\n",
       "      <th></th>\n",
       "      <th>txt</th>\n",
       "      <th>sentiment</th>\n",
       "    </tr>\n",
       "  </thead>\n",
       "  <tbody>\n",
       "    <tr>\n",
       "      <th>0</th>\n",
       "      <td>So there is no way for me to plug it in here i...</td>\n",
       "      <td>0</td>\n",
       "    </tr>\n",
       "    <tr>\n",
       "      <th>1</th>\n",
       "      <td>Good case, Excellent value.</td>\n",
       "      <td>1</td>\n",
       "    </tr>\n",
       "    <tr>\n",
       "      <th>2</th>\n",
       "      <td>Great for the jawbone.</td>\n",
       "      <td>1</td>\n",
       "    </tr>\n",
       "    <tr>\n",
       "      <th>3</th>\n",
       "      <td>Tied to charger for conversations lasting more...</td>\n",
       "      <td>0</td>\n",
       "    </tr>\n",
       "    <tr>\n",
       "      <th>4</th>\n",
       "      <td>The mic is great.</td>\n",
       "      <td>1</td>\n",
       "    </tr>\n",
       "    <tr>\n",
       "      <th>...</th>\n",
       "      <td>...</td>\n",
       "      <td>...</td>\n",
       "    </tr>\n",
       "    <tr>\n",
       "      <th>995</th>\n",
       "      <td>The screen does get smudged easily because it ...</td>\n",
       "      <td>0</td>\n",
       "    </tr>\n",
       "    <tr>\n",
       "      <th>996</th>\n",
       "      <td>What a piece of junk.. I lose more calls on th...</td>\n",
       "      <td>0</td>\n",
       "    </tr>\n",
       "    <tr>\n",
       "      <th>997</th>\n",
       "      <td>Item Does Not Match Picture.</td>\n",
       "      <td>0</td>\n",
       "    </tr>\n",
       "    <tr>\n",
       "      <th>998</th>\n",
       "      <td>The only thing that disappoint me is the infra...</td>\n",
       "      <td>0</td>\n",
       "    </tr>\n",
       "    <tr>\n",
       "      <th>999</th>\n",
       "      <td>You can not answer calls with the unit, never ...</td>\n",
       "      <td>0</td>\n",
       "    </tr>\n",
       "  </tbody>\n",
       "</table>\n",
       "<p>1000 rows × 2 columns</p>\n",
       "</div>"
      ],
      "text/plain": [
       "                                                   txt  sentiment\n",
       "0    So there is no way for me to plug it in here i...          0\n",
       "1                          Good case, Excellent value.          1\n",
       "2                               Great for the jawbone.          1\n",
       "3    Tied to charger for conversations lasting more...          0\n",
       "4                                    The mic is great.          1\n",
       "..                                                 ...        ...\n",
       "995  The screen does get smudged easily because it ...          0\n",
       "996  What a piece of junk.. I lose more calls on th...          0\n",
       "997                       Item Does Not Match Picture.          0\n",
       "998  The only thing that disappoint me is the infra...          0\n",
       "999  You can not answer calls with the unit, never ...          0\n",
       "\n",
       "[1000 rows x 2 columns]"
      ]
     },
     "execution_count": 2,
     "metadata": {},
     "output_type": "execute_result"
    }
   ],
   "source": [
    "df = pd.read_csv('amazon_cells_labelled.txt', header=None, delimiter='\\t', names=['txt', 'sentiment'])\n",
    "df"
   ]
  },
  {
   "cell_type": "code",
   "execution_count": 3,
   "id": "b085481a-90b0-49ab-8473-3050666a07eb",
   "metadata": {},
   "outputs": [
    {
     "name": "stdout",
     "output_type": "stream",
     "text": [
      "CPU times: total: 31.2 ms\n",
      "Wall time: 22.9 ms\n"
     ]
    },
    {
     "data": {
      "text/plain": [
       "array([[ 0,  0,  0, ..., 17, 15, 76],\n",
       "       [ 0,  0,  0, ..., 24, 17, 76],\n",
       "       [ 0,  0,  0, ..., 15, 28, 76],\n",
       "       ...,\n",
       "       [ 0,  0,  0, ..., 25, 31, 76],\n",
       "       [ 0,  0,  0, ..., 11, 35, 76],\n",
       "       [ 0,  0,  0, ..., 19, 24, 76]])"
      ]
     },
     "execution_count": 3,
     "metadata": {},
     "output_type": "execute_result"
    }
   ],
   "source": [
    "%%time\n",
    "MAX_TRX_LEN = 1000\n",
    "EMBEDDING_VECTOR_LEN = 8\n",
    "NUM_OF_LSTM_INTERNAL_UNITS = 20\n",
    "\n",
    "# get all characters\n",
    "[string.printable.find(letter)+1 for letter in string.printable]\n",
    "    \n",
    "df['raw_with_ids'] = df['txt'].apply(lambda x : [string.printable.find(letter)+1 for letter in x])\n",
    "\n",
    "# train / test split\n",
    "X_train, X_test, y_train, y_test = train_test_split(df['raw_with_ids'], df['sentiment'], test_size=0.2, random_state=42)\n",
    "X_train = pad_sequences(X_train, maxlen=MAX_TRX_LEN)\n",
    "X_test = pad_sequences(X_test, maxlen=MAX_TRX_LEN)\n",
    "X_train\n",
    "\n"
   ]
  },
  {
   "cell_type": "code",
   "execution_count": 4,
   "id": "67d922f1-ddf6-4d47-935d-543daefa6554",
   "metadata": {},
   "outputs": [
    {
     "data": {
      "text/plain": [
       "0      [55, 25, 95, 30, 18, 15, 28, 15, 95, 19, 29, 9...\n",
       "1      [43, 25, 25, 14, 95, 13, 11, 29, 15, 74, 95, 4...\n",
       "2      [43, 28, 15, 11, 30, 95, 16, 25, 28, 95, 30, 1...\n",
       "3      [56, 19, 15, 14, 95, 30, 25, 95, 13, 18, 11, 2...\n",
       "4      [56, 18, 15, 95, 23, 19, 13, 95, 19, 29, 95, 1...\n",
       "                             ...                        \n",
       "995    [56, 18, 15, 95, 29, 13, 28, 15, 15, 24, 95, 1...\n",
       "996    [59, 18, 11, 30, 95, 11, 95, 26, 19, 15, 13, 1...\n",
       "997    [45, 30, 15, 23, 95, 40, 25, 15, 29, 95, 50, 2...\n",
       "998    [56, 18, 15, 95, 25, 24, 22, 35, 95, 30, 18, 1...\n",
       "999    [61, 25, 31, 95, 13, 11, 24, 95, 24, 25, 30, 9...\n",
       "Name: raw_with_ids, Length: 1000, dtype: object"
      ]
     },
     "execution_count": 4,
     "metadata": {},
     "output_type": "execute_result"
    }
   ],
   "source": [
    "df['raw_with_ids']"
   ]
  },
  {
   "cell_type": "code",
   "execution_count": 5,
   "id": "3fb83977-da81-4f46-8956-7dc0151b8935",
   "metadata": {},
   "outputs": [],
   "source": [
    "# build model\n",
    "model = Sequential()\n",
    "model.add(Embedding(input_dim=len(string.printable) + 1, output_dim=EMBEDDING_VECTOR_LEN, input_length=MAX_TRX_LEN))\n",
    "model.add(LSTM(NUM_OF_LSTM_INTERNAL_UNITS, dropout=0.1, recurrent_dropout=0.1))\n",
    "model.add(Dense(1, activation='sigmoid'))\n"
   ]
  },
  {
   "cell_type": "code",
   "execution_count": 6,
   "id": "6e9a9ac7-cd23-4ca1-a049-f6114788e68f",
   "metadata": {},
   "outputs": [
    {
     "name": "stdout",
     "output_type": "stream",
     "text": [
      "Model: \"sequential\"\n",
      "_________________________________________________________________\n",
      " Layer (type)                Output Shape              Param #   \n",
      "=================================================================\n",
      " embedding (Embedding)       (None, 1000, 8)           808       \n",
      "                                                                 \n",
      " lstm (LSTM)                 (None, 20)                2320      \n",
      "                                                                 \n",
      " dense (Dense)               (None, 1)                 21        \n",
      "                                                                 \n",
      "=================================================================\n",
      "Total params: 3,149\n",
      "Trainable params: 3,149\n",
      "Non-trainable params: 0\n",
      "_________________________________________________________________\n",
      "None\n"
     ]
    },
    {
     "data": {
      "image/png": "[encoded data removed]",
      "text/plain": [
       "<IPython.core.display.Image object>"
      ]
     },
     "execution_count": 6,
     "metadata": {},
     "output_type": "execute_result"
    }
   ],
   "source": [
    "model.compile(loss='binary_crossentropy', optimizer='adam', metrics=['accuracy'])\n",
    "print(model.summary())\n",
    "plot_model(model, show_shapes=True, show_layer_names=True)\n"
   ]
  },
  {
   "cell_type": "code",
   "execution_count": 7,
   "id": "e67a7ae7-f2cc-466d-9e6e-dd83b93d2a6e",
   "metadata": {},
   "outputs": [
    {
     "name": "stdout",
     "output_type": "stream",
     "text": [
      "Epoch 1/20\n",
      "13/13 [==============================] - 7s 407ms/step - loss: 0.6936 - accuracy: 0.4625 - val_loss: 0.6931 - val_accuracy: 0.5000\n",
      "Epoch 2/20\n",
      "13/13 [==============================] - 5s 398ms/step - loss: 0.6929 - accuracy: 0.5150 - val_loss: 0.6937 - val_accuracy: 0.4650\n",
      "Epoch 3/20\n",
      "13/13 [==============================] - 5s 398ms/step - loss: 0.6926 - accuracy: 0.5088 - val_loss: 0.6940 - val_accuracy: 0.4650\n",
      "Epoch 4/20\n",
      "13/13 [==============================] - 5s 392ms/step - loss: 0.6922 - accuracy: 0.5088 - val_loss: 0.6940 - val_accuracy: 0.4650\n",
      "Epoch 5/20\n",
      "13/13 [==============================] - 6s 458ms/step - loss: 0.6914 - accuracy: 0.5138 - val_loss: 0.6937 - val_accuracy: 0.4850\n",
      "Epoch 6/20\n",
      "13/13 [==============================] - 6s 469ms/step - loss: 0.6900 - accuracy: 0.5312 - val_loss: 0.6917 - val_accuracy: 0.5050\n",
      "Epoch 7/20\n",
      "13/13 [==============================] - 6s 470ms/step - loss: 0.6852 - accuracy: 0.5700 - val_loss: 0.6896 - val_accuracy: 0.5250\n",
      "Epoch 8/20\n",
      "13/13 [==============================] - 6s 486ms/step - loss: 0.6797 - accuracy: 0.5650 - val_loss: 0.6889 - val_accuracy: 0.5250\n",
      "Epoch 9/20\n",
      "13/13 [==============================] - 6s 495ms/step - loss: 0.6732 - accuracy: 0.5875 - val_loss: 0.6848 - val_accuracy: 0.5200\n",
      "Epoch 10/20\n",
      "13/13 [==============================] - 7s 516ms/step - loss: 0.6690 - accuracy: 0.5962 - val_loss: 0.6697 - val_accuracy: 0.5900\n",
      "Epoch 11/20\n",
      "13/13 [==============================] - 7s 504ms/step - loss: 0.6581 - accuracy: 0.6237 - val_loss: 0.6751 - val_accuracy: 0.5650\n",
      "Epoch 12/20\n",
      "13/13 [==============================] - 7s 502ms/step - loss: 0.6507 - accuracy: 0.6363 - val_loss: 0.6521 - val_accuracy: 0.6300\n",
      "Epoch 13/20\n",
      "13/13 [==============================] - 6s 499ms/step - loss: 0.6424 - accuracy: 0.6438 - val_loss: 0.6499 - val_accuracy: 0.6150\n",
      "Epoch 14/20\n",
      "13/13 [==============================] - 7s 506ms/step - loss: 0.6325 - accuracy: 0.6450 - val_loss: 0.6361 - val_accuracy: 0.6550\n",
      "Epoch 15/20\n",
      "13/13 [==============================] - 6s 491ms/step - loss: 0.6381 - accuracy: 0.6288 - val_loss: 0.6516 - val_accuracy: 0.6000\n",
      "Epoch 16/20\n",
      "13/13 [==============================] - 6s 497ms/step - loss: 0.6320 - accuracy: 0.6438 - val_loss: 0.6424 - val_accuracy: 0.6150\n",
      "Epoch 17/20\n",
      "13/13 [==============================] - 7s 519ms/step - loss: 0.6254 - accuracy: 0.6762 - val_loss: 0.6635 - val_accuracy: 0.5950\n",
      "Epoch 18/20\n",
      "13/13 [==============================] - 7s 518ms/step - loss: 0.6303 - accuracy: 0.6612 - val_loss: 0.6438 - val_accuracy: 0.6200\n",
      "Epoch 19/20\n",
      "13/13 [==============================] - 6s 492ms/step - loss: 0.6192 - accuracy: 0.6737 - val_loss: 0.6343 - val_accuracy: 0.6300\n",
      "Epoch 20/20\n",
      "13/13 [==============================] - 7s 505ms/step - loss: 0.6134 - accuracy: 0.6662 - val_loss: 0.6457 - val_accuracy: 0.6200\n",
      "Accuracy: 0.6200000047683716\n",
      "CPU times: total: 10min 36s\n",
      "Wall time: 2min 5s\n"
     ]
    }
   ],
   "source": [
    "%%time\n",
    "model.fit(X_train, y_train, validation_data=(X_test, y_test), epochs=20, batch_size=64)\n",
    "scores = model.evaluate(X_test, y_test, verbose=0)\n",
    "print(f'Accuracy: {scores[1]}')\n"
   ]
  },
  {
   "cell_type": "markdown",
   "id": "6071424e-bd85-417e-b16a-72248a5be294",
   "metadata": {},
   "source": [
    "# Task\n",
    "\n",
    "### Improve this LSTM classifier by understanding and tweeking its parameters"
   ]
  },
  {
   "cell_type": "code",
   "execution_count": null,
   "id": "f7557674-d465-4796-8fa5-d4c165a52619",
   "metadata": {},
   "outputs": [],
   "source": []
  }
 ],
 "metadata": {
  "kernelspec": {
   "display_name": "Python 3 (ipykernel)",
   "language": "python",
   "name": "python3"
  },
  "language_info": {
   "codemirror_mode": {
    "name": "ipython",
    "version": 3
   },
   "file_extension": ".py",
   "mimetype": "text/x-python",
   "name": "python",
   "nbconvert_exporter": "python",
   "pygments_lexer": "ipython3",
   "version": "3.8.13"
  }
 },
 "nbformat": 4,
 "nbformat_minor": 5
}

{
 "cells": [
  {
   "cell_type": "code",
   "execution_count": 9,
   "id": "dfb83b53-9a8f-4572-ad6c-d2470caf3725",
   "metadata": {},
   "outputs": [],
   "source": [
    "#from gensim.models import Word2Vec \n",
    "import numpy as np\n",
    "import pandas as pd\n",
    "import gensim.downloader as api\n",
    "from sklearn.metrics.pairwise import cosine_similarity\n",
    "import matplotlib.pyplot as plt\n",
    "import seaborn as sb\n",
    "# https://code.google.com/archive/p/word2vec/\n",
    "# https://nlp.stanford.edu/projects/glove/"
   ]
  },
  {
   "cell_type": "markdown",
   "id": "76d28369-41c0-49e0-ac9a-9a23af6be54b",
   "metadata": {},
   "source": [
    "### GloVe (~100MB)"
   ]
  },
  {
   "cell_type": "code",
   "execution_count": 10,
   "id": "965ccdfb-3577-4a79-ba75-78c9022cdd80",
   "metadata": {},
   "outputs": [
    {
     "name": "stdout",
     "output_type": "stream",
     "text": [
      "CPU times: total: 21.2 s\n",
      "Wall time: 21.8 s\n"
     ]
    }
   ],
   "source": [
    "%%time\n",
    "glove_model = api.load('glove-twitter-25')\n"
   ]
  },
  {
   "cell_type": "code",
   "execution_count": 11,
   "id": "caf9779e-a64d-4c0a-9b88-753b57dd1371",
   "metadata": {},
   "outputs": [
    {
     "data": {
      "text/html": [
       "<div>\n",
       "<style scoped>\n",
       "    .dataframe tbody tr th:only-of-type {\n",
       "        vertical-align: middle;\n",
       "    }\n",
       "\n",
       "    .dataframe tbody tr th {\n",
       "        vertical-align: top;\n",
       "    }\n",
       "\n",
       "    .dataframe thead th {\n",
       "        text-align: right;\n",
       "    }\n",
       "</style>\n",
       "<table border=\"1\" class=\"dataframe\">\n",
       "  <thead>\n",
       "    <tr style=\"text-align: right;\">\n",
       "      <th></th>\n",
       "      <th>txt</th>\n",
       "      <th>sentiment</th>\n",
       "    </tr>\n",
       "  </thead>\n",
       "  <tbody>\n",
       "    <tr>\n",
       "      <th>0</th>\n",
       "      <td>Wow... Loved this place.</td>\n",
       "      <td>1</td>\n",
       "    </tr>\n",
       "    <tr>\n",
       "      <th>1</th>\n",
       "      <td>Crust is not good.</td>\n",
       "      <td>0</td>\n",
       "    </tr>\n",
       "    <tr>\n",
       "      <th>2</th>\n",
       "      <td>Not tasty and the texture was just nasty.</td>\n",
       "      <td>0</td>\n",
       "    </tr>\n",
       "    <tr>\n",
       "      <th>3</th>\n",
       "      <td>Stopped by during the late May bank holiday of...</td>\n",
       "      <td>1</td>\n",
       "    </tr>\n",
       "    <tr>\n",
       "      <th>4</th>\n",
       "      <td>The selection on the menu was great and so wer...</td>\n",
       "      <td>1</td>\n",
       "    </tr>\n",
       "    <tr>\n",
       "      <th>...</th>\n",
       "      <td>...</td>\n",
       "      <td>...</td>\n",
       "    </tr>\n",
       "    <tr>\n",
       "      <th>995</th>\n",
       "      <td>I think food should have flavor and texture an...</td>\n",
       "      <td>0</td>\n",
       "    </tr>\n",
       "    <tr>\n",
       "      <th>996</th>\n",
       "      <td>Appetite instantly gone.</td>\n",
       "      <td>0</td>\n",
       "    </tr>\n",
       "    <tr>\n",
       "      <th>997</th>\n",
       "      <td>Overall I was not impressed and would not go b...</td>\n",
       "      <td>0</td>\n",
       "    </tr>\n",
       "    <tr>\n",
       "      <th>998</th>\n",
       "      <td>The whole experience was underwhelming, and I ...</td>\n",
       "      <td>0</td>\n",
       "    </tr>\n",
       "    <tr>\n",
       "      <th>999</th>\n",
       "      <td>Then, as if I hadn't wasted enough of my life ...</td>\n",
       "      <td>0</td>\n",
       "    </tr>\n",
       "  </tbody>\n",
       "</table>\n",
       "<p>1000 rows × 2 columns</p>\n",
       "</div>"
      ],
      "text/plain": [
       "                                                   txt  sentiment\n",
       "0                             Wow... Loved this place.          1\n",
       "1                                   Crust is not good.          0\n",
       "2            Not tasty and the texture was just nasty.          0\n",
       "3    Stopped by during the late May bank holiday of...          1\n",
       "4    The selection on the menu was great and so wer...          1\n",
       "..                                                 ...        ...\n",
       "995  I think food should have flavor and texture an...          0\n",
       "996                           Appetite instantly gone.          0\n",
       "997  Overall I was not impressed and would not go b...          0\n",
       "998  The whole experience was underwhelming, and I ...          0\n",
       "999  Then, as if I hadn't wasted enough of my life ...          0\n",
       "\n",
       "[1000 rows x 2 columns]"
      ]
     },
     "execution_count": 11,
     "metadata": {},
     "output_type": "execute_result"
    }
   ],
   "source": [
    "df = pd.read_csv('yelp_labelled.txt', header=None, delimiter='\\t', names=['txt', 'sentiment'])\n",
    "df"
   ]
  },
  {
   "cell_type": "markdown",
   "id": "a142705c-b160-44c5-8c6c-c15fe584bddb",
   "metadata": {},
   "source": [
    "# Explore dataset, answer one or more of these questions:\n",
    "### 1. How many words are in each sentence?\n",
    "### 2. What is the size of each class?\n",
    "### 3. How many words are known to GloVe in each sentence?\n",
    "### 4. Does the dataset contain duplications?\n",
    "### 5. Assign a happy/sad sentiment score based on the word vectors\n",
    "### 6. How correlated is [4] with the labels?\n",
    "### 7. What words are overexpressed in the happy class?"
   ]
  },
  {
   "cell_type": "code",
   "execution_count": null,
   "id": "b839fdd8-7397-4d24-81f7-8c13808bbf2b",
   "metadata": {},
   "outputs": [],
   "source": []
  }
 ],
 "metadata": {
  "kernelspec": {
   "display_name": "Python 3",
   "language": "python",
   "name": "python3"
  },
  "language_info": {
   "codemirror_mode": {
    "name": "ipython",
    "version": 3
   },
   "file_extension": ".py",
   "mimetype": "text/x-python",
   "name": "python",
   "nbconvert_exporter": "python",
   "pygments_lexer": "ipython3",
   "version": "3.8.8"
  }
 },
 "nbformat": 4,
 "nbformat_minor": 5
}

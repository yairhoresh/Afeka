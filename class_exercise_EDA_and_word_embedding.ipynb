{
 "cells": [
  {
   "cell_type": "code",
   "execution_count": null,
   "id": "dfb83b53-9a8f-4572-ad6c-d2470caf3725",
   "metadata": {},
   "outputs": [],
   "source": [
    "#from gensim.models import Word2Vec \n",
    "import numpy as np\n",
    "import re\n",
    "import pandas as pd\n",
    "import gensim.downloader as api\n",
    "from sklearn.metrics.pairwise import cosine_similarity\n",
    "import matplotlib.pyplot as plt\n",
    "import seaborn as sb\n",
    "from sklearn.metrics import classification_report, confusion_matrix\n",
    "# https://code.google.com/archive/p/word2vec/\n",
    "# https://nlp.stanford.edu/projects/glove/"
   ]
  },
  {
   "cell_type": "markdown",
   "id": "76d28369-41c0-49e0-ac9a-9a23af6be54b",
   "metadata": {},
   "source": [
    "### GloVe (~100MB)"
   ]
  },
  {
   "cell_type": "code",
   "execution_count": null,
   "id": "965ccdfb-3577-4a79-ba75-78c9022cdd80",
   "metadata": {},
   "outputs": [
    {
     "name": "stdout",
     "output_type": "stream",
     "text": [
      "CPU times: total: 30.8 s\n",
      "Wall time: 31.3 s\n"
     ]
    }
   ],
   "source": [
    "%%time\n",
    "glove_model = api.load('glove-twitter-25')\n"
   ]
  },
  {
   "cell_type": "code",
   "execution_count": null,
   "id": "caf9779e-a64d-4c0a-9b88-753b57dd1371",
   "metadata": {},
   "outputs": [
    {
     "data": {
      "text/html": [
       "<div>\n",
       "<style scoped>\n",
       "    .dataframe tbody tr th:only-of-type {\n",
       "        vertical-align: middle;\n",
       "    }\n",
       "\n",
       "    .dataframe tbody tr th {\n",
       "        vertical-align: top;\n",
       "    }\n",
       "\n",
       "    .dataframe thead th {\n",
       "        text-align: right;\n",
       "    }\n",
       "</style>\n",
       "<table border=\"1\" class=\"dataframe\">\n",
       "  <thead>\n",
       "    <tr style=\"text-align: right;\">\n",
       "      <th></th>\n",
       "      <th>txt</th>\n",
       "      <th>sentiment</th>\n",
       "    </tr>\n",
       "  </thead>\n",
       "  <tbody>\n",
       "    <tr>\n",
       "      <th>0</th>\n",
       "      <td>Wow... Loved this place.</td>\n",
       "      <td>1</td>\n",
       "    </tr>\n",
       "    <tr>\n",
       "      <th>1</th>\n",
       "      <td>Crust is not good.</td>\n",
       "      <td>0</td>\n",
       "    </tr>\n",
       "    <tr>\n",
       "      <th>2</th>\n",
       "      <td>Not tasty and the texture was just nasty.</td>\n",
       "      <td>0</td>\n",
       "    </tr>\n",
       "    <tr>\n",
       "      <th>3</th>\n",
       "      <td>Stopped by during the late May bank holiday of...</td>\n",
       "      <td>1</td>\n",
       "    </tr>\n",
       "    <tr>\n",
       "      <th>4</th>\n",
       "      <td>The selection on the menu was great and so wer...</td>\n",
       "      <td>1</td>\n",
       "    </tr>\n",
       "    <tr>\n",
       "      <th>...</th>\n",
       "      <td>...</td>\n",
       "      <td>...</td>\n",
       "    </tr>\n",
       "    <tr>\n",
       "      <th>995</th>\n",
       "      <td>I think food should have flavor and texture an...</td>\n",
       "      <td>0</td>\n",
       "    </tr>\n",
       "    <tr>\n",
       "      <th>996</th>\n",
       "      <td>Appetite instantly gone.</td>\n",
       "      <td>0</td>\n",
       "    </tr>\n",
       "    <tr>\n",
       "      <th>997</th>\n",
       "      <td>Overall I was not impressed and would not go b...</td>\n",
       "      <td>0</td>\n",
       "    </tr>\n",
       "    <tr>\n",
       "      <th>998</th>\n",
       "      <td>The whole experience was underwhelming, and I ...</td>\n",
       "      <td>0</td>\n",
       "    </tr>\n",
       "    <tr>\n",
       "      <th>999</th>\n",
       "      <td>Then, as if I hadn't wasted enough of my life ...</td>\n",
       "      <td>0</td>\n",
       "    </tr>\n",
       "  </tbody>\n",
       "</table>\n",
       "<p>1000 rows × 2 columns</p>\n",
       "</div>"
      ],
      "text/plain": [
       "                                                   txt  sentiment\n",
       "0                             Wow... Loved this place.          1\n",
       "1                                   Crust is not good.          0\n",
       "2            Not tasty and the texture was just nasty.          0\n",
       "3    Stopped by during the late May bank holiday of...          1\n",
       "4    The selection on the menu was great and so wer...          1\n",
       "..                                                 ...        ...\n",
       "995  I think food should have flavor and texture an...          0\n",
       "996                           Appetite instantly gone.          0\n",
       "997  Overall I was not impressed and would not go b...          0\n",
       "998  The whole experience was underwhelming, and I ...          0\n",
       "999  Then, as if I hadn't wasted enough of my life ...          0\n",
       "\n",
       "[1000 rows x 2 columns]"
      ]
     },
     "execution_count": 3,
     "metadata": {},
     "output_type": "execute_result"
    }
   ],
   "source": [
    "df = pd.read_csv('yelp_labelled.txt', header=None, delimiter='\\t', names=['txt', 'sentiment'])\n",
    "df"
   ]
  },
  {
   "cell_type": "markdown",
   "id": "a142705c-b160-44c5-8c6c-c15fe584bddb",
   "metadata": {},
   "source": [
    "# Explore dataset, answer one or more of these questions:\n",
    "### 1. How many words are in each entry?\n",
    "### 2. Can you normalize words ending with n't (like hadn't, don't) to had not, do not etc?\n",
    "### 3. What is the size of each class?\n",
    "### 4. What is the longest and the shortest entry?\n",
    "### 5. How many words are known to GloVe in each entry?\n",
    "### 6. Does the dataset contains duplications? Empty values?\n",
    "### 7. Assign a good/bad sentiment score to each entry based on the word vectors\n",
    "### 8. How correlated is [7] with the 0/1 labels?"
   ]
  },
  {
   "cell_type": "code",
   "execution_count": null,
   "id": "ce1da87e-ce4e-4ad7-a6cb-4c0f63a52474",
   "metadata": {},
   "outputs": [],
   "source": []
  },
  {
   "cell_type": "markdown",
   "id": "6b9d2812-6769-444e-a72c-49e70fff860c",
   "metadata": {},
   "source": [
    "# Solutions"
   ]
  },
  {
   "cell_type": "markdown",
   "id": "5c0b2b95-329b-4e50-8018-e3554b22ae45",
   "metadata": {},
   "source": [
    "### 1. How many words are in each entry?"
   ]
  },
  {
   "cell_type": "code",
   "execution_count": 4,
   "id": "4841ac26-418c-43cc-9b23-e4b63c99268f",
   "metadata": {},
   "outputs": [
    {
     "data": {
      "text/html": [
       "<div>\n",
       "<style scoped>\n",
       "    .dataframe tbody tr th:only-of-type {\n",
       "        vertical-align: middle;\n",
       "    }\n",
       "\n",
       "    .dataframe tbody tr th {\n",
       "        vertical-align: top;\n",
       "    }\n",
       "\n",
       "    .dataframe thead th {\n",
       "        text-align: right;\n",
       "    }\n",
       "</style>\n",
       "<table border=\"1\" class=\"dataframe\">\n",
       "  <thead>\n",
       "    <tr style=\"text-align: right;\">\n",
       "      <th></th>\n",
       "      <th>txt</th>\n",
       "      <th>sentiment</th>\n",
       "      <th>num_of_words</th>\n",
       "    </tr>\n",
       "  </thead>\n",
       "  <tbody>\n",
       "    <tr>\n",
       "      <th>340</th>\n",
       "      <td>the spaghetti is nothing special whatsoever.</td>\n",
       "      <td>0</td>\n",
       "      <td>6</td>\n",
       "    </tr>\n",
       "    <tr>\n",
       "      <th>414</th>\n",
       "      <td>I can take a little bad service but the food s...</td>\n",
       "      <td>0</td>\n",
       "      <td>11</td>\n",
       "    </tr>\n",
       "    <tr>\n",
       "      <th>178</th>\n",
       "      <td>Not a weekly haunt, but definitely a place to ...</td>\n",
       "      <td>1</td>\n",
       "      <td>17</td>\n",
       "    </tr>\n",
       "    <tr>\n",
       "      <th>203</th>\n",
       "      <td>Great brunch spot.</td>\n",
       "      <td>1</td>\n",
       "      <td>3</td>\n",
       "    </tr>\n",
       "    <tr>\n",
       "      <th>602</th>\n",
       "      <td>They also have the best cheese crisp in town.</td>\n",
       "      <td>1</td>\n",
       "      <td>9</td>\n",
       "    </tr>\n",
       "  </tbody>\n",
       "</table>\n",
       "</div>"
      ],
      "text/plain": [
       "                                                   txt  sentiment  \\\n",
       "340       the spaghetti is nothing special whatsoever.          0   \n",
       "414  I can take a little bad service but the food s...          0   \n",
       "178  Not a weekly haunt, but definitely a place to ...          1   \n",
       "203                                 Great brunch spot.          1   \n",
       "602      They also have the best cheese crisp in town.          1   \n",
       "\n",
       "     num_of_words  \n",
       "340             6  \n",
       "414            11  \n",
       "178            17  \n",
       "203             3  \n",
       "602             9  "
      ]
     },
     "execution_count": 4,
     "metadata": {},
     "output_type": "execute_result"
    }
   ],
   "source": [
    "df['num_of_words'] = df['txt'].apply(lambda x : len(x.split(' ')))\n",
    "df.sample(5)"
   ]
  },
  {
   "cell_type": "markdown",
   "id": "7cb79644-34f9-4bc0-8886-3c7e1ce4c329",
   "metadata": {},
   "source": [
    "### 2. Can you normalize words ending with n't (like hadn't, don't) to had not, do not etc?"
   ]
  },
  {
   "cell_type": "code",
   "execution_count": 22,
   "id": "a1612307-6e63-479c-b059-7b1641747f76",
   "metadata": {},
   "outputs": [
    {
     "name": "stdout",
     "output_type": "stream",
     "text": [
      "n't was not wasn'ttttt\n"
     ]
    },
    {
     "data": {
      "text/html": [
       "<div>\n",
       "<style scoped>\n",
       "    .dataframe tbody tr th:only-of-type {\n",
       "        vertical-align: middle;\n",
       "    }\n",
       "\n",
       "    .dataframe tbody tr th {\n",
       "        vertical-align: top;\n",
       "    }\n",
       "\n",
       "    .dataframe thead th {\n",
       "        text-align: right;\n",
       "    }\n",
       "</style>\n",
       "<table border=\"1\" class=\"dataframe\">\n",
       "  <thead>\n",
       "    <tr style=\"text-align: right;\">\n",
       "      <th></th>\n",
       "      <th>txt</th>\n",
       "      <th>sentiment</th>\n",
       "      <th>num_of_words</th>\n",
       "      <th>normed_txt</th>\n",
       "      <th>known_to_glove</th>\n",
       "      <th>distance_to_good</th>\n",
       "      <th>distance_to_bad</th>\n",
       "      <th>afeka_sentiment</th>\n",
       "    </tr>\n",
       "  </thead>\n",
       "  <tbody>\n",
       "    <tr>\n",
       "      <th>220</th>\n",
       "      <td>The shower area is outside so you can only rin...</td>\n",
       "      <td>0</td>\n",
       "      <td>25</td>\n",
       "      <td>The shower area is outside so you can only rin...</td>\n",
       "      <td>20</td>\n",
       "      <td>0.934690</td>\n",
       "      <td>0.929481</td>\n",
       "      <td>1</td>\n",
       "    </tr>\n",
       "    <tr>\n",
       "      <th>466</th>\n",
       "      <td>I don't think I'll be running back to Carly's ...</td>\n",
       "      <td>0</td>\n",
       "      <td>13</td>\n",
       "      <td>I do not think I'll be running back to Carly's...</td>\n",
       "      <td>8</td>\n",
       "      <td>0.911829</td>\n",
       "      <td>0.934835</td>\n",
       "      <td>0</td>\n",
       "    </tr>\n",
       "    <tr>\n",
       "      <th>963</th>\n",
       "      <td>After all the rave reviews I couldn't wait to ...</td>\n",
       "      <td>0</td>\n",
       "      <td>13</td>\n",
       "      <td>After all the rave reviews I could not wait to...</td>\n",
       "      <td>8</td>\n",
       "      <td>0.922220</td>\n",
       "      <td>0.932657</td>\n",
       "      <td>0</td>\n",
       "    </tr>\n",
       "    <tr>\n",
       "      <th>994</th>\n",
       "      <td>I can't tell you how disappointed I was.</td>\n",
       "      <td>0</td>\n",
       "      <td>8</td>\n",
       "      <td>I ca not tell you how disappointed I was.</td>\n",
       "      <td>4</td>\n",
       "      <td>0.926724</td>\n",
       "      <td>0.920479</td>\n",
       "      <td>1</td>\n",
       "    </tr>\n",
       "    <tr>\n",
       "      <th>294</th>\n",
       "      <td>I didn't know pulled pork could be soooo delic...</td>\n",
       "      <td>1</td>\n",
       "      <td>9</td>\n",
       "      <td>I did not know pulled pork could be soooo deli...</td>\n",
       "      <td>6</td>\n",
       "      <td>0.912949</td>\n",
       "      <td>0.933921</td>\n",
       "      <td>0</td>\n",
       "    </tr>\n",
       "  </tbody>\n",
       "</table>\n",
       "</div>"
      ],
      "text/plain": [
       "                                                   txt  sentiment  \\\n",
       "220  The shower area is outside so you can only rin...          0   \n",
       "466  I don't think I'll be running back to Carly's ...          0   \n",
       "963  After all the rave reviews I couldn't wait to ...          0   \n",
       "994           I can't tell you how disappointed I was.          0   \n",
       "294  I didn't know pulled pork could be soooo delic...          1   \n",
       "\n",
       "     num_of_words                                         normed_txt  \\\n",
       "220            25  The shower area is outside so you can only rin...   \n",
       "466            13  I do not think I'll be running back to Carly's...   \n",
       "963            13  After all the rave reviews I could not wait to...   \n",
       "994             8          I ca not tell you how disappointed I was.   \n",
       "294             9  I did not know pulled pork could be soooo deli...   \n",
       "\n",
       "     known_to_glove  distance_to_good  distance_to_bad  afeka_sentiment  \n",
       "220              20          0.934690         0.929481                1  \n",
       "466               8          0.911829         0.934835                0  \n",
       "963               8          0.922220         0.932657                0  \n",
       "994               4          0.926724         0.920479                1  \n",
       "294               6          0.912949         0.933921                0  "
      ]
     },
     "execution_count": 22,
     "metadata": {},
     "output_type": "execute_result"
    }
   ],
   "source": [
    "# I used groups to avoid cases as xxx n't xxx and \\b for cases as wasn'tttt\n",
    "\n",
    "print(re.sub(r\"(\\w+)n't\\b\", r\"\\g<1> not\", r\"n't wasn't wasn'ttttt\"))\n",
    "\n",
    "df['normed_txt'] = df['txt'].apply(lambda x : re.sub(r\"(\\w+)n't\\b\", r\"\\g<1> not\", x))\n",
    "\n",
    "df[df.txt.str.contains(\"n't\")].sample(5)"
   ]
  },
  {
   "cell_type": "markdown",
   "id": "9ef57014-352a-48e9-8dbf-a0165ac1e559",
   "metadata": {},
   "source": [
    "### 3. What is the size of each class?"
   ]
  },
  {
   "cell_type": "code",
   "execution_count": 6,
   "id": "358938e4-85f0-4b1b-9894-0aefe779d221",
   "metadata": {},
   "outputs": [
    {
     "data": {
      "text/plain": [
       "1    500\n",
       "0    500\n",
       "Name: sentiment, dtype: int64"
      ]
     },
     "execution_count": 6,
     "metadata": {},
     "output_type": "execute_result"
    }
   ],
   "source": [
    "df.sentiment.value_counts()"
   ]
  },
  {
   "cell_type": "markdown",
   "id": "6a750c4e-74a9-4fdb-a680-ef4c4cc497f2",
   "metadata": {},
   "source": [
    "### 4. What is the longest and the shortest entry?"
   ]
  },
  {
   "cell_type": "code",
   "execution_count": 7,
   "id": "13c3f88e-6e65-48a6-9809-9121a6caaf35",
   "metadata": {},
   "outputs": [
    {
     "data": {
      "text/html": [
       "<div>\n",
       "<style scoped>\n",
       "    .dataframe tbody tr th:only-of-type {\n",
       "        vertical-align: middle;\n",
       "    }\n",
       "\n",
       "    .dataframe tbody tr th {\n",
       "        vertical-align: top;\n",
       "    }\n",
       "\n",
       "    .dataframe thead th {\n",
       "        text-align: right;\n",
       "    }\n",
       "</style>\n",
       "<table border=\"1\" class=\"dataframe\">\n",
       "  <thead>\n",
       "    <tr style=\"text-align: right;\">\n",
       "      <th></th>\n",
       "      <th>txt</th>\n",
       "      <th>sentiment</th>\n",
       "      <th>num_of_words</th>\n",
       "      <th>normed_txt</th>\n",
       "    </tr>\n",
       "  </thead>\n",
       "  <tbody>\n",
       "    <tr>\n",
       "      <th>165</th>\n",
       "      <td>DELICIOUS!!</td>\n",
       "      <td>1</td>\n",
       "      <td>1</td>\n",
       "      <td>DELICIOUS!!</td>\n",
       "    </tr>\n",
       "  </tbody>\n",
       "</table>\n",
       "</div>"
      ],
      "text/plain": [
       "             txt  sentiment  num_of_words   normed_txt\n",
       "165  DELICIOUS!!          1             1  DELICIOUS!!"
      ]
     },
     "execution_count": 7,
     "metadata": {},
     "output_type": "execute_result"
    }
   ],
   "source": [
    "# assuming num of words\n",
    "df.sort_values(by=['num_of_words']).head(1)\n"
   ]
  },
  {
   "cell_type": "code",
   "execution_count": 8,
   "id": "f03e248f-bee6-4bf2-9b74-4ee008121f9f",
   "metadata": {},
   "outputs": [
    {
     "data": {
      "text/html": [
       "<div>\n",
       "<style scoped>\n",
       "    .dataframe tbody tr th:only-of-type {\n",
       "        vertical-align: middle;\n",
       "    }\n",
       "\n",
       "    .dataframe tbody tr th {\n",
       "        vertical-align: top;\n",
       "    }\n",
       "\n",
       "    .dataframe thead th {\n",
       "        text-align: right;\n",
       "    }\n",
       "</style>\n",
       "<table border=\"1\" class=\"dataframe\">\n",
       "  <thead>\n",
       "    <tr style=\"text-align: right;\">\n",
       "      <th></th>\n",
       "      <th>txt</th>\n",
       "      <th>sentiment</th>\n",
       "      <th>num_of_words</th>\n",
       "      <th>normed_txt</th>\n",
       "    </tr>\n",
       "  </thead>\n",
       "  <tbody>\n",
       "    <tr>\n",
       "      <th>623</th>\n",
       "      <td>a drive thru means you do not want to wait aro...</td>\n",
       "      <td>0</td>\n",
       "      <td>32</td>\n",
       "      <td>a drive thru means you do not want to wait aro...</td>\n",
       "    </tr>\n",
       "  </tbody>\n",
       "</table>\n",
       "</div>"
      ],
      "text/plain": [
       "                                                   txt  sentiment  \\\n",
       "623  a drive thru means you do not want to wait aro...          0   \n",
       "\n",
       "     num_of_words                                         normed_txt  \n",
       "623            32  a drive thru means you do not want to wait aro...  "
      ]
     },
     "execution_count": 8,
     "metadata": {},
     "output_type": "execute_result"
    }
   ],
   "source": [
    "df.sort_values(by=['num_of_words']).tail(1)"
   ]
  },
  {
   "cell_type": "markdown",
   "id": "8b5622c9-ea7c-49ac-833f-d5ddd1f48413",
   "metadata": {},
   "source": [
    "### 5. How many words are known to GloVe in each entry?"
   ]
  },
  {
   "cell_type": "code",
   "execution_count": 9,
   "id": "09a24abe-a365-46a6-becb-2459813eaf8a",
   "metadata": {},
   "outputs": [],
   "source": [
    "df['known_to_glove'] = df['txt'].apply(lambda x : sum([1 for item in x.split(' ') if glove_model.__contains__(item)]))"
   ]
  },
  {
   "cell_type": "code",
   "execution_count": 10,
   "id": "a8dc8f31-9a44-42ba-bd3c-f957f1bada3a",
   "metadata": {},
   "outputs": [
    {
     "data": {
      "text/html": [
       "<div>\n",
       "<style scoped>\n",
       "    .dataframe tbody tr th:only-of-type {\n",
       "        vertical-align: middle;\n",
       "    }\n",
       "\n",
       "    .dataframe tbody tr th {\n",
       "        vertical-align: top;\n",
       "    }\n",
       "\n",
       "    .dataframe thead th {\n",
       "        text-align: right;\n",
       "    }\n",
       "</style>\n",
       "<table border=\"1\" class=\"dataframe\">\n",
       "  <thead>\n",
       "    <tr style=\"text-align: right;\">\n",
       "      <th></th>\n",
       "      <th>txt</th>\n",
       "      <th>sentiment</th>\n",
       "      <th>num_of_words</th>\n",
       "      <th>normed_txt</th>\n",
       "      <th>known_to_glove</th>\n",
       "    </tr>\n",
       "  </thead>\n",
       "  <tbody>\n",
       "    <tr>\n",
       "      <th>50</th>\n",
       "      <td>We ordered the duck rare and it was pink and t...</td>\n",
       "      <td>1</td>\n",
       "      <td>21</td>\n",
       "      <td>We ordered the duck rare and it was pink and t...</td>\n",
       "      <td>19</td>\n",
       "    </tr>\n",
       "    <tr>\n",
       "      <th>431</th>\n",
       "      <td>We loved the biscuits!!!</td>\n",
       "      <td>1</td>\n",
       "      <td>4</td>\n",
       "      <td>We loved the biscuits!!!</td>\n",
       "      <td>2</td>\n",
       "    </tr>\n",
       "    <tr>\n",
       "      <th>681</th>\n",
       "      <td>Your staff spends more time talking to themsel...</td>\n",
       "      <td>0</td>\n",
       "      <td>10</td>\n",
       "      <td>Your staff spends more time talking to themsel...</td>\n",
       "      <td>9</td>\n",
       "    </tr>\n",
       "    <tr>\n",
       "      <th>377</th>\n",
       "      <td>In an interesting part of town, this place is ...</td>\n",
       "      <td>1</td>\n",
       "      <td>10</td>\n",
       "      <td>In an interesting part of town, this place is ...</td>\n",
       "      <td>7</td>\n",
       "    </tr>\n",
       "    <tr>\n",
       "      <th>479</th>\n",
       "      <td>I LOVED it!</td>\n",
       "      <td>1</td>\n",
       "      <td>3</td>\n",
       "      <td>I LOVED it!</td>\n",
       "      <td>0</td>\n",
       "    </tr>\n",
       "  </tbody>\n",
       "</table>\n",
       "</div>"
      ],
      "text/plain": [
       "                                                   txt  sentiment  \\\n",
       "50   We ordered the duck rare and it was pink and t...          1   \n",
       "431                           We loved the biscuits!!!          1   \n",
       "681  Your staff spends more time talking to themsel...          0   \n",
       "377  In an interesting part of town, this place is ...          1   \n",
       "479                                        I LOVED it!          1   \n",
       "\n",
       "     num_of_words                                         normed_txt  \\\n",
       "50             21  We ordered the duck rare and it was pink and t...   \n",
       "431             4                           We loved the biscuits!!!   \n",
       "681            10  Your staff spends more time talking to themsel...   \n",
       "377            10  In an interesting part of town, this place is ...   \n",
       "479             3                                        I LOVED it!   \n",
       "\n",
       "     known_to_glove  \n",
       "50               19  \n",
       "431               2  \n",
       "681               9  \n",
       "377               7  \n",
       "479               0  "
      ]
     },
     "execution_count": 10,
     "metadata": {},
     "output_type": "execute_result"
    }
   ],
   "source": [
    "df.sample(5)"
   ]
  },
  {
   "cell_type": "markdown",
   "id": "54b720f1-7ad0-4547-a51d-04560ee8e9cc",
   "metadata": {},
   "source": [
    "### 6. Does the dataset contains duplications? Empty values?"
   ]
  },
  {
   "cell_type": "code",
   "execution_count": 11,
   "id": "8be92f8e-61f5-4fb1-a1eb-bdc7999d2ea7",
   "metadata": {},
   "outputs": [
    {
     "data": {
      "text/plain": [
       "4"
      ]
     },
     "execution_count": 11,
     "metadata": {},
     "output_type": "execute_result"
    }
   ],
   "source": [
    "df.duplicated(subset='txt', keep='first').sum()"
   ]
  },
  {
   "cell_type": "code",
   "execution_count": 12,
   "id": "26be6360-fd6a-4114-b424-f2692cd0635b",
   "metadata": {},
   "outputs": [
    {
     "data": {
      "text/html": [
       "<div>\n",
       "<style scoped>\n",
       "    .dataframe tbody tr th:only-of-type {\n",
       "        vertical-align: middle;\n",
       "    }\n",
       "\n",
       "    .dataframe tbody tr th {\n",
       "        vertical-align: top;\n",
       "    }\n",
       "\n",
       "    .dataframe thead th {\n",
       "        text-align: right;\n",
       "    }\n",
       "</style>\n",
       "<table border=\"1\" class=\"dataframe\">\n",
       "  <thead>\n",
       "    <tr style=\"text-align: right;\">\n",
       "      <th></th>\n",
       "      <th>txt</th>\n",
       "      <th>sentiment</th>\n",
       "      <th>num_of_words</th>\n",
       "      <th>normed_txt</th>\n",
       "      <th>known_to_glove</th>\n",
       "    </tr>\n",
       "  </thead>\n",
       "  <tbody>\n",
       "    <tr>\n",
       "      <th>334</th>\n",
       "      <td>I love this place.</td>\n",
       "      <td>1</td>\n",
       "      <td>4</td>\n",
       "      <td>I love this place.</td>\n",
       "      <td>2</td>\n",
       "    </tr>\n",
       "    <tr>\n",
       "      <th>380</th>\n",
       "      <td>I won't be back.</td>\n",
       "      <td>0</td>\n",
       "      <td>4</td>\n",
       "      <td>I wo not be back.</td>\n",
       "      <td>2</td>\n",
       "    </tr>\n",
       "    <tr>\n",
       "      <th>383</th>\n",
       "      <td>The food was terrible.</td>\n",
       "      <td>0</td>\n",
       "      <td>4</td>\n",
       "      <td>The food was terrible.</td>\n",
       "      <td>2</td>\n",
       "    </tr>\n",
       "    <tr>\n",
       "      <th>505</th>\n",
       "      <td>I would not recommend this place.</td>\n",
       "      <td>0</td>\n",
       "      <td>6</td>\n",
       "      <td>I would not recommend this place.</td>\n",
       "      <td>4</td>\n",
       "    </tr>\n",
       "    <tr>\n",
       "      <th>814</th>\n",
       "      <td>I love this place.</td>\n",
       "      <td>1</td>\n",
       "      <td>4</td>\n",
       "      <td>I love this place.</td>\n",
       "      <td>2</td>\n",
       "    </tr>\n",
       "    <tr>\n",
       "      <th>816</th>\n",
       "      <td>The food was terrible.</td>\n",
       "      <td>0</td>\n",
       "      <td>4</td>\n",
       "      <td>The food was terrible.</td>\n",
       "      <td>2</td>\n",
       "    </tr>\n",
       "    <tr>\n",
       "      <th>843</th>\n",
       "      <td>I won't be back.</td>\n",
       "      <td>0</td>\n",
       "      <td>4</td>\n",
       "      <td>I wo not be back.</td>\n",
       "      <td>2</td>\n",
       "    </tr>\n",
       "    <tr>\n",
       "      <th>846</th>\n",
       "      <td>I would not recommend this place.</td>\n",
       "      <td>0</td>\n",
       "      <td>6</td>\n",
       "      <td>I would not recommend this place.</td>\n",
       "      <td>4</td>\n",
       "    </tr>\n",
       "  </tbody>\n",
       "</table>\n",
       "</div>"
      ],
      "text/plain": [
       "                                   txt  sentiment  num_of_words  \\\n",
       "334                 I love this place.          1             4   \n",
       "380                   I won't be back.          0             4   \n",
       "383             The food was terrible.          0             4   \n",
       "505  I would not recommend this place.          0             6   \n",
       "814                 I love this place.          1             4   \n",
       "816             The food was terrible.          0             4   \n",
       "843                   I won't be back.          0             4   \n",
       "846  I would not recommend this place.          0             6   \n",
       "\n",
       "                            normed_txt  known_to_glove  \n",
       "334                 I love this place.               2  \n",
       "380                  I wo not be back.               2  \n",
       "383             The food was terrible.               2  \n",
       "505  I would not recommend this place.               4  \n",
       "814                 I love this place.               2  \n",
       "816             The food was terrible.               2  \n",
       "843                  I wo not be back.               2  \n",
       "846  I would not recommend this place.               4  "
      ]
     },
     "execution_count": 12,
     "metadata": {},
     "output_type": "execute_result"
    }
   ],
   "source": [
    "df[df.duplicated(subset='txt', keep=False)]"
   ]
  },
  {
   "cell_type": "code",
   "execution_count": 13,
   "id": "78a1aa6f-ece7-4a02-87d4-5bf6ec056ee3",
   "metadata": {},
   "outputs": [
    {
     "data": {
      "text/plain": [
       "I would not recommend this place.                                                                                                         2\n",
       "I love this place.                                                                                                                        2\n",
       "I won't be back.                                                                                                                          2\n",
       "The food was terrible.                                                                                                                    2\n",
       "Wow... Loved this place.                                                                                                                  1\n",
       "                                                                                                                                         ..\n",
       "The burger... I got the \"Gold Standard\" a $17 burger and was kind of disappointed.                                                        1\n",
       "OMG, the food was delicioso!                                                                                                              1\n",
       "There is nothing authentic about this place.                                                                                              1\n",
       "the spaghetti is nothing special whatsoever.                                                                                              1\n",
       "Then, as if I hadn't wasted enough of my life there, they poured salt in the wound by drawing out the time it took to bring the check.    1\n",
       "Name: txt, Length: 996, dtype: int64"
      ]
     },
     "execution_count": 13,
     "metadata": {},
     "output_type": "execute_result"
    }
   ],
   "source": [
    "# another way to find the duplicates...\n",
    "df.txt.value_counts()"
   ]
  },
  {
   "cell_type": "code",
   "execution_count": 14,
   "id": "242cc0fd-afed-48db-a75f-8e98d36b3747",
   "metadata": {},
   "outputs": [
    {
     "data": {
      "text/plain": [
       "0"
      ]
     },
     "execution_count": 14,
     "metadata": {},
     "output_type": "execute_result"
    }
   ],
   "source": [
    "# empty texts\n",
    "sum(df['txt'].apply(len) == 0)"
   ]
  },
  {
   "cell_type": "markdown",
   "id": "8a563573-5edc-4538-bfb6-4c3bdbf90de2",
   "metadata": {},
   "source": [
    "### 7. Assign a good/bad sentiment score to each entry based on the word vectors"
   ]
  },
  {
   "cell_type": "code",
   "execution_count": 15,
   "id": "eb268939-d9c2-456b-9790-2926ce972e4e",
   "metadata": {},
   "outputs": [],
   "source": [
    "def sentence_distance_from_word(good_or_bad, sentence):\n",
    "    # we define sentence disance as the highest similarity of any of the words in the sentecnce with the target word.\n",
    "    \n",
    "    # will tokenizing - remover non-letters and lowercase the word\n",
    "    list_of_word_vectors = [glove_model[item] for item in re.split('\\W+', sentence.lower()) if glove_model.__contains__(item)]\n",
    "    \n",
    "    if len(list_of_word_vectors) == 0:\n",
    "        return 0\n",
    "    \n",
    "    # return the closest vector\n",
    "    return max([cosine_similarity(X=[vector], Y=[glove_model[good_or_bad]])[0][0] for vector in list_of_word_vectors])\n"
   ]
  },
  {
   "cell_type": "code",
   "execution_count": 16,
   "id": "a648e743-aaf7-4476-99fe-616f4c6813ec",
   "metadata": {},
   "outputs": [
    {
     "data": {
      "text/plain": [
       "0.9234228"
      ]
     },
     "execution_count": 16,
     "metadata": {},
     "output_type": "execute_result"
    }
   ],
   "source": [
    "sentence_distance_from_word('good', 'be best')"
   ]
  },
  {
   "cell_type": "code",
   "execution_count": 17,
   "id": "58672dc3-b71a-4252-abe3-6e57229f8315",
   "metadata": {},
   "outputs": [
    {
     "name": "stdout",
     "output_type": "stream",
     "text": [
      "CPU times: total: 4.83 s\n",
      "Wall time: 4.82 s\n"
     ]
    }
   ],
   "source": [
    "%%time\n",
    "df['distance_to_good'] = df['txt'].apply(lambda x : sentence_distance_from_word('good', x))\n",
    "\n",
    "df['distance_to_bad'] = df['txt'].apply(lambda x : sentence_distance_from_word('bad', x))"
   ]
  },
  {
   "cell_type": "code",
   "execution_count": 18,
   "id": "351d89e8-88d1-4471-acb2-5d5ac5778698",
   "metadata": {},
   "outputs": [
    {
     "data": {
      "text/html": [
       "<div>\n",
       "<style scoped>\n",
       "    .dataframe tbody tr th:only-of-type {\n",
       "        vertical-align: middle;\n",
       "    }\n",
       "\n",
       "    .dataframe tbody tr th {\n",
       "        vertical-align: top;\n",
       "    }\n",
       "\n",
       "    .dataframe thead th {\n",
       "        text-align: right;\n",
       "    }\n",
       "</style>\n",
       "<table border=\"1\" class=\"dataframe\">\n",
       "  <thead>\n",
       "    <tr style=\"text-align: right;\">\n",
       "      <th></th>\n",
       "      <th>txt</th>\n",
       "      <th>sentiment</th>\n",
       "      <th>num_of_words</th>\n",
       "      <th>normed_txt</th>\n",
       "      <th>known_to_glove</th>\n",
       "      <th>distance_to_good</th>\n",
       "      <th>distance_to_bad</th>\n",
       "    </tr>\n",
       "  </thead>\n",
       "  <tbody>\n",
       "    <tr>\n",
       "      <th>0</th>\n",
       "      <td>Wow... Loved this place.</td>\n",
       "      <td>1</td>\n",
       "      <td>4</td>\n",
       "      <td>Wow... Loved this place.</td>\n",
       "      <td>1</td>\n",
       "      <td>0.938756</td>\n",
       "      <td>0.922743</td>\n",
       "    </tr>\n",
       "    <tr>\n",
       "      <th>1</th>\n",
       "      <td>Crust is not good.</td>\n",
       "      <td>0</td>\n",
       "      <td>4</td>\n",
       "      <td>Crust is not good.</td>\n",
       "      <td>3</td>\n",
       "      <td>1.000000</td>\n",
       "      <td>0.929481</td>\n",
       "    </tr>\n",
       "    <tr>\n",
       "      <th>2</th>\n",
       "      <td>Not tasty and the texture was just nasty.</td>\n",
       "      <td>0</td>\n",
       "      <td>8</td>\n",
       "      <td>Not tasty and the texture was just nasty.</td>\n",
       "      <td>6</td>\n",
       "      <td>0.891364</td>\n",
       "      <td>0.929481</td>\n",
       "    </tr>\n",
       "    <tr>\n",
       "      <th>3</th>\n",
       "      <td>Stopped by during the late May bank holiday of...</td>\n",
       "      <td>1</td>\n",
       "      <td>15</td>\n",
       "      <td>Stopped by during the late May bank holiday of...</td>\n",
       "      <td>11</td>\n",
       "      <td>0.935348</td>\n",
       "      <td>0.936768</td>\n",
       "    </tr>\n",
       "    <tr>\n",
       "      <th>4</th>\n",
       "      <td>The selection on the menu was great and so wer...</td>\n",
       "      <td>1</td>\n",
       "      <td>12</td>\n",
       "      <td>The selection on the menu was great and so wer...</td>\n",
       "      <td>10</td>\n",
       "      <td>0.937852</td>\n",
       "      <td>0.911714</td>\n",
       "    </tr>\n",
       "    <tr>\n",
       "      <th>...</th>\n",
       "      <td>...</td>\n",
       "      <td>...</td>\n",
       "      <td>...</td>\n",
       "      <td>...</td>\n",
       "      <td>...</td>\n",
       "      <td>...</td>\n",
       "      <td>...</td>\n",
       "    </tr>\n",
       "    <tr>\n",
       "      <th>995</th>\n",
       "      <td>I think food should have flavor and texture an...</td>\n",
       "      <td>0</td>\n",
       "      <td>12</td>\n",
       "      <td>I think food should have flavor and texture an...</td>\n",
       "      <td>10</td>\n",
       "      <td>0.911711</td>\n",
       "      <td>0.934835</td>\n",
       "    </tr>\n",
       "    <tr>\n",
       "      <th>996</th>\n",
       "      <td>Appetite instantly gone.</td>\n",
       "      <td>0</td>\n",
       "      <td>3</td>\n",
       "      <td>Appetite instantly gone.</td>\n",
       "      <td>1</td>\n",
       "      <td>0.814328</td>\n",
       "      <td>0.867360</td>\n",
       "    </tr>\n",
       "    <tr>\n",
       "      <th>997</th>\n",
       "      <td>Overall I was not impressed and would not go b...</td>\n",
       "      <td>0</td>\n",
       "      <td>10</td>\n",
       "      <td>Overall I was not impressed and would not go b...</td>\n",
       "      <td>8</td>\n",
       "      <td>0.891364</td>\n",
       "      <td>0.929481</td>\n",
       "    </tr>\n",
       "    <tr>\n",
       "      <th>998</th>\n",
       "      <td>The whole experience was underwhelming, and I ...</td>\n",
       "      <td>0</td>\n",
       "      <td>16</td>\n",
       "      <td>The whole experience was underwhelming, and I ...</td>\n",
       "      <td>10</td>\n",
       "      <td>0.916969</td>\n",
       "      <td>0.934835</td>\n",
       "    </tr>\n",
       "    <tr>\n",
       "      <th>999</th>\n",
       "      <td>Then, as if I hadn't wasted enough of my life ...</td>\n",
       "      <td>0</td>\n",
       "      <td>28</td>\n",
       "      <td>Then, as if I had not wasted enough of my life...</td>\n",
       "      <td>23</td>\n",
       "      <td>0.935348</td>\n",
       "      <td>0.936768</td>\n",
       "    </tr>\n",
       "  </tbody>\n",
       "</table>\n",
       "<p>1000 rows × 7 columns</p>\n",
       "</div>"
      ],
      "text/plain": [
       "                                                   txt  sentiment  \\\n",
       "0                             Wow... Loved this place.          1   \n",
       "1                                   Crust is not good.          0   \n",
       "2            Not tasty and the texture was just nasty.          0   \n",
       "3    Stopped by during the late May bank holiday of...          1   \n",
       "4    The selection on the menu was great and so wer...          1   \n",
       "..                                                 ...        ...   \n",
       "995  I think food should have flavor and texture an...          0   \n",
       "996                           Appetite instantly gone.          0   \n",
       "997  Overall I was not impressed and would not go b...          0   \n",
       "998  The whole experience was underwhelming, and I ...          0   \n",
       "999  Then, as if I hadn't wasted enough of my life ...          0   \n",
       "\n",
       "     num_of_words                                         normed_txt  \\\n",
       "0               4                           Wow... Loved this place.   \n",
       "1               4                                 Crust is not good.   \n",
       "2               8          Not tasty and the texture was just nasty.   \n",
       "3              15  Stopped by during the late May bank holiday of...   \n",
       "4              12  The selection on the menu was great and so wer...   \n",
       "..            ...                                                ...   \n",
       "995            12  I think food should have flavor and texture an...   \n",
       "996             3                           Appetite instantly gone.   \n",
       "997            10  Overall I was not impressed and would not go b...   \n",
       "998            16  The whole experience was underwhelming, and I ...   \n",
       "999            28  Then, as if I had not wasted enough of my life...   \n",
       "\n",
       "     known_to_glove  distance_to_good  distance_to_bad  \n",
       "0                 1          0.938756         0.922743  \n",
       "1                 3          1.000000         0.929481  \n",
       "2                 6          0.891364         0.929481  \n",
       "3                11          0.935348         0.936768  \n",
       "4                10          0.937852         0.911714  \n",
       "..              ...               ...              ...  \n",
       "995              10          0.911711         0.934835  \n",
       "996               1          0.814328         0.867360  \n",
       "997               8          0.891364         0.929481  \n",
       "998              10          0.916969         0.934835  \n",
       "999              23          0.935348         0.936768  \n",
       "\n",
       "[1000 rows x 7 columns]"
      ]
     },
     "execution_count": 18,
     "metadata": {},
     "output_type": "execute_result"
    }
   ],
   "source": [
    "df"
   ]
  },
  {
   "cell_type": "code",
   "execution_count": 19,
   "id": "7481a722-eb30-4268-93df-1c73cb063b7e",
   "metadata": {},
   "outputs": [],
   "source": [
    "df['afeka_sentiment'] = (df['distance_to_good'] > df['distance_to_bad']).astype(int)"
   ]
  },
  {
   "cell_type": "code",
   "execution_count": 20,
   "id": "d428d52e-ea62-4437-b6d6-ca5e8c5c626f",
   "metadata": {},
   "outputs": [
    {
     "data": {
      "text/html": [
       "<div>\n",
       "<style scoped>\n",
       "    .dataframe tbody tr th:only-of-type {\n",
       "        vertical-align: middle;\n",
       "    }\n",
       "\n",
       "    .dataframe tbody tr th {\n",
       "        vertical-align: top;\n",
       "    }\n",
       "\n",
       "    .dataframe thead th {\n",
       "        text-align: right;\n",
       "    }\n",
       "</style>\n",
       "<table border=\"1\" class=\"dataframe\">\n",
       "  <thead>\n",
       "    <tr style=\"text-align: right;\">\n",
       "      <th></th>\n",
       "      <th>txt</th>\n",
       "      <th>sentiment</th>\n",
       "      <th>num_of_words</th>\n",
       "      <th>normed_txt</th>\n",
       "      <th>known_to_glove</th>\n",
       "      <th>distance_to_good</th>\n",
       "      <th>distance_to_bad</th>\n",
       "      <th>afeka_sentiment</th>\n",
       "    </tr>\n",
       "  </thead>\n",
       "  <tbody>\n",
       "    <tr>\n",
       "      <th>0</th>\n",
       "      <td>Wow... Loved this place.</td>\n",
       "      <td>1</td>\n",
       "      <td>4</td>\n",
       "      <td>Wow... Loved this place.</td>\n",
       "      <td>1</td>\n",
       "      <td>0.938756</td>\n",
       "      <td>0.922743</td>\n",
       "      <td>1</td>\n",
       "    </tr>\n",
       "    <tr>\n",
       "      <th>1</th>\n",
       "      <td>Crust is not good.</td>\n",
       "      <td>0</td>\n",
       "      <td>4</td>\n",
       "      <td>Crust is not good.</td>\n",
       "      <td>3</td>\n",
       "      <td>1.000000</td>\n",
       "      <td>0.929481</td>\n",
       "      <td>1</td>\n",
       "    </tr>\n",
       "    <tr>\n",
       "      <th>2</th>\n",
       "      <td>Not tasty and the texture was just nasty.</td>\n",
       "      <td>0</td>\n",
       "      <td>8</td>\n",
       "      <td>Not tasty and the texture was just nasty.</td>\n",
       "      <td>6</td>\n",
       "      <td>0.891364</td>\n",
       "      <td>0.929481</td>\n",
       "      <td>0</td>\n",
       "    </tr>\n",
       "    <tr>\n",
       "      <th>3</th>\n",
       "      <td>Stopped by during the late May bank holiday of...</td>\n",
       "      <td>1</td>\n",
       "      <td>15</td>\n",
       "      <td>Stopped by during the late May bank holiday of...</td>\n",
       "      <td>11</td>\n",
       "      <td>0.935348</td>\n",
       "      <td>0.936768</td>\n",
       "      <td>0</td>\n",
       "    </tr>\n",
       "    <tr>\n",
       "      <th>4</th>\n",
       "      <td>The selection on the menu was great and so wer...</td>\n",
       "      <td>1</td>\n",
       "      <td>12</td>\n",
       "      <td>The selection on the menu was great and so wer...</td>\n",
       "      <td>10</td>\n",
       "      <td>0.937852</td>\n",
       "      <td>0.911714</td>\n",
       "      <td>1</td>\n",
       "    </tr>\n",
       "    <tr>\n",
       "      <th>...</th>\n",
       "      <td>...</td>\n",
       "      <td>...</td>\n",
       "      <td>...</td>\n",
       "      <td>...</td>\n",
       "      <td>...</td>\n",
       "      <td>...</td>\n",
       "      <td>...</td>\n",
       "      <td>...</td>\n",
       "    </tr>\n",
       "    <tr>\n",
       "      <th>995</th>\n",
       "      <td>I think food should have flavor and texture an...</td>\n",
       "      <td>0</td>\n",
       "      <td>12</td>\n",
       "      <td>I think food should have flavor and texture an...</td>\n",
       "      <td>10</td>\n",
       "      <td>0.911711</td>\n",
       "      <td>0.934835</td>\n",
       "      <td>0</td>\n",
       "    </tr>\n",
       "    <tr>\n",
       "      <th>996</th>\n",
       "      <td>Appetite instantly gone.</td>\n",
       "      <td>0</td>\n",
       "      <td>3</td>\n",
       "      <td>Appetite instantly gone.</td>\n",
       "      <td>1</td>\n",
       "      <td>0.814328</td>\n",
       "      <td>0.867360</td>\n",
       "      <td>0</td>\n",
       "    </tr>\n",
       "    <tr>\n",
       "      <th>997</th>\n",
       "      <td>Overall I was not impressed and would not go b...</td>\n",
       "      <td>0</td>\n",
       "      <td>10</td>\n",
       "      <td>Overall I was not impressed and would not go b...</td>\n",
       "      <td>8</td>\n",
       "      <td>0.891364</td>\n",
       "      <td>0.929481</td>\n",
       "      <td>0</td>\n",
       "    </tr>\n",
       "    <tr>\n",
       "      <th>998</th>\n",
       "      <td>The whole experience was underwhelming, and I ...</td>\n",
       "      <td>0</td>\n",
       "      <td>16</td>\n",
       "      <td>The whole experience was underwhelming, and I ...</td>\n",
       "      <td>10</td>\n",
       "      <td>0.916969</td>\n",
       "      <td>0.934835</td>\n",
       "      <td>0</td>\n",
       "    </tr>\n",
       "    <tr>\n",
       "      <th>999</th>\n",
       "      <td>Then, as if I hadn't wasted enough of my life ...</td>\n",
       "      <td>0</td>\n",
       "      <td>28</td>\n",
       "      <td>Then, as if I had not wasted enough of my life...</td>\n",
       "      <td>23</td>\n",
       "      <td>0.935348</td>\n",
       "      <td>0.936768</td>\n",
       "      <td>0</td>\n",
       "    </tr>\n",
       "  </tbody>\n",
       "</table>\n",
       "<p>1000 rows × 8 columns</p>\n",
       "</div>"
      ],
      "text/plain": [
       "                                                   txt  sentiment  \\\n",
       "0                             Wow... Loved this place.          1   \n",
       "1                                   Crust is not good.          0   \n",
       "2            Not tasty and the texture was just nasty.          0   \n",
       "3    Stopped by during the late May bank holiday of...          1   \n",
       "4    The selection on the menu was great and so wer...          1   \n",
       "..                                                 ...        ...   \n",
       "995  I think food should have flavor and texture an...          0   \n",
       "996                           Appetite instantly gone.          0   \n",
       "997  Overall I was not impressed and would not go b...          0   \n",
       "998  The whole experience was underwhelming, and I ...          0   \n",
       "999  Then, as if I hadn't wasted enough of my life ...          0   \n",
       "\n",
       "     num_of_words                                         normed_txt  \\\n",
       "0               4                           Wow... Loved this place.   \n",
       "1               4                                 Crust is not good.   \n",
       "2               8          Not tasty and the texture was just nasty.   \n",
       "3              15  Stopped by during the late May bank holiday of...   \n",
       "4              12  The selection on the menu was great and so wer...   \n",
       "..            ...                                                ...   \n",
       "995            12  I think food should have flavor and texture an...   \n",
       "996             3                           Appetite instantly gone.   \n",
       "997            10  Overall I was not impressed and would not go b...   \n",
       "998            16  The whole experience was underwhelming, and I ...   \n",
       "999            28  Then, as if I had not wasted enough of my life...   \n",
       "\n",
       "     known_to_glove  distance_to_good  distance_to_bad  afeka_sentiment  \n",
       "0                 1          0.938756         0.922743                1  \n",
       "1                 3          1.000000         0.929481                1  \n",
       "2                 6          0.891364         0.929481                0  \n",
       "3                11          0.935348         0.936768                0  \n",
       "4                10          0.937852         0.911714                1  \n",
       "..              ...               ...              ...              ...  \n",
       "995              10          0.911711         0.934835                0  \n",
       "996               1          0.814328         0.867360                0  \n",
       "997               8          0.891364         0.929481                0  \n",
       "998              10          0.916969         0.934835                0  \n",
       "999              23          0.935348         0.936768                0  \n",
       "\n",
       "[1000 rows x 8 columns]"
      ]
     },
     "execution_count": 20,
     "metadata": {},
     "output_type": "execute_result"
    }
   ],
   "source": [
    "df"
   ]
  },
  {
   "cell_type": "markdown",
   "id": "980a3671-70ad-49b6-b777-b872725418c0",
   "metadata": {},
   "source": [
    "### 8. How correlated is [7] with the 0/1 labels?"
   ]
  },
  {
   "cell_type": "code",
   "execution_count": 21,
   "id": "519cac79-1ae0-4af1-a242-ebbbc60b6f73",
   "metadata": {},
   "outputs": [
    {
     "name": "stdout",
     "output_type": "stream",
     "text": [
      "              precision    recall  f1-score   support\n",
      "\n",
      "           0       0.66      0.56      0.61       500\n",
      "           1       0.62      0.72      0.66       500\n",
      "\n",
      "    accuracy                           0.64      1000\n",
      "   macro avg       0.64      0.64      0.63      1000\n",
      "weighted avg       0.64      0.64      0.63      1000\n",
      "\n",
      "[[279 221]\n",
      " [142 358]]\n"
     ]
    }
   ],
   "source": [
    "print(classification_report(df['sentiment'], df['afeka_sentiment']))\n",
    "\n",
    "print(confusion_matrix(df['sentiment'], df['afeka_sentiment']))"
   ]
  },
  {
   "cell_type": "code",
   "execution_count": null,
   "id": "a900ae4c-937d-440a-a2b8-3faad9a06c82",
   "metadata": {},
   "outputs": [],
   "source": []
  },
  {
   "cell_type": "code",
   "execution_count": null,
   "id": "9a51e7c6-f1eb-440c-98e4-509292118755",
   "metadata": {},
   "outputs": [],
   "source": [
    "lst = [['x', 5], ['y', 5], ['g', 5], ['u', 2]]\n"
   ]
  },
  {
   "cell_type": "code",
   "execution_count": null,
   "id": "a64bfd74-f0e1-447c-b73d-0721330bc386",
   "metadata": {},
   "outputs": [
    {
     "data": {
      "text/plain": [
       "{'x': 5, 'y': 5, 'g': 5, 'u': 2}"
      ]
     },
     "execution_count": 5,
     "metadata": {},
     "output_type": "execute_result"
    }
   ],
   "source": [
    "dict(zip([x[0] for x in lst], [x[1] for x in lst]))"
   ]
  },
  {
   "cell_type": "code",
   "execution_count": null,
   "id": "276d5db5-1379-46c3-bdb8-391b9bf47eca",
   "metadata": {},
   "outputs": [],
   "source": []
  }
 ],
 "metadata": {
  "kernelspec": {
   "display_name": "Python 3",
   "language": "python",
   "name": "python3"
  },
  "language_info": {
   "codemirror_mode": {
    "name": "ipython",
    "version": 3
   },
   "file_extension": ".py",
   "mimetype": "text/x-python",
   "name": "python",
   "nbconvert_exporter": "python",
   "pygments_lexer": "ipython3",
   "version": "3.8.8"
  }
 },
 "nbformat": 4,
 "nbformat_minor": 5
}
